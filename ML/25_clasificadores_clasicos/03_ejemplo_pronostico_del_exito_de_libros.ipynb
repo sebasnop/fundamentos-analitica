{
  "cells": [
    {
      "cell_type": "markdown",
      "metadata": {
        "id": "9uxiYzcG-ewC"
      },
      "source": [
        "Pronóstico de la popularidad de libros\n",
        "==="
      ]
    },
    {
      "cell_type": "markdown",
      "metadata": {
        "id": "Ap22jtfm-ewE"
      },
      "source": [
        "## Descripción del problema"
      ]
    },
    {
      "cell_type": "markdown",
      "metadata": {
        "id": "_6AJZqUP-ewF"
      },
      "source": [
        "La editorial O'Really desea construir una herramienta analítica que le permita a un editor estimar la popularidad relativa de un nuevo libro antes de su lanzamiento, con el fin de poder priorizar los títulos a publicar e inclusive rechazar posibles proyectos editoriales."
      ]
    },
    {
      "cell_type": "markdown",
      "metadata": {
        "id": "h-RI8vky-ewF"
      },
      "source": [
        "Para resolver este problema se tiene una base de datos con los 100 libros más vendidos por O'Really durante el año 2011. La base contiene el título del libro, su descripción y su ranking en pupularidad. Para este caso se hipotetiza que la aparición de ciertas palabras en la descripción del libro permitirá determinar su popularidad."
      ]
    },
    {
      "cell_type": "markdown",
      "metadata": {
        "id": "dhRBWwSt-ewF"
      },
      "source": [
        "## Lectura de datos"
      ]
    },
    {
      "cell_type": "code",
      "execution_count": 2,
      "metadata": {
        "colab": {
          "base_uri": "https://localhost:8080/"
        },
        "id": "VsgcwOVo-ewF",
        "outputId": "566d963c-a84f-457c-d86e-ecef78f05d99"
      },
      "outputs": [
        {
          "output_type": "stream",
          "name": "stdout",
          "text": [
            "<class 'pandas.core.frame.DataFrame'>\n",
            "RangeIndex: 100 entries, 0 to 99\n",
            "Data columns (total 5 columns):\n",
            " #   Column      Non-Null Count  Dtype \n",
            "---  ------      --------------  ----- \n",
            " 0   IP_Family   100 non-null    object\n",
            " 1   BOOK title  100 non-null    object\n",
            " 2   BOOK ISBN   100 non-null    int64 \n",
            " 3   Rank        100 non-null    int64 \n",
            " 4   Long Desc.  100 non-null    object\n",
            "dtypes: int64(2), object(3)\n",
            "memory usage: 4.0+ KB\n"
          ]
        }
      ],
      "source": [
        "import pandas as pd\n",
        "\n",
        "df = pd.read_csv(\n",
        "    \"https://raw.githubusercontent.com/jdvelasq/datalabs/master/datasets/oreilly.csv\",\n",
        "    sep=\",\",  # separador de campos\n",
        "    thousands=None,  # separador de miles para números\n",
        "    decimal=\".\",  # separador de los decimales para números\n",
        "    encoding=\"latin-1\",\n",
        ")  # idioma\n",
        "\n",
        "df.info()"
      ]
    },
    {
      "cell_type": "code",
      "source": [
        "df"
      ],
      "metadata": {
        "colab": {
          "base_uri": "https://localhost:8080/",
          "height": 423
        },
        "id": "wdfrS-BxNoXJ",
        "outputId": "7be235b7-b992-4e6e-9a9e-6567ed324094"
      },
      "execution_count": 4,
      "outputs": [
        {
          "output_type": "execute_result",
          "data": {
            "text/plain": [
              "           IP_Family                               BOOK title      BOOK ISBN  \\\n",
              "0   9780596000271.IP                     Programming Perl, 3E  9780596000271   \n",
              "1   9781565923928.IP     Javascript: The Definitive Guide, 3E  9781565923928   \n",
              "2   9780596007126.IP               Head First Design Patterns  9780596007126   \n",
              "3   9780596009205.IP                      Head First Java, 2E  9780596009205   \n",
              "4   9780596529529.IP     Mac OS X Leopard: The Missing Manual  9780596529529   \n",
              "..               ...                                      ...            ...   \n",
              "95  9780596001971.IP                         Java and XML, 2E  9780596001971   \n",
              "96  9780596004828.IP                  Linux in a Nutshell, 4E  9780596004828   \n",
              "97  9780596004477.IP                             Google Hacks  9780596004477   \n",
              "98  9781565924642.IP                          Learning Python  9781565924642   \n",
              "99  0636920013358.IP  Make: Technology on Your Time Volume 25  9781449393984   \n",
              "\n",
              "    Rank                                         Long Desc.  \n",
              "0      1  Perl is a powerful programming language that  ...  \n",
              "1      2  JavaScript is a powerful scripting language th...  \n",
              "2      3  You're not alone.<br />\\r<br />\\rAt any given ...  \n",
              "3      4  Learning a complex new language is no easy tas...  \n",
              "4      5  With Leopard, Apple has unleashed the greatest...  \n",
              "..   ...                                                ...  \n",
              "95    96  While the XML \"buzz\" still dominates talk amon...  \n",
              "96    97  <i>Linux in a Nutshell</i>, now in its fourth ...  \n",
              "97    98  The Internet puts a wealth of information at y...  \n",
              "98    99  <i>Learning Python</i> is an introduction to t...  \n",
              "99   100  The first magazine devoted entirely to do-it-y...  \n",
              "\n",
              "[100 rows x 5 columns]"
            ],
            "text/html": [
              "\n",
              "  <div id=\"df-5ba61565-118d-4a69-9543-692d5629e8f9\">\n",
              "    <div class=\"colab-df-container\">\n",
              "      <div>\n",
              "<style scoped>\n",
              "    .dataframe tbody tr th:only-of-type {\n",
              "        vertical-align: middle;\n",
              "    }\n",
              "\n",
              "    .dataframe tbody tr th {\n",
              "        vertical-align: top;\n",
              "    }\n",
              "\n",
              "    .dataframe thead th {\n",
              "        text-align: right;\n",
              "    }\n",
              "</style>\n",
              "<table border=\"1\" class=\"dataframe\">\n",
              "  <thead>\n",
              "    <tr style=\"text-align: right;\">\n",
              "      <th></th>\n",
              "      <th>IP_Family</th>\n",
              "      <th>BOOK title</th>\n",
              "      <th>BOOK ISBN</th>\n",
              "      <th>Rank</th>\n",
              "      <th>Long Desc.</th>\n",
              "    </tr>\n",
              "  </thead>\n",
              "  <tbody>\n",
              "    <tr>\n",
              "      <th>0</th>\n",
              "      <td>9780596000271.IP</td>\n",
              "      <td>Programming Perl, 3E</td>\n",
              "      <td>9780596000271</td>\n",
              "      <td>1</td>\n",
              "      <td>Perl is a powerful programming language that  ...</td>\n",
              "    </tr>\n",
              "    <tr>\n",
              "      <th>1</th>\n",
              "      <td>9781565923928.IP</td>\n",
              "      <td>Javascript: The Definitive Guide, 3E</td>\n",
              "      <td>9781565923928</td>\n",
              "      <td>2</td>\n",
              "      <td>JavaScript is a powerful scripting language th...</td>\n",
              "    </tr>\n",
              "    <tr>\n",
              "      <th>2</th>\n",
              "      <td>9780596007126.IP</td>\n",
              "      <td>Head First Design Patterns</td>\n",
              "      <td>9780596007126</td>\n",
              "      <td>3</td>\n",
              "      <td>You're not alone.&lt;br /&gt;\\r&lt;br /&gt;\\rAt any given ...</td>\n",
              "    </tr>\n",
              "    <tr>\n",
              "      <th>3</th>\n",
              "      <td>9780596009205.IP</td>\n",
              "      <td>Head First Java, 2E</td>\n",
              "      <td>9780596009205</td>\n",
              "      <td>4</td>\n",
              "      <td>Learning a complex new language is no easy tas...</td>\n",
              "    </tr>\n",
              "    <tr>\n",
              "      <th>4</th>\n",
              "      <td>9780596529529.IP</td>\n",
              "      <td>Mac OS X Leopard: The Missing Manual</td>\n",
              "      <td>9780596529529</td>\n",
              "      <td>5</td>\n",
              "      <td>With Leopard, Apple has unleashed the greatest...</td>\n",
              "    </tr>\n",
              "    <tr>\n",
              "      <th>...</th>\n",
              "      <td>...</td>\n",
              "      <td>...</td>\n",
              "      <td>...</td>\n",
              "      <td>...</td>\n",
              "      <td>...</td>\n",
              "    </tr>\n",
              "    <tr>\n",
              "      <th>95</th>\n",
              "      <td>9780596001971.IP</td>\n",
              "      <td>Java and XML, 2E</td>\n",
              "      <td>9780596001971</td>\n",
              "      <td>96</td>\n",
              "      <td>While the XML \"buzz\" still dominates talk amon...</td>\n",
              "    </tr>\n",
              "    <tr>\n",
              "      <th>96</th>\n",
              "      <td>9780596004828.IP</td>\n",
              "      <td>Linux in a Nutshell, 4E</td>\n",
              "      <td>9780596004828</td>\n",
              "      <td>97</td>\n",
              "      <td>&lt;i&gt;Linux in a Nutshell&lt;/i&gt;, now in its fourth ...</td>\n",
              "    </tr>\n",
              "    <tr>\n",
              "      <th>97</th>\n",
              "      <td>9780596004477.IP</td>\n",
              "      <td>Google Hacks</td>\n",
              "      <td>9780596004477</td>\n",
              "      <td>98</td>\n",
              "      <td>The Internet puts a wealth of information at y...</td>\n",
              "    </tr>\n",
              "    <tr>\n",
              "      <th>98</th>\n",
              "      <td>9781565924642.IP</td>\n",
              "      <td>Learning Python</td>\n",
              "      <td>9781565924642</td>\n",
              "      <td>99</td>\n",
              "      <td>&lt;i&gt;Learning Python&lt;/i&gt; is an introduction to t...</td>\n",
              "    </tr>\n",
              "    <tr>\n",
              "      <th>99</th>\n",
              "      <td>0636920013358.IP</td>\n",
              "      <td>Make: Technology on Your Time Volume 25</td>\n",
              "      <td>9781449393984</td>\n",
              "      <td>100</td>\n",
              "      <td>The first magazine devoted entirely to do-it-y...</td>\n",
              "    </tr>\n",
              "  </tbody>\n",
              "</table>\n",
              "<p>100 rows × 5 columns</p>\n",
              "</div>\n",
              "      <button class=\"colab-df-convert\" onclick=\"convertToInteractive('df-5ba61565-118d-4a69-9543-692d5629e8f9')\"\n",
              "              title=\"Convert this dataframe to an interactive table.\"\n",
              "              style=\"display:none;\">\n",
              "        \n",
              "  <svg xmlns=\"http://www.w3.org/2000/svg\" height=\"24px\"viewBox=\"0 0 24 24\"\n",
              "       width=\"24px\">\n",
              "    <path d=\"M0 0h24v24H0V0z\" fill=\"none\"/>\n",
              "    <path d=\"M18.56 5.44l.94 2.06.94-2.06 2.06-.94-2.06-.94-.94-2.06-.94 2.06-2.06.94zm-11 1L8.5 8.5l.94-2.06 2.06-.94-2.06-.94L8.5 2.5l-.94 2.06-2.06.94zm10 10l.94 2.06.94-2.06 2.06-.94-2.06-.94-.94-2.06-.94 2.06-2.06.94z\"/><path d=\"M17.41 7.96l-1.37-1.37c-.4-.4-.92-.59-1.43-.59-.52 0-1.04.2-1.43.59L10.3 9.45l-7.72 7.72c-.78.78-.78 2.05 0 2.83L4 21.41c.39.39.9.59 1.41.59.51 0 1.02-.2 1.41-.59l7.78-7.78 2.81-2.81c.8-.78.8-2.07 0-2.86zM5.41 20L4 18.59l7.72-7.72 1.47 1.35L5.41 20z\"/>\n",
              "  </svg>\n",
              "      </button>\n",
              "      \n",
              "  <style>\n",
              "    .colab-df-container {\n",
              "      display:flex;\n",
              "      flex-wrap:wrap;\n",
              "      gap: 12px;\n",
              "    }\n",
              "\n",
              "    .colab-df-convert {\n",
              "      background-color: #E8F0FE;\n",
              "      border: none;\n",
              "      border-radius: 50%;\n",
              "      cursor: pointer;\n",
              "      display: none;\n",
              "      fill: #1967D2;\n",
              "      height: 32px;\n",
              "      padding: 0 0 0 0;\n",
              "      width: 32px;\n",
              "    }\n",
              "\n",
              "    .colab-df-convert:hover {\n",
              "      background-color: #E2EBFA;\n",
              "      box-shadow: 0px 1px 2px rgba(60, 64, 67, 0.3), 0px 1px 3px 1px rgba(60, 64, 67, 0.15);\n",
              "      fill: #174EA6;\n",
              "    }\n",
              "\n",
              "    [theme=dark] .colab-df-convert {\n",
              "      background-color: #3B4455;\n",
              "      fill: #D2E3FC;\n",
              "    }\n",
              "\n",
              "    [theme=dark] .colab-df-convert:hover {\n",
              "      background-color: #434B5C;\n",
              "      box-shadow: 0px 1px 3px 1px rgba(0, 0, 0, 0.15);\n",
              "      filter: drop-shadow(0px 1px 2px rgba(0, 0, 0, 0.3));\n",
              "      fill: #FFFFFF;\n",
              "    }\n",
              "  </style>\n",
              "\n",
              "      <script>\n",
              "        const buttonEl =\n",
              "          document.querySelector('#df-5ba61565-118d-4a69-9543-692d5629e8f9 button.colab-df-convert');\n",
              "        buttonEl.style.display =\n",
              "          google.colab.kernel.accessAllowed ? 'block' : 'none';\n",
              "\n",
              "        async function convertToInteractive(key) {\n",
              "          const element = document.querySelector('#df-5ba61565-118d-4a69-9543-692d5629e8f9');\n",
              "          const dataTable =\n",
              "            await google.colab.kernel.invokeFunction('convertToInteractive',\n",
              "                                                     [key], {});\n",
              "          if (!dataTable) return;\n",
              "\n",
              "          const docLinkHtml = 'Like what you see? Visit the ' +\n",
              "            '<a target=\"_blank\" href=https://colab.research.google.com/notebooks/data_table.ipynb>data table notebook</a>'\n",
              "            + ' to learn more about interactive tables.';\n",
              "          element.innerHTML = '';\n",
              "          dataTable['output_type'] = 'display_data';\n",
              "          await google.colab.output.renderOutput(dataTable, element);\n",
              "          const docLink = document.createElement('div');\n",
              "          docLink.innerHTML = docLinkHtml;\n",
              "          element.appendChild(docLink);\n",
              "        }\n",
              "      </script>\n",
              "    </div>\n",
              "  </div>\n",
              "  "
            ]
          },
          "metadata": {},
          "execution_count": 4
        }
      ]
    },
    {
      "cell_type": "markdown",
      "metadata": {
        "id": "NcoYmupt-ewH"
      },
      "source": [
        "## Construcción de la matriz de términos del documento"
      ]
    },
    {
      "cell_type": "code",
      "execution_count": 6,
      "metadata": {
        "colab": {
          "base_uri": "https://localhost:8080/"
        },
        "id": "2RDW-97Q-ewH",
        "outputId": "f5d890f2-4ec3-467c-d26c-55763f5a3121"
      },
      "outputs": [
        {
          "output_type": "execute_result",
          "data": {
            "text/plain": [
              "(100, 636)"
            ]
          },
          "metadata": {},
          "execution_count": 6
        }
      ],
      "source": [
        "#\n",
        "# Matriz de términos del documento\n",
        "#\n",
        "from sklearn.feature_extraction.text import CountVectorizer\n",
        "\n",
        "count_vect = CountVectorizer(\n",
        "    analyzer=\"word\",  # a nivel de palabra\n",
        "    lowercase=True,  # convierte a minúsculas\n",
        "    stop_words=\"english\",  # stop_words en inglés\n",
        "    min_df=5,\n",
        ")  # ignora palabras con baja freq\n",
        "\n",
        "#\n",
        "# Aplica la función al texto\n",
        "#\n",
        "df_dtm = count_vect.fit_transform(df[\"Long Desc.\"])\n",
        "\n",
        "#\n",
        "# Las filas contienen los mensajes\n",
        "# y las columnas los términos\n",
        "#\n",
        "df_dtm.shape"
      ]
    },
    {
      "cell_type": "code",
      "source": [
        "print(df_dtm)"
      ],
      "metadata": {
        "colab": {
          "base_uri": "https://localhost:8080/"
        },
        "id": "AdLFUutjOJFB",
        "outputId": "8c9d1658-1fad-4614-ac0c-b62e5730cc9f"
      },
      "execution_count": 8,
      "outputs": [
        {
          "output_type": "stream",
          "name": "stdout",
          "text": [
            "  (0, 420)\t18\n",
            "  (0, 435)\t1\n",
            "  (0, 451)\t4\n",
            "  (0, 319)\t6\n",
            "  (0, 431)\t1\n",
            "  (0, 180)\t3\n",
            "  (0, 55)\t8\n",
            "  (0, 460)\t1\n",
            "  (0, 567)\t1\n",
            "  (0, 313)\t1\n",
            "  (0, 588)\t2\n",
            "  (0, 303)\t1\n",
            "  (0, 205)\t1\n",
            "  (0, 43)\t1\n",
            "  (0, 456)\t1\n",
            "  (0, 90)\t1\n",
            "  (0, 89)\t1\n",
            "  (0, 385)\t3\n",
            "  (0, 547)\t1\n",
            "  (0, 247)\t1\n",
            "  (0, 98)\t1\n",
            "  (0, 259)\t1\n",
            "  (0, 514)\t1\n",
            "  (0, 468)\t1\n",
            "  (0, 627)\t1\n",
            "  :\t:\n",
            "  (99, 331)\t2\n",
            "  (99, 594)\t3\n",
            "  (99, 301)\t1\n",
            "  (99, 58)\t8\n",
            "  (99, 630)\t1\n",
            "  (99, 244)\t1\n",
            "  (99, 198)\t1\n",
            "  (99, 467)\t1\n",
            "  (99, 59)\t1\n",
            "  (99, 178)\t2\n",
            "  (99, 541)\t1\n",
            "  (99, 561)\t1\n",
            "  (99, 418)\t1\n",
            "  (99, 344)\t1\n",
            "  (99, 349)\t6\n",
            "  (99, 498)\t1\n",
            "  (99, 614)\t1\n",
            "  (99, 100)\t1\n",
            "  (99, 185)\t1\n",
            "  (99, 428)\t1\n",
            "  (99, 559)\t2\n",
            "  (99, 599)\t1\n",
            "  (99, 454)\t2\n",
            "  (99, 57)\t1\n",
            "  (99, 113)\t1\n"
          ]
        }
      ]
    },
    {
      "cell_type": "code",
      "execution_count": null,
      "metadata": {
        "id": "f037N9XA-ewI",
        "outputId": "f9a11aaf-3287-4f36-9701-d6a8f41f6104"
      },
      "outputs": [
        {
          "data": {
            "text/plain": [
              "array([[0, 0, 0, ..., 0, 0, 0],\n",
              "       [0, 0, 0, ..., 0, 0, 0],\n",
              "       [0, 0, 0, ..., 0, 0, 0],\n",
              "       ...,\n",
              "       [0, 0, 1, ..., 2, 0, 1],\n",
              "       [0, 0, 0, ..., 1, 0, 0],\n",
              "       [0, 0, 0, ..., 0, 0, 0]])"
            ]
          },
          "execution_count": 3,
          "metadata": {},
          "output_type": "execute_result"
        }
      ],
      "source": [
        "X = df_dtm.toarray()\n",
        "X"
      ]
    },
    {
      "cell_type": "markdown",
      "metadata": {
        "id": "H-yO6EKf-ewI"
      },
      "source": [
        "## Modelo de regresión logística"
      ]
    },
    {
      "cell_type": "markdown",
      "source": [
        "La siguiente línea de código crea un arreglo de NumPy llamado \"y\" utilizando la función `np.array()`. Este arreglo tiene 100 elementos en total, donde los primeros 50 elementos son el número 1 y los siguientes 50 elementos son el número 0. En resumen, se crea un arreglo \"y\" que contiene una secuencia de 50 unos seguidos de una secuencia de 50 ceros.\n",
        "\n",
        "Este tipo de arreglo puede ser útil para el aprendizaje automático, donde se utiliza a menudo para representar etiquetas o clases de un conjunto de datos, como por ejemplo en un problema de clasificación binaria donde se tienen dos clases representadas por los valores 1 y 0.\n",
        "\n",
        "En el ejemplo dado, el arreglo \"y\" se crea con 50 elementos de la clase 1 seguidos de 50 elementos de la clase 0, lo que podría ser utilizado en un escenario de clasificación binaria donde se tienen dos clases equilibradas con igual número de ejemplos.\n",
        "\n"
      ],
      "metadata": {
        "id": "UWgmX9HHO4Tm"
      }
    },
    {
      "cell_type": "code",
      "execution_count": null,
      "metadata": {
        "id": "NkIvltx6-ewI"
      },
      "outputs": [],
      "source": [
        "import numpy as np\n",
        "\n",
        "y = np.array([1] * 50 + [0] * 50)"
      ]
    },
    {
      "cell_type": "markdown",
      "source": [
        "En este ejemplo se van a categorizar los primeros 50 libros en el ranking como exitosos (1), mientras que los otros 50 son no exitosos (0)."
      ],
      "metadata": {
        "id": "tuaBeLGUPA98"
      }
    },
    {
      "cell_type": "code",
      "execution_count": null,
      "metadata": {
        "id": "zW5dCpRZ-ewJ",
        "outputId": "f78d8943-8b15-433b-dd0d-1614f3efacab"
      },
      "outputs": [
        {
          "data": {
            "text/plain": [
              "array([1, 1, 1, 1, 1, 1, 1, 1, 1, 1, 1, 1, 1, 1, 1, 1, 1, 1, 1, 1, 1, 1,\n",
              "       1, 1, 1, 1, 1, 1, 1, 1, 1, 1, 1, 1, 1, 1, 1, 1, 1, 1, 1, 1, 1, 1,\n",
              "       1, 1, 1, 1, 1, 1, 0, 0, 0, 0, 0, 0, 0, 0, 0, 0, 0, 0, 0, 0, 0, 0,\n",
              "       0, 0, 0, 0, 0, 0, 0, 0, 0, 0, 0, 0, 0, 0, 0, 0, 0, 0, 0, 0, 0, 0,\n",
              "       0, 0, 0, 0, 0, 0, 0, 0, 0, 0, 0, 0])"
            ]
          },
          "execution_count": 5,
          "metadata": {},
          "output_type": "execute_result"
        }
      ],
      "source": [
        "from sklearn.linear_model import LogisticRegression\n",
        "\n",
        "clf = LogisticRegression(solver=\"lbfgs\", multi_class=\"auto\", max_iter=1000)\n",
        "\n",
        "clf.fit(X, y)\n",
        "y_pred = clf.predict(X)\n",
        "y_pred"
      ]
    },
    {
      "cell_type": "code",
      "execution_count": null,
      "metadata": {
        "id": "3nCNddTN-ewJ",
        "outputId": "b50075e0-cac2-40d6-dea2-8c4eb37e6828"
      },
      "outputs": [
        {
          "data": {
            "text/plain": [
              "1.0"
            ]
          },
          "execution_count": 6,
          "metadata": {},
          "output_type": "execute_result"
        }
      ],
      "source": [
        "clf.score(X, y)"
      ]
    }
  ],
  "metadata": {
    "kernel_info": {
      "name": "python3"
    },
    "kernelspec": {
      "display_name": "Python 3 (ipykernel)",
      "language": "python",
      "name": "python3"
    },
    "language_info": {
      "codemirror_mode": {
        "name": "ipython",
        "version": 3
      },
      "file_extension": ".py",
      "mimetype": "text/x-python",
      "name": "python",
      "nbconvert_exporter": "python",
      "pygments_lexer": "ipython3",
      "version": "3.8.10"
    },
    "nteract": {
      "version": "0.7.1"
    },
    "varInspector": {
      "cols": {
        "lenName": 16,
        "lenType": 16,
        "lenVar": 40
      },
      "kernels_config": {
        "python": {
          "delete_cmd_postfix": "",
          "delete_cmd_prefix": "del ",
          "library": "var_list.py",
          "varRefreshCmd": "print(var_dic_list())"
        },
        "r": {
          "delete_cmd_postfix": ") ",
          "delete_cmd_prefix": "rm(",
          "library": "var_list.r",
          "varRefreshCmd": "cat(var_dic_list()) "
        }
      },
      "types_to_exclude": [
        "module",
        "function",
        "builtin_function_or_method",
        "instance",
        "_Feature"
      ],
      "window_display": false
    },
    "vscode": {
      "interpreter": {
        "hash": "2482a4565599eda3cd2db35331af39775c1f78a505a9deef48c721423040da5b"
      }
    },
    "colab": {
      "provenance": []
    }
  },
  "nbformat": 4,
  "nbformat_minor": 0
}