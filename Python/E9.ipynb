{
  "nbformat": 4,
  "nbformat_minor": 0,
  "metadata": {
    "colab": {
      "provenance": []
    },
    "kernelspec": {
      "name": "python3",
      "display_name": "Python 3"
    },
    "language_info": {
      "name": "python"
    }
  },
  "cells": [
    {
      "cell_type": "markdown",
      "source": [
        "# Ejemplos de Data Analytics"
      ],
      "metadata": {
        "id": "6TL2gAmFfaLe"
      }
    },
    {
      "cell_type": "markdown",
      "source": [
        "# Operaciones básicas sobre archivos de datos usando Python\n",
        "\n",
        "Se realizarán varias actividades con un archivo de datos de eventos de conductores de camiones: `truck_event_text_partition.csv`"
      ],
      "metadata": {
        "id": "h3W-wsXd2qqk"
      }
    },
    {
      "cell_type": "markdown",
      "source": [
        "### Carga de datos de los eventos de los conductores"
      ],
      "metadata": {
        "id": "7eYAnN9I4YIh"
      }
    },
    {
      "cell_type": "code",
      "source": [
        "#\n",
        "# Se descarga el archivo directamente del repo al disco duro.\n",
        "#\n",
        "url = \"https://raw.githubusercontent.com/jdvelasq/datalabs/master/datasets/drivers/truck_event_text_partition.csv\"\n",
        "!wget --quiet {url} -P /tmp/\n",
        "\n",
        "#\n",
        "# Visualiza el contenido del directorio\n",
        "#\n",
        "!ls -1 /tmp/*"
      ],
      "metadata": {
        "colab": {
          "base_uri": "https://localhost:8080/"
        },
        "id": "kGmRtGhb4bL9",
        "outputId": "db3da904-c045-450d-b0de-0cabc6ffaa28"
      },
      "execution_count": 5,
      "outputs": [
        {
          "output_type": "stream",
          "name": "stdout",
          "text": [
            "/tmp/dap_multiplexer.141a5334963b.root.log.INFO.20230323-032236.83\n",
            "/tmp/dap_multiplexer.INFO\n",
            "/tmp/debugger_gqfb0slli\n",
            "/tmp/kernel_manager_proxy.141a5334963b.root.log.ERROR.20230323-042504.34\n",
            "/tmp/kernel_manager_proxy.141a5334963b.root.log.INFO.20230323-032232.34\n",
            "/tmp/kernel_manager_proxy.141a5334963b.root.log.WARNING.20230323-032237.34\n",
            "/tmp/kernel_manager_proxy.ERROR\n",
            "/tmp/kernel_manager_proxy.INFO\n",
            "/tmp/kernel_manager_proxy.WARNING\n",
            "/tmp/truck_event_text_partition.csv\n",
            "\n",
            "/tmp/initgoogle_syslog_dir.0:\n",
            "unknown\n",
            "\n",
            "/tmp/pyright-290-Hr2d2xjbDCyF:\n",
            "\n",
            "/tmp/pyright-290-kcBaHBZyO1wk:\n",
            "\n",
            "/tmp/python-languageserver-cancellation:\n",
            "7183bd7ce2226ed0e106e6db0f599f70ab8d7232b2\n"
          ]
        }
      ]
    },
    {
      "cell_type": "code",
      "source": [
        "with open(\"/tmp/truck_event_text_partition.csv\", \"r\") as file:\n",
        "    truck_events = file.readlines()\n",
        "\n",
        "#\n",
        "# Cantidad de filas del archivo incluyendo la cabecera.\n",
        "#\n",
        "print(len(truck_events))\n",
        "\n",
        "#\n",
        "# Tipo de objeto resultante\n",
        "#\n",
        "display(type(truck_events))"
      ],
      "metadata": {
        "colab": {
          "base_uri": "https://localhost:8080/",
          "height": 52
        },
        "id": "wPHfRzub4fEw",
        "outputId": "1514cda6-0bcd-4448-a05a-27aedaa03067"
      },
      "execution_count": 10,
      "outputs": [
        {
          "output_type": "stream",
          "name": "stdout",
          "text": [
            "17076\n"
          ]
        },
        {
          "output_type": "display_data",
          "data": {
            "text/plain": [
              "list"
            ]
          },
          "metadata": {}
        }
      ]
    },
    {
      "cell_type": "code",
      "source": [
        "#\n",
        "# Visualización del contenido\n",
        "#\n",
        "truck_events[0:2]"
      ],
      "metadata": {
        "colab": {
          "base_uri": "https://localhost:8080/"
        },
        "id": "Ecs4yztK4zKV",
        "outputId": "6c42b5c8-1d3a-4b0d-8dc5-0dcb307e6468"
      },
      "execution_count": 11,
      "outputs": [
        {
          "output_type": "execute_result",
          "data": {
            "text/plain": [
              "['driverId,truckId,eventTime,eventType,longitude,latitude,eventKey,CorrelationId,driverName,routeId,routeName,eventDate\\n',\n",
              " '14,25,59:21.4,Normal,-94.58,37.03,14|25|9223370572464814373,3.66E+18,Adis Cesir,160405074,Joplin to Kansas City Route 2,2016-05-27-22\\n']"
            ]
          },
          "metadata": {},
          "execution_count": 11
        }
      ]
    },
    {
      "cell_type": "code",
      "source": [
        "#\n",
        "# Limpieza de \"\\n\" (saltos de línea)\n",
        "#\n",
        "truck_events = [line.replace(\"\\n\", \"\") for line in truck_events]"
      ],
      "metadata": {
        "id": "kkij8To_41bF"
      },
      "execution_count": 12,
      "outputs": []
    },
    {
      "cell_type": "code",
      "source": [
        "#\n",
        "# Conversión de los strings (filas) a listas\n",
        "#\n",
        "truck_events = [line.split(\",\") for line in truck_events]"
      ],
      "metadata": {
        "id": "gbgvmrad48pM"
      },
      "execution_count": 13,
      "outputs": []
    },
    {
      "cell_type": "code",
      "source": [
        "#\n",
        "# Visualización de nombres de las columnas\n",
        "#\n",
        "truck_events[0]"
      ],
      "metadata": {
        "colab": {
          "base_uri": "https://localhost:8080/"
        },
        "id": "KdGjaqaj5EDL",
        "outputId": "2f77aafd-5a60-4d43-df3a-0647ab2ab4d3"
      },
      "execution_count": 14,
      "outputs": [
        {
          "output_type": "execute_result",
          "data": {
            "text/plain": [
              "['driverId',\n",
              " 'truckId',\n",
              " 'eventTime',\n",
              " 'eventType',\n",
              " 'longitude',\n",
              " 'latitude',\n",
              " 'eventKey',\n",
              " 'CorrelationId',\n",
              " 'driverName',\n",
              " 'routeId',\n",
              " 'routeName',\n",
              " 'eventDate']"
            ]
          },
          "metadata": {},
          "execution_count": 14
        }
      ]
    },
    {
      "cell_type": "markdown",
      "source": [
        "### Visualización de datos"
      ],
      "metadata": {
        "id": "ee41DAoT5IL5"
      }
    },
    {
      "cell_type": "code",
      "source": [
        "#\n",
        "# La visualización de datos como una lista de listas resulta inapropiada\n",
        "#\n",
        "truck_events[:2]"
      ],
      "metadata": {
        "colab": {
          "base_uri": "https://localhost:8080/"
        },
        "id": "SV9rKi6R5MoC",
        "outputId": "39fe86f2-df63-4231-d2e2-a06eab3398ca"
      },
      "execution_count": 16,
      "outputs": [
        {
          "output_type": "execute_result",
          "data": {
            "text/plain": [
              "[['driverId',\n",
              "  'truckId',\n",
              "  'eventTime',\n",
              "  'eventType',\n",
              "  'longitude',\n",
              "  'latitude',\n",
              "  'eventKey',\n",
              "  'CorrelationId',\n",
              "  'driverName',\n",
              "  'routeId',\n",
              "  'routeName',\n",
              "  'eventDate'],\n",
              " ['14',\n",
              "  '25',\n",
              "  '59:21.4',\n",
              "  'Normal',\n",
              "  '-94.58',\n",
              "  '37.03',\n",
              "  '14|25|9223370572464814373',\n",
              "  '3.66E+18',\n",
              "  'Adis Cesir',\n",
              "  '160405074',\n",
              "  'Joplin to Kansas City Route 2',\n",
              "  '2016-05-27-22']]"
            ]
          },
          "metadata": {},
          "execution_count": 16
        }
      ]
    },
    {
      "cell_type": "markdown",
      "source": [
        "Se hará una función `pprint(data)` con dos funciones dentro para mostrar los datos con un formato apropiado de tabla.\n",
        "\n",
        "1. `get_format_string(data)` obtendrá el tamaño de ancho apropiado para cada columna, ya que extraerá el máximo ancho de cada elemento de la columna.\n",
        "2. `print_data(format_string, data)` imprime los datos formateados como una tabla. "
      ],
      "metadata": {
        "id": "t9ZRLxk-5Qjh"
      }
    },
    {
      "cell_type": "code",
      "source": [
        "def pprint(data: list):\n",
        "\n",
        "    \"\"\"\n",
        "    Imprime la lista de listas (data) en un formato de tabla alineada a la derecha\n",
        "    \"\"\"\n",
        "    \n",
        "    def get_format_string(data: list) -> list:\n",
        "        \n",
        "        \"\"\"\n",
        "        Obtendrá el tamaño de ancho apropiado para cada columna, ya que \n",
        "        extraerá el máximo ancho de cada elemento de la columna.\n",
        "        \"\"\"\n",
        "        \n",
        "        format_string = []\n",
        "        for i_col in range(len(data[0])):\n",
        "            lengths = [len(str(row[i_col])) for row in data]\n",
        "            max_length = max(lengths)\n",
        "            #\n",
        "            # Por ejemplo: \"{:>10s}\"\n",
        "            #\n",
        "            format_string.append(\"{:>\" + str(max_length) + \"s}\")\n",
        "        return format_string\n",
        "    \n",
        "    def print_data(format_string: list, data: list):\n",
        "        \n",
        "        \"\"\"\n",
        "        Imprime la lista de listas formateada como una tabla.\n",
        "        \"\"\"\n",
        "        \n",
        "        format_string = get_format_string(data)\n",
        "        \n",
        "        for index, row in enumerate(data):\n",
        "            \n",
        "            # Se itera a través de las filas de los datos y agrega\n",
        "            # un número de fila (comenzando en 0) al principio de \n",
        "            # cada fila, excepto la primera fila.\n",
        "            text = \"    \" if index == 0 else \"{:2d}  \".format(index - 1)\n",
        "\n",
        "            # Con zip se empareja cada ancho máximo de columna con\n",
        "            # cada elemento de la fila.\n",
        "            for fmt, value in zip(format_string, row):\n",
        "                # Se agrega el dato, con su correspondiente formato\n",
        "                # que define el ancho, al texto a imprimir de la fila.\n",
        "                text += fmt.format(str(value)) + \" \"\n",
        "            \n",
        "            # Si el texto de la fila resulta más largo que 106 caracteres\n",
        "            # la función acorta la cadena de texto a 100 caracteres y \n",
        "            # agrega \"[...]\" para indicar que la cadena se ha acortado.\n",
        "            if len(text) >= 106:\n",
        "                text = text[:100] + \" [...]\"\n",
        "            \n",
        "            # Se imprime el renglón\n",
        "            print(text)\n",
        "    \n",
        "    format_string = get_format_string(data)\n",
        "    print_data(format_string, data)"
      ],
      "metadata": {
        "id": "TJ7pGapv7Rcc"
      },
      "execution_count": 25,
      "outputs": []
    },
    {
      "cell_type": "code",
      "source": [
        "pprint(truck_events[:5])"
      ],
      "metadata": {
        "colab": {
          "base_uri": "https://localhost:8080/"
        },
        "id": "TuC1Bmfu7aRS",
        "outputId": "f111fcac-9e7f-4aef-89bb-84863c440e07"
      },
      "execution_count": 26,
      "outputs": [
        {
          "output_type": "stream",
          "name": "stdout",
          "text": [
            "    driverId truckId eventTime eventType longitude latitude                   eventKey CorrelationId [...]\n",
            " 0        14      25   59:21.4    Normal    -94.58    37.03  14|25|9223370572464814373      3.66E+18 [...]\n",
            " 1        18      16   59:21.7    Normal    -89.66    39.78  18|16|9223370572464814089      3.66E+18 [...]\n",
            " 2        27     105   59:21.7    Normal    -90.21    38.65 27|105|9223370572464814070      3.66E+18 [...]\n",
            " 3        11      74   59:21.7    Normal     -90.2    38.65  11|74|9223370572464814123      3.66E+18 [...]\n"
          ]
        }
      ]
    },
    {
      "cell_type": "markdown",
      "source": [
        "### Reorganización de las columnas\n",
        "\n",
        "Se pone la columna 8 `driverName` como la columna 1 y se mueve el resto a la derecha.\n",
        "\n",
        "Esto se hace creando cada fila de la nueva lista con un list comprehension que mueve cada elemento 8 de la lista de la fila a la posición 1."
      ],
      "metadata": {
        "id": "bqCURoJ__g8y"
      }
    },
    {
      "cell_type": "code",
      "source": [
        "truck_events = [\n",
        "    [row[0], row[8]] + [row[index] for index in range(1, 12) if index != 8]\n",
        "    for row in truck_events\n",
        "]\n",
        "pprint(truck_events[:10])"
      ],
      "metadata": {
        "colab": {
          "base_uri": "https://localhost:8080/"
        },
        "id": "WnRpgPvd_k5R",
        "outputId": "089fe1f4-905e-485a-940a-52db6dd7fad3"
      },
      "execution_count": 27,
      "outputs": [
        {
          "output_type": "stream",
          "name": "stdout",
          "text": [
            "    driverId      driverName truckId eventTime eventType longitude latitude                   eventK [...]\n",
            " 0        14      Adis Cesir      25   59:21.4    Normal    -94.58    37.03  14|25|92233705724648143 [...]\n",
            " 1        18       Grant Liu      16   59:21.7    Normal    -89.66    39.78  18|16|92233705724648140 [...]\n",
            " 2        27 Mark Lochbihler     105   59:21.7    Normal    -90.21    38.65 27|105|92233705724648140 [...]\n",
            " 3        11  Jamie Engesser      74   59:21.7    Normal     -90.2    38.65  11|74|92233705724648141 [...]\n",
            " 4        22   Nadeem Asghar      87   59:21.7    Normal    -90.04    35.19  22|87|92233705724648141 [...]\n",
            " 5        22   Nadeem Asghar      87   59:22.3    Normal    -90.37    35.21  22|87|92233705724648134 [...]\n",
            " 6        23       Adam Diaz      68   59:22.4    Normal    -89.91    40.86  23|68|92233705724648134 [...]\n",
            " 7        11  Jamie Engesser      74   59:22.5    Normal    -89.74     39.1  11|74|92233705724648133 [...]\n",
            " 8        20    Chris Harris      41   59:22.5    Normal    -93.36    41.69  20|41|92233705724648133 [...]\n"
          ]
        }
      ]
    },
    {
      "cell_type": "markdown",
      "source": [
        "### Obtención de un subconjunto de registros\n",
        "\n",
        "Los nueve primeros registros."
      ],
      "metadata": {
        "id": "EKEGa2wmBUx1"
      }
    },
    {
      "cell_type": "code",
      "source": [
        "truck_events_subset = truck_events[0:10]\n",
        "pprint(truck_events_subset)"
      ],
      "metadata": {
        "colab": {
          "base_uri": "https://localhost:8080/"
        },
        "id": "FqFwOzKtBfkx",
        "outputId": "a0230adb-f248-4f41-acd0-8b6fd032089e"
      },
      "execution_count": 28,
      "outputs": [
        {
          "output_type": "stream",
          "name": "stdout",
          "text": [
            "    driverId      driverName truckId eventTime eventType longitude latitude                   eventK [...]\n",
            " 0        14      Adis Cesir      25   59:21.4    Normal    -94.58    37.03  14|25|92233705724648143 [...]\n",
            " 1        18       Grant Liu      16   59:21.7    Normal    -89.66    39.78  18|16|92233705724648140 [...]\n",
            " 2        27 Mark Lochbihler     105   59:21.7    Normal    -90.21    38.65 27|105|92233705724648140 [...]\n",
            " 3        11  Jamie Engesser      74   59:21.7    Normal     -90.2    38.65  11|74|92233705724648141 [...]\n",
            " 4        22   Nadeem Asghar      87   59:21.7    Normal    -90.04    35.19  22|87|92233705724648141 [...]\n",
            " 5        22   Nadeem Asghar      87   59:22.3    Normal    -90.37    35.21  22|87|92233705724648134 [...]\n",
            " 6        23       Adam Diaz      68   59:22.4    Normal    -89.91    40.86  23|68|92233705724648134 [...]\n",
            " 7        11  Jamie Engesser      74   59:22.5    Normal    -89.74     39.1  11|74|92233705724648133 [...]\n",
            " 8        20    Chris Harris      41   59:22.5    Normal    -93.36    41.69  20|41|92233705724648133 [...]\n"
          ]
        }
      ]
    },
    {
      "cell_type": "markdown",
      "source": [
        "### Filtrado de registros\n",
        "\n",
        "Obtener los registros con el `driverId` igual a `14`."
      ],
      "metadata": {
        "id": "Hzcz4FBjBli0"
      }
    },
    {
      "cell_type": "code",
      "source": [
        "# truck_events[0] es la primera fila, del encabezado\n",
        "\n",
        "truck_events_driverId_14 = [truck_events[0]] + [\n",
        "    row for row in truck_events if row[0] == \"14\"\n",
        "]\n",
        "pprint(truck_events_driverId_14[:10])"
      ],
      "metadata": {
        "colab": {
          "base_uri": "https://localhost:8080/"
        },
        "id": "d-fq6Z5cCGLY",
        "outputId": "5d003458-e7b5-422b-d168-06f64cc40cde"
      },
      "execution_count": 31,
      "outputs": [
        {
          "output_type": "stream",
          "name": "stdout",
          "text": [
            "    driverId driverName truckId eventTime eventType longitude latitude                  eventKey Cor [...]\n",
            " 0        14 Adis Cesir      25   59:21.4    Normal    -94.58    37.03 14|25|9223370572464814373     [...]\n",
            " 1        14 Adis Cesir      25   59:23.3    Normal    -94.31    37.31 14|25|9223370572464812526     [...]\n",
            " 2        14 Adis Cesir      25   59:24.2    Normal     -94.3    37.66 14|25|9223370572464811655     [...]\n",
            " 3        14 Adis Cesir      25   59:34.0    Normal     -94.3    37.66 14|25|9223370572464801796     [...]\n",
            " 4        14 Adis Cesir      25   59:35.8    Normal    -94.46    37.16 14|25|9223370572464800006     [...]\n",
            " 5        14 Adis Cesir      25   59:53.3    Normal    -94.58    37.03 14|25|9223370572464782555     [...]\n",
            " 6        14 Adis Cesir      25   59:54.0    Normal    -94.46    37.16 14|25|9223370572464781805     [...]\n",
            " 7        14 Adis Cesir      25   59:57.5    Normal    -94.35    38.33 14|25|9223370572464778335     [...]\n",
            " 8        14 Adis Cesir      25   59:59.2    Normal    -94.38    38.99 14|25|9223370572464776636     [...]\n"
          ]
        }
      ]
    },
    {
      "cell_type": "markdown",
      "source": [
        "### Búsqueda de registros usando expresiones regulares"
      ],
      "metadata": {
        "id": "bS-PCv_jBpaX"
      }
    },
    {
      "cell_type": "code",
      "source": [
        "import re"
      ],
      "metadata": {
        "id": "UpvowO9hEblT"
      },
      "execution_count": 32,
      "outputs": []
    },
    {
      "cell_type": "code",
      "source": [
        "name_finished_in_z = [truck_events[0]] + [\n",
        "    row for row in truck_events if re.search(\"z$\", row[1])\n",
        "]\n",
        "pprint(name_finished_in_z[:10])"
      ],
      "metadata": {
        "colab": {
          "base_uri": "https://localhost:8080/"
        },
        "id": "fIVJwURpEZmc",
        "outputId": "06a7f312-fcd1-4794-e28e-304740be7386"
      },
      "execution_count": 33,
      "outputs": [
        {
          "output_type": "stream",
          "name": "stdout",
          "text": [
            "    driverId driverName truckId eventTime eventType longitude latitude                  eventKey Cor [...]\n",
            " 0        23  Adam Diaz      68   59:22.4    Normal    -89.91    40.86 23|68|9223370572464813450     [...]\n",
            " 1        23  Adam Diaz      68   59:26.6    Normal    -91.32    41.71 23|68|9223370572464809216     [...]\n",
            " 2        23  Adam Diaz      68   59:27.4    Normal    -91.47    41.74 23|68|9223370572464808375     [...]\n",
            " 3        23  Adam Diaz      68   59:28.4    Normal    -91.63    41.72 23|68|9223370572464807444     [...]\n",
            " 4        23  Adam Diaz      68   59:29.9    Normal    -91.78    42.23 23|68|9223370572464805905     [...]\n",
            " 5        23  Adam Diaz      68   59:30.8    Normal    -91.63    41.72 23|68|9223370572464804995     [...]\n",
            " 6        23  Adam Diaz      68   59:37.0    Normal    -89.91    40.86 23|68|9223370572464798855     [...]\n",
            " 7        23  Adam Diaz      68   59:39.6    Normal    -89.91    40.86 23|68|9223370572464796242     [...]\n",
            " 8        23  Adam Diaz      68   59:40.4    Normal    -90.29    40.96 23|68|9223370572464795396     [...]\n"
          ]
        }
      ]
    },
    {
      "cell_type": "code",
      "source": [
        "name_begins_with_Ma = [truck_events[0]] + [\n",
        "    row for row in truck_events if re.search(\"^Ma\", row[1])\n",
        "]\n",
        "pprint(name_begins_with_Ma[:10])"
      ],
      "metadata": {
        "colab": {
          "base_uri": "https://localhost:8080/"
        },
        "id": "TOCyrfN9EZ4L",
        "outputId": "53eb2558-7d89-4c36-b8bb-82b47f3a1508"
      },
      "execution_count": 34,
      "outputs": [
        {
          "output_type": "stream",
          "name": "stdout",
          "text": [
            "    driverId      driverName truckId eventTime eventType longitude latitude                   eventK [...]\n",
            " 0        27 Mark Lochbihler     105   59:21.7    Normal    -90.21    38.65 27|105|92233705724648140 [...]\n",
            " 1        27 Mark Lochbihler     105   59:22.6    Normal    -90.41    38.75 27|105|92233705724648132 [...]\n",
            " 2        27 Mark Lochbihler     105   59:25.9    Normal    -90.93    38.82 27|105|92233705724648098 [...]\n",
            " 3        27 Mark Lochbihler     105   59:27.7    Normal    -91.19    38.83 27|105|92233705724648081 [...]\n",
            " 4        27 Mark Lochbihler     105   59:29.3    Normal    -91.56    38.93 27|105|92233705724648065 [...]\n",
            " 5        27 Mark Lochbihler     105   59:35.6    Normal    -92.85    38.93 27|105|92233705724648001 [...]\n",
            " 6        27 Mark Lochbihler     105   59:50.9    Normal     -93.2    38.98 27|105|92233705724647849 [...]\n",
            " 7        27 Mark Lochbihler     105   59:51.8    Normal    -93.01    38.97 27|105|92233705724647839 [...]\n",
            " 8        27 Mark Lochbihler     105   59:53.8    Normal    -92.63    38.95 27|105|92233705724647820 [...]\n"
          ]
        }
      ]
    },
    {
      "cell_type": "code",
      "source": [
        "name_contains_ch = [truck_events[0]] + [\n",
        "    row for row in truck_events if re.search(\"ch\", row[1])\n",
        "]\n",
        "pprint(name_contains_ch[:10])"
      ],
      "metadata": {
        "colab": {
          "base_uri": "https://localhost:8080/"
        },
        "id": "z3vxAZDmEaJ7",
        "outputId": "4b18b01c-e275-44e0-b354-ed3df8cd78d1"
      },
      "execution_count": 35,
      "outputs": [
        {
          "output_type": "stream",
          "name": "stdout",
          "text": [
            "    driverId      driverName truckId eventTime eventType longitude latitude                   eventK [...]\n",
            " 0        27 Mark Lochbihler     105   59:21.7    Normal    -90.21    38.65 27|105|92233705724648140 [...]\n",
            " 1        27 Mark Lochbihler     105   59:22.6    Normal    -90.41    38.75 27|105|92233705724648132 [...]\n",
            " 2        16      Tom McCuch      12   59:23.4    Normal    -90.29    40.96  16|12|92233705724648123 [...]\n",
            " 3        26    Michael Aube      57   59:25.2    Normal    -90.86    38.46  26|57|92233705724648106 [...]\n",
            " 4        16      Tom McCuch      12   59:25.3    Normal     -90.7    41.62  16|12|92233705724648105 [...]\n",
            " 5        27 Mark Lochbihler     105   59:25.9    Normal    -90.93    38.82 27|105|92233705724648098 [...]\n",
            " 6        26    Michael Aube      57   59:27.0    Normal    -91.18    38.22  26|57|92233705724648087 [...]\n",
            " 7        27 Mark Lochbihler     105   59:27.7    Normal    -91.19    38.83 27|105|92233705724648081 [...]\n",
            " 8        16      Tom McCuch      12   59:28.8    Normal    -91.63    41.72  16|12|92233705724648070 [...]\n"
          ]
        }
      ]
    },
    {
      "cell_type": "code",
      "source": [
        "name_not_contains_i = [truck_events[0]] + [\n",
        "    row for row in truck_events if not re.search(\"i\", row[1])\n",
        "]\n",
        "pprint(name_not_contains_i[:10])"
      ],
      "metadata": {
        "colab": {
          "base_uri": "https://localhost:8080/"
        },
        "id": "JGJWFYqIEaYr",
        "outputId": "b8071ea5-4fff-4fdc-bf7d-42f843e56377"
      },
      "execution_count": 36,
      "outputs": [
        {
          "output_type": "stream",
          "name": "stdout",
          "text": [
            "    driverId     driverName truckId eventTime eventType longitude latitude                   eventKe [...]\n",
            " 0        22  Nadeem Asghar      87   59:21.7    Normal    -90.04    35.19  22|87|922337057246481410 [...]\n",
            " 1        22  Nadeem Asghar      87   59:22.3    Normal    -90.37    35.21  22|87|922337057246481348 [...]\n",
            " 2        32 Ryan Templeton      42   59:22.5    Normal    -90.37    35.21  32|42|922337057246481329 [...]\n",
            " 3        16     Tom McCuch      12   59:23.4    Normal    -90.29    40.96  16|12|922337057246481239 [...]\n",
            " 4        22  Nadeem Asghar      87   59:24.2    Normal    -90.94    35.03  22|87|922337057246481165 [...]\n",
            " 5        32 Ryan Templeton      42   59:24.2    Normal    -90.94    35.03  32|42|922337057246481159 [...]\n",
            " 6        22  Nadeem Asghar      87   59:25.0    Normal    -91.14    34.96  22|87|922337057246481080 [...]\n",
            " 7        16     Tom McCuch      12   59:25.3    Normal     -90.7    41.62  16|12|922337057246481053 [...]\n",
            " 8        21   Jeff Markham     109   59:25.7    Normal    -94.35    38.33 21|109|922337057246481009 [...]\n"
          ]
        }
      ]
    },
    {
      "cell_type": "code",
      "source": [
        "# Que no comiencen con la M o la N\n",
        "name_not_begins_with_MN = [truck_events[0]] + [\n",
        "    row for row in truck_events[1:] if not re.search(\"^[MN]\", row[1])\n",
        "]\n",
        "pprint(name_not_begins_with_MN[:10])"
      ],
      "metadata": {
        "colab": {
          "base_uri": "https://localhost:8080/"
        },
        "id": "fdEFakYdE3-4",
        "outputId": "f2328bf4-a457-4cc9-8c14-3e91c84a67e6"
      },
      "execution_count": 38,
      "outputs": [
        {
          "output_type": "stream",
          "name": "stdout",
          "text": [
            "    driverId     driverName truckId eventTime eventType longitude latitude                  eventKey [...]\n",
            " 0        14     Adis Cesir      25   59:21.4    Normal    -94.58    37.03 14|25|9223370572464814373 [...]\n",
            " 1        18      Grant Liu      16   59:21.7    Normal    -89.66    39.78 18|16|9223370572464814089 [...]\n",
            " 2        11 Jamie Engesser      74   59:21.7    Normal     -90.2    38.65 11|74|9223370572464814123 [...]\n",
            " 3        23      Adam Diaz      68   59:22.4    Normal    -89.91    40.86 23|68|9223370572464813450 [...]\n",
            " 4        11 Jamie Engesser      74   59:22.5    Normal    -89.74     39.1 11|74|9223370572464813355 [...]\n",
            " 5        20   Chris Harris      41   59:22.5    Normal    -93.36    41.69 20|41|9223370572464813344 [...]\n",
            " 6        32 Ryan Templeton      42   59:22.5    Normal    -90.37    35.21 32|42|9223370572464813296 [...]\n",
            " 7        17    Eric Mizell      15   59:23.2    Normal    -90.55    38.81 17|15|9223370572464812585 [...]\n",
            " 8        14     Adis Cesir      25   59:23.3    Normal    -94.31    37.31 14|25|9223370572464812526 [...]\n"
          ]
        }
      ]
    },
    {
      "cell_type": "markdown",
      "source": [
        "### Borrado de registros duplicados\n",
        "\n",
        "Se vuelven a unir los registros (filas) de la tabla separando los datos por `\",\"`.\n",
        "\n",
        "Luego se agrupan en un `set` para que obligatoriamente los registros no se repitan.\n",
        "\n",
        "Finalmente los vuelven a colocar como en la lista inicial."
      ],
      "metadata": {
        "id": "rGSLjFoTBuZr"
      }
    },
    {
      "cell_type": "code",
      "source": [
        "truck_events_as_strings = [\",\".join(row) for row in truck_events[1:]]\n",
        "unique_truck_events = list(set(truck_events_as_strings))\n",
        "unique_truck_events = [row.split(\",\") for row in unique_truck_events]\n",
        "unique_truck_events = [truck_events[0]] + unique_truck_events\n",
        "pprint(unique_truck_events[:10])"
      ],
      "metadata": {
        "colab": {
          "base_uri": "https://localhost:8080/"
        },
        "id": "Fj4ZLuvUFsgg",
        "outputId": "ec726992-5cc4-487b-9aa6-d5650b027be4"
      },
      "execution_count": 39,
      "outputs": [
        {
          "output_type": "stream",
          "name": "stdout",
          "text": [
            "    driverId           driverName truckId eventTime eventType longitude latitude                  ev [...]\n",
            " 0        29           Teddy Choi      68   37:09.7    Normal    -95.99    36.17 29|68|9223370572419 [...]\n",
            " 1        18            Grant Liu      49   11:05.5    Normal    -94.42    39.27 18|49|9223370571956 [...]\n",
            " 2        29           Teddy Choi      66   59:58.2    Normal     -95.3    35.64 29|66|9223370572464 [...]\n",
            " 3        31        Rommel Garcia      86   36:11.6    Normal    -94.38    38.99 31|86|9223370572419 [...]\n",
            " 4        25 Jean-Philippe Player      21   09:35.1    Normal    -89.56     37.2 25|21|9223370571956 [...]\n",
            " 5        29           Teddy Choi      16   09:02.2    Normal    -95.56    35.97 29|16|9223370571956 [...]\n",
            " 6        18            Grant Liu      11   36:30.2    Normal    -93.93    39.76 18|11|9223370572419 [...]\n",
            " 7        26         Michael Aube      42   59:40.6    Normal    -90.53    38.51 26|42|9223370572126 [...]\n",
            " 8        29           Teddy Choi      66   00:14.0    Normal    -97.36    37.69 29|66|9223370572464 [...]\n"
          ]
        }
      ]
    },
    {
      "cell_type": "markdown",
      "source": [
        "### Valores únicos por campo\n",
        "\n",
        "Nótese que al usar `set comprehension` (`{}`) obligatoriamente los elementos no se van a repetir."
      ],
      "metadata": {
        "id": "Do5pYWcgByQ6"
      }
    },
    {
      "cell_type": "code",
      "source": [
        "driverNames = sorted({row[1] for row in truck_events[1:]})\n",
        "driverNames"
      ],
      "metadata": {
        "colab": {
          "base_uri": "https://localhost:8080/"
        },
        "id": "vg8Qu4TwGQ4H",
        "outputId": "76c9136f-11ef-4b40-a4d3-f84b9519e556"
      },
      "execution_count": 40,
      "outputs": [
        {
          "output_type": "execute_result",
          "data": {
            "text/plain": [
              "['Adam Diaz',\n",
              " 'Adis Cesir',\n",
              " 'Ajay Singh',\n",
              " 'Chris Harris',\n",
              " 'Dan Rice',\n",
              " 'Don Hilborn',\n",
              " 'Eric Mizell',\n",
              " 'George Vetticaden',\n",
              " 'Grant Liu',\n",
              " 'Jamie Engesser',\n",
              " 'Jean-Philippe Player',\n",
              " 'Jeff Markham',\n",
              " 'Joe Niemiec',\n",
              " 'Mark Lochbihler',\n",
              " 'Michael Aube',\n",
              " 'Nadeem Asghar',\n",
              " 'Olivier Renault',\n",
              " 'Paul Codding',\n",
              " 'Rohit Bakshi',\n",
              " 'Rommel Garcia',\n",
              " 'Ryan Templeton',\n",
              " 'Teddy Choi',\n",
              " 'Tom McCuch']"
            ]
          },
          "metadata": {},
          "execution_count": 40
        }
      ]
    },
    {
      "cell_type": "markdown",
      "source": [
        "### Ordenamiento de registros con base en un campo\n",
        "\n",
        "Ordenar elementos por la columna 1 de `driverName`."
      ],
      "metadata": {
        "id": "pI243Md6B3Gh"
      }
    },
    {
      "cell_type": "code",
      "source": [
        "from operator import itemgetter\n",
        "\n",
        "sorted_truck_events = [truck_events[0]] + sorted(\n",
        "    [row for row in truck_events[1:]], key=itemgetter(1)\n",
        ")\n",
        "pprint(sorted_truck_events[:10])"
      ],
      "metadata": {
        "colab": {
          "base_uri": "https://localhost:8080/"
        },
        "id": "GYVqINkpH1-c",
        "outputId": "16e32b70-f09b-4275-84eb-06d80fbc122b"
      },
      "execution_count": 41,
      "outputs": [
        {
          "output_type": "stream",
          "name": "stdout",
          "text": [
            "    driverId driverName truckId eventTime eventType longitude latitude                  eventKey Cor [...]\n",
            " 0        23  Adam Diaz      68   59:22.4    Normal    -89.91    40.86 23|68|9223370572464813450     [...]\n",
            " 1        23  Adam Diaz      68   59:26.6    Normal    -91.32    41.71 23|68|9223370572464809216     [...]\n",
            " 2        23  Adam Diaz      68   59:27.4    Normal    -91.47    41.74 23|68|9223370572464808375     [...]\n",
            " 3        23  Adam Diaz      68   59:28.4    Normal    -91.63    41.72 23|68|9223370572464807444     [...]\n",
            " 4        23  Adam Diaz      68   59:29.9    Normal    -91.78    42.23 23|68|9223370572464805905     [...]\n",
            " 5        23  Adam Diaz      68   59:30.8    Normal    -91.63    41.72 23|68|9223370572464804995     [...]\n",
            " 6        23  Adam Diaz      68   59:37.0    Normal    -89.91    40.86 23|68|9223370572464798855     [...]\n",
            " 7        23  Adam Diaz      68   59:39.6    Normal    -89.91    40.86 23|68|9223370572464796242     [...]\n",
            " 8        23  Adam Diaz      68   59:40.4    Normal    -90.29    40.96 23|68|9223370572464795396     [...]\n"
          ]
        }
      ]
    },
    {
      "cell_type": "markdown",
      "source": [
        "### Obtención de un subconjunto de columnas\n",
        "\n",
        "Seleccione las columnas \"driverId\", \"eventTime\", \"eventType\" de la variable truck_events_subset"
      ],
      "metadata": {
        "id": "lyPKm_aaB5ud"
      }
    },
    {
      "cell_type": "code",
      "source": [
        "# Se obtienen los índices de las columnas que se quieren\n",
        "column_indexes = [\n",
        "    i_col\n",
        "    for i_col, colname in enumerate(truck_events_subset[0])\n",
        "    if colname in [\"driverId\", \"eventTime\", \"eventType\"]\n",
        "]\n",
        "\n",
        "# Se obtienen las filas solo con los elementos de los índices \n",
        "# obtenidos previamente\n",
        "specific_columns = [\n",
        "    [col for i_col, col in enumerate(row) if i_col in column_indexes]\n",
        "    for row in truck_events_subset\n",
        "]\n",
        "\n",
        "pprint(specific_columns)"
      ],
      "metadata": {
        "colab": {
          "base_uri": "https://localhost:8080/"
        },
        "id": "hAENe2yyJK-h",
        "outputId": "3f1294c0-ea7b-45fe-955a-7ef9c48beaff"
      },
      "execution_count": 42,
      "outputs": [
        {
          "output_type": "stream",
          "name": "stdout",
          "text": [
            "    driverId eventTime eventType \n",
            " 0        14   59:21.4    Normal \n",
            " 1        18   59:21.7    Normal \n",
            " 2        27   59:21.7    Normal \n",
            " 3        11   59:21.7    Normal \n",
            " 4        22   59:21.7    Normal \n",
            " 5        22   59:22.3    Normal \n",
            " 6        23   59:22.4    Normal \n",
            " 7        11   59:22.5    Normal \n",
            " 8        20   59:22.5    Normal \n"
          ]
        }
      ]
    },
    {
      "cell_type": "markdown",
      "source": [
        "### Escritura al disco como una tabla"
      ],
      "metadata": {
        "id": "Kh-r4PwqB7tR"
      }
    },
    {
      "cell_type": "code",
      "source": [
        "specific_columns = [\",\".join(row) for row in specific_columns]\n",
        "specific_columns = \"\\n\".join(specific_columns)\n",
        "specific_columns"
      ],
      "metadata": {
        "colab": {
          "base_uri": "https://localhost:8080/",
          "height": 55
        },
        "id": "-6NU1We0JiSL",
        "outputId": "f112de00-268f-4825-82f3-ea7f9bf46f39"
      },
      "execution_count": 43,
      "outputs": [
        {
          "output_type": "execute_result",
          "data": {
            "text/plain": [
              "'driverId,eventTime,eventType\\n14,59:21.4,Normal\\n18,59:21.7,Normal\\n27,59:21.7,Normal\\n11,59:21.7,Normal\\n22,59:21.7,Normal\\n22,59:22.3,Normal\\n23,59:22.4,Normal\\n11,59:22.5,Normal\\n20,59:22.5,Normal'"
            ],
            "application/vnd.google.colaboratory.intrinsic+json": {
              "type": "string"
            }
          },
          "metadata": {},
          "execution_count": 43
        }
      ]
    },
    {
      "cell_type": "code",
      "source": [
        "with open(\"/tmp/specific_columns.csv\", \"w\") as file:\n",
        "    print(specific_columns, file=file)\n",
        "\n",
        "!cat /tmp/specific_columns.csv"
      ],
      "metadata": {
        "colab": {
          "base_uri": "https://localhost:8080/"
        },
        "id": "Z-Q8Ee4RJkR6",
        "outputId": "2e784a1f-e6a6-4597-bfc8-7962a369c579"
      },
      "execution_count": 44,
      "outputs": [
        {
          "output_type": "stream",
          "name": "stdout",
          "text": [
            "driverId,eventTime,eventType\n",
            "14,59:21.4,Normal\n",
            "18,59:21.7,Normal\n",
            "27,59:21.7,Normal\n",
            "11,59:21.7,Normal\n",
            "22,59:21.7,Normal\n",
            "22,59:22.3,Normal\n",
            "23,59:22.4,Normal\n",
            "11,59:22.5,Normal\n",
            "20,59:22.5,Normal\n"
          ]
        }
      ]
    },
    {
      "cell_type": "code",
      "source": [
        "#\n",
        "# Visualiza el contenido del directorio\n",
        "#\n",
        "!ls -1 /tmp/*"
      ],
      "metadata": {
        "colab": {
          "base_uri": "https://localhost:8080/"
        },
        "id": "vaq_mqj1Jr7K",
        "outputId": "b40a140a-cb57-414d-a8b2-de297ecbb7bc"
      },
      "execution_count": 45,
      "outputs": [
        {
          "output_type": "stream",
          "name": "stdout",
          "text": [
            "/tmp/dap_multiplexer.141a5334963b.root.log.INFO.20230323-032236.83\n",
            "/tmp/dap_multiplexer.INFO\n",
            "/tmp/debugger_gqfb0slli\n",
            "/tmp/kernel_manager_proxy.141a5334963b.root.log.ERROR.20230323-042504.34\n",
            "/tmp/kernel_manager_proxy.141a5334963b.root.log.INFO.20230323-032232.34\n",
            "/tmp/kernel_manager_proxy.141a5334963b.root.log.WARNING.20230323-032237.34\n",
            "/tmp/kernel_manager_proxy.ERROR\n",
            "/tmp/kernel_manager_proxy.INFO\n",
            "/tmp/kernel_manager_proxy.WARNING\n",
            "/tmp/specific_columns.csv\n",
            "/tmp/truck_event_text_partition.csv\n",
            "\n",
            "/tmp/initgoogle_syslog_dir.0:\n",
            "unknown\n",
            "\n",
            "/tmp/pyright-26879-IXfyyoKzvDDQ:\n",
            "\n",
            "/tmp/pyright-26879-p4eTY5t85Fyj:\n",
            "\n",
            "/tmp/pyright-290-Hr2d2xjbDCyF:\n",
            "\n",
            "/tmp/pyright-290-kcBaHBZyO1wk:\n",
            "\n",
            "/tmp/python-languageserver-cancellation:\n",
            "7183bd7ce2226ed0e106e6db0f599f70ab8d7232b2\n"
          ]
        }
      ]
    }
  ]
}