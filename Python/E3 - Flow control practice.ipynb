{
  "nbformat": 4,
  "nbformat_minor": 0,
  "metadata": {
    "colab": {
      "provenance": []
    },
    "kernelspec": {
      "name": "python3",
      "display_name": "Python 3"
    },
    "language_info": {
      "name": "python"
    }
  },
  "cells": [
    {
      "cell_type": "markdown",
      "source": [
        "# Python Ep 03: Herramientas de control de flujo"
      ],
      "metadata": {
        "id": "SsWOQgUVTuHg"
      }
    },
    {
      "cell_type": "markdown",
      "source": [
        "## Creación de funciones de usuario\n",
        "\n",
        "### Ejemplo\n",
        "\n",
        "Se desea construir una función que cuente las ocurrencias de cada elemento en una columna de una tabla."
      ],
      "metadata": {
        "id": "YqzHHpiJMcZo"
      }
    },
    {
      "cell_type": "code",
      "execution_count": null,
      "metadata": {
        "colab": {
          "base_uri": "https://localhost:8080/"
        },
        "id": "HknLdQ3sMXfF",
        "outputId": "84be9201-1fb8-41a0-efa0-f93f1f3bfe6b"
      },
      "outputs": [
        {
          "output_type": "stream",
          "name": "stdout",
          "text": [
            "contributors\n",
            "coordinates\n",
            "created_at\n",
            "entities\n",
            "extended_entities\n",
            "favorite_count\n",
            "favorited\n",
            "filter_level\n",
            "geo\n",
            "id\n",
            "id_str\n",
            "in_reply_to_screen_name\n",
            "in_reply_to_status_id\n",
            "in_reply_to_status_id_str\n",
            "in_reply_to_user_id\n",
            "in_reply_to_user_id_str\n",
            "is_quote_status\n",
            "lang\n",
            "place\n",
            "possibly_sensitive\n",
            "quoted_status\n",
            "quoted_status_id\n",
            "quoted_status_id_str\n",
            "retweet_count\n",
            "retweeted\n",
            "retweeted_status\n",
            "source\n",
            "text\n",
            "timestamp_ms\n",
            "truncated\n",
            "user\n"
          ]
        }
      ],
      "source": [
        "#\n",
        "# Se descargan los datos de la tabla\n",
        "#\n",
        "tweets_url = (\n",
        "    \"https://raw.githubusercontent.com/jdvelasq/datalabs/master/datasets/tweets.csv\"\n",
        ")\n",
        "!wget --quiet {tweets_url} -P /tmp/\n",
        "\n",
        "#\n",
        "# Se cargan los datos en una tabla\n",
        "#\n",
        "import pandas as pd\n",
        "\n",
        "# df es DataFrame\n",
        "tweets_df = pd.read_csv(\"/tmp/tweets.csv\")\n",
        "\n",
        "# Se imprimen los nombres de todas las columnas\n",
        "for column in sorted(tweets_df.columns):\n",
        "    print(column)"
      ]
    },
    {
      "cell_type": "code",
      "source": [
        "from pandas.core.frame import DataFrame as DataFrame"
      ],
      "metadata": {
        "id": "2gaf7LwyP67p"
      },
      "execution_count": null,
      "outputs": []
    },
    {
      "cell_type": "code",
      "source": [
        "display(type(tweets_df))\n",
        "\n",
        "display(type(tweets_df) == DataFrame)\n",
        "\n",
        "display(type(tweets_df) == pd.core.frame.DataFrame)"
      ],
      "metadata": {
        "colab": {
          "base_uri": "https://localhost:8080/",
          "height": 69
        },
        "id": "Nof0lh9zPG2M",
        "outputId": "c17c8847-d6af-4f23-b155-87457aafd9ea"
      },
      "execution_count": null,
      "outputs": [
        {
          "output_type": "display_data",
          "data": {
            "text/plain": [
              "pandas.core.frame.DataFrame"
            ]
          },
          "metadata": {}
        },
        {
          "output_type": "display_data",
          "data": {
            "text/plain": [
              "True"
            ]
          },
          "metadata": {}
        },
        {
          "output_type": "display_data",
          "data": {
            "text/plain": [
              "True"
            ]
          },
          "metadata": {}
        }
      ]
    },
    {
      "cell_type": "code",
      "source": [
        "tweets_df.head()"
      ],
      "metadata": {
        "colab": {
          "base_uri": "https://localhost:8080/",
          "height": 490
        },
        "id": "ipQLki5NM8ED",
        "outputId": "0ca3d903-c748-48af-d8e9-9980ebabf05b"
      },
      "execution_count": null,
      "outputs": [
        {
          "output_type": "execute_result",
          "data": {
            "text/plain": [
              "   contributors  coordinates                      created_at  \\\n",
              "0           NaN          NaN  Tue Mar 29 23:40:17 +0000 2016   \n",
              "1           NaN          NaN  Tue Mar 29 23:40:17 +0000 2016   \n",
              "2           NaN          NaN  Tue Mar 29 23:40:17 +0000 2016   \n",
              "3           NaN          NaN  Tue Mar 29 23:40:17 +0000 2016   \n",
              "4           NaN          NaN  Tue Mar 29 23:40:17 +0000 2016   \n",
              "\n",
              "                                            entities  \\\n",
              "0  {'hashtags': [], 'user_mentions': [{'screen_na...   \n",
              "1  {'hashtags': [{'text': 'cruzsexscandal', 'indi...   \n",
              "2  {'hashtags': [], 'user_mentions': [], 'symbols...   \n",
              "3  {'hashtags': [], 'user_mentions': [], 'symbols...   \n",
              "4  {'hashtags': [], 'user_mentions': [{'screen_na...   \n",
              "\n",
              "                                   extended_entities  favorite_count  \\\n",
              "0  {'media': [{'sizes': {'large': {'w': 1024, 'h'...               0   \n",
              "1  {'media': [{'sizes': {'large': {'w': 500, 'h':...               0   \n",
              "2                                                NaN               0   \n",
              "3                                                NaN               0   \n",
              "4                                                NaN               0   \n",
              "\n",
              "   favorited filter_level  geo                  id  ...  quoted_status_id  \\\n",
              "0      False          low  NaN  714960401759387648  ...               NaN   \n",
              "1      False          low  NaN  714960401977319424  ...               NaN   \n",
              "2      False          low  NaN  714960402426236928  ...               NaN   \n",
              "3      False          low  NaN  714960402367561730  ...      7.149239e+17   \n",
              "4      False          low  NaN  714960402149416960  ...               NaN   \n",
              "\n",
              "  quoted_status_id_str  retweet_count  retweeted  \\\n",
              "0                  NaN              0      False   \n",
              "1                  NaN              0      False   \n",
              "2                  NaN              0      False   \n",
              "3         7.149239e+17              0      False   \n",
              "4                  NaN              0      False   \n",
              "\n",
              "                                    retweeted_status  \\\n",
              "0  {'retweeted': False, 'text': \".@krollbondratin...   \n",
              "1  {'retweeted': False, 'text': '@dmartosko Cruz ...   \n",
              "2                                                NaN   \n",
              "3                                                NaN   \n",
              "4  {'retweeted': False, 'text': 'The anti-America...   \n",
              "\n",
              "                                              source  \\\n",
              "0  <a href=\"http://twitter.com\" rel=\"nofollow\">Tw...   \n",
              "1  <a href=\"http://twitter.com\" rel=\"nofollow\">Tw...   \n",
              "2  <a href=\"http://www.facebook.com/twitter\" rel=...   \n",
              "3  <a href=\"http://twitter.com/download/android\" ...   \n",
              "4  <a href=\"http://twitter.com/download/iphone\" r...   \n",
              "\n",
              "                                                text   timestamp_ms truncated  \\\n",
              "0  RT @bpolitics: .@krollbondrating's Christopher...  1459294817758     False   \n",
              "1  RT @HeidiAlpine: @dmartosko Cruz video found.....  1459294817810     False   \n",
              "2  Njihuni me Zonjën Trump !!! | Ekskluzive https...  1459294817917     False   \n",
              "3  Your an idiot she shouldn't have tried to grab...  1459294817903     False   \n",
              "4  RT @AlanLohner: The anti-American D.C. elites ...  1459294817851     False   \n",
              "\n",
              "                                                user  \n",
              "0  {'utc_offset': 3600, 'profile_image_url_https'...  \n",
              "1  {'utc_offset': None, 'profile_image_url_https'...  \n",
              "2  {'utc_offset': 7200, 'profile_image_url_https'...  \n",
              "3  {'utc_offset': None, 'profile_image_url_https'...  \n",
              "4  {'utc_offset': -18000, 'profile_image_url_http...  \n",
              "\n",
              "[5 rows x 31 columns]"
            ],
            "text/html": [
              "\n",
              "  <div id=\"df-9d34fa67-e1cd-484b-9c54-b196ae8239c1\">\n",
              "    <div class=\"colab-df-container\">\n",
              "      <div>\n",
              "<style scoped>\n",
              "    .dataframe tbody tr th:only-of-type {\n",
              "        vertical-align: middle;\n",
              "    }\n",
              "\n",
              "    .dataframe tbody tr th {\n",
              "        vertical-align: top;\n",
              "    }\n",
              "\n",
              "    .dataframe thead th {\n",
              "        text-align: right;\n",
              "    }\n",
              "</style>\n",
              "<table border=\"1\" class=\"dataframe\">\n",
              "  <thead>\n",
              "    <tr style=\"text-align: right;\">\n",
              "      <th></th>\n",
              "      <th>contributors</th>\n",
              "      <th>coordinates</th>\n",
              "      <th>created_at</th>\n",
              "      <th>entities</th>\n",
              "      <th>extended_entities</th>\n",
              "      <th>favorite_count</th>\n",
              "      <th>favorited</th>\n",
              "      <th>filter_level</th>\n",
              "      <th>geo</th>\n",
              "      <th>id</th>\n",
              "      <th>...</th>\n",
              "      <th>quoted_status_id</th>\n",
              "      <th>quoted_status_id_str</th>\n",
              "      <th>retweet_count</th>\n",
              "      <th>retweeted</th>\n",
              "      <th>retweeted_status</th>\n",
              "      <th>source</th>\n",
              "      <th>text</th>\n",
              "      <th>timestamp_ms</th>\n",
              "      <th>truncated</th>\n",
              "      <th>user</th>\n",
              "    </tr>\n",
              "  </thead>\n",
              "  <tbody>\n",
              "    <tr>\n",
              "      <th>0</th>\n",
              "      <td>NaN</td>\n",
              "      <td>NaN</td>\n",
              "      <td>Tue Mar 29 23:40:17 +0000 2016</td>\n",
              "      <td>{'hashtags': [], 'user_mentions': [{'screen_na...</td>\n",
              "      <td>{'media': [{'sizes': {'large': {'w': 1024, 'h'...</td>\n",
              "      <td>0</td>\n",
              "      <td>False</td>\n",
              "      <td>low</td>\n",
              "      <td>NaN</td>\n",
              "      <td>714960401759387648</td>\n",
              "      <td>...</td>\n",
              "      <td>NaN</td>\n",
              "      <td>NaN</td>\n",
              "      <td>0</td>\n",
              "      <td>False</td>\n",
              "      <td>{'retweeted': False, 'text': \".@krollbondratin...</td>\n",
              "      <td>&lt;a href=\"http://twitter.com\" rel=\"nofollow\"&gt;Tw...</td>\n",
              "      <td>RT @bpolitics: .@krollbondrating's Christopher...</td>\n",
              "      <td>1459294817758</td>\n",
              "      <td>False</td>\n",
              "      <td>{'utc_offset': 3600, 'profile_image_url_https'...</td>\n",
              "    </tr>\n",
              "    <tr>\n",
              "      <th>1</th>\n",
              "      <td>NaN</td>\n",
              "      <td>NaN</td>\n",
              "      <td>Tue Mar 29 23:40:17 +0000 2016</td>\n",
              "      <td>{'hashtags': [{'text': 'cruzsexscandal', 'indi...</td>\n",
              "      <td>{'media': [{'sizes': {'large': {'w': 500, 'h':...</td>\n",
              "      <td>0</td>\n",
              "      <td>False</td>\n",
              "      <td>low</td>\n",
              "      <td>NaN</td>\n",
              "      <td>714960401977319424</td>\n",
              "      <td>...</td>\n",
              "      <td>NaN</td>\n",
              "      <td>NaN</td>\n",
              "      <td>0</td>\n",
              "      <td>False</td>\n",
              "      <td>{'retweeted': False, 'text': '@dmartosko Cruz ...</td>\n",
              "      <td>&lt;a href=\"http://twitter.com\" rel=\"nofollow\"&gt;Tw...</td>\n",
              "      <td>RT @HeidiAlpine: @dmartosko Cruz video found.....</td>\n",
              "      <td>1459294817810</td>\n",
              "      <td>False</td>\n",
              "      <td>{'utc_offset': None, 'profile_image_url_https'...</td>\n",
              "    </tr>\n",
              "    <tr>\n",
              "      <th>2</th>\n",
              "      <td>NaN</td>\n",
              "      <td>NaN</td>\n",
              "      <td>Tue Mar 29 23:40:17 +0000 2016</td>\n",
              "      <td>{'hashtags': [], 'user_mentions': [], 'symbols...</td>\n",
              "      <td>NaN</td>\n",
              "      <td>0</td>\n",
              "      <td>False</td>\n",
              "      <td>low</td>\n",
              "      <td>NaN</td>\n",
              "      <td>714960402426236928</td>\n",
              "      <td>...</td>\n",
              "      <td>NaN</td>\n",
              "      <td>NaN</td>\n",
              "      <td>0</td>\n",
              "      <td>False</td>\n",
              "      <td>NaN</td>\n",
              "      <td>&lt;a href=\"http://www.facebook.com/twitter\" rel=...</td>\n",
              "      <td>Njihuni me Zonjën Trump !!! | Ekskluzive https...</td>\n",
              "      <td>1459294817917</td>\n",
              "      <td>False</td>\n",
              "      <td>{'utc_offset': 7200, 'profile_image_url_https'...</td>\n",
              "    </tr>\n",
              "    <tr>\n",
              "      <th>3</th>\n",
              "      <td>NaN</td>\n",
              "      <td>NaN</td>\n",
              "      <td>Tue Mar 29 23:40:17 +0000 2016</td>\n",
              "      <td>{'hashtags': [], 'user_mentions': [], 'symbols...</td>\n",
              "      <td>NaN</td>\n",
              "      <td>0</td>\n",
              "      <td>False</td>\n",
              "      <td>low</td>\n",
              "      <td>NaN</td>\n",
              "      <td>714960402367561730</td>\n",
              "      <td>...</td>\n",
              "      <td>7.149239e+17</td>\n",
              "      <td>7.149239e+17</td>\n",
              "      <td>0</td>\n",
              "      <td>False</td>\n",
              "      <td>NaN</td>\n",
              "      <td>&lt;a href=\"http://twitter.com/download/android\" ...</td>\n",
              "      <td>Your an idiot she shouldn't have tried to grab...</td>\n",
              "      <td>1459294817903</td>\n",
              "      <td>False</td>\n",
              "      <td>{'utc_offset': None, 'profile_image_url_https'...</td>\n",
              "    </tr>\n",
              "    <tr>\n",
              "      <th>4</th>\n",
              "      <td>NaN</td>\n",
              "      <td>NaN</td>\n",
              "      <td>Tue Mar 29 23:40:17 +0000 2016</td>\n",
              "      <td>{'hashtags': [], 'user_mentions': [{'screen_na...</td>\n",
              "      <td>NaN</td>\n",
              "      <td>0</td>\n",
              "      <td>False</td>\n",
              "      <td>low</td>\n",
              "      <td>NaN</td>\n",
              "      <td>714960402149416960</td>\n",
              "      <td>...</td>\n",
              "      <td>NaN</td>\n",
              "      <td>NaN</td>\n",
              "      <td>0</td>\n",
              "      <td>False</td>\n",
              "      <td>{'retweeted': False, 'text': 'The anti-America...</td>\n",
              "      <td>&lt;a href=\"http://twitter.com/download/iphone\" r...</td>\n",
              "      <td>RT @AlanLohner: The anti-American D.C. elites ...</td>\n",
              "      <td>1459294817851</td>\n",
              "      <td>False</td>\n",
              "      <td>{'utc_offset': -18000, 'profile_image_url_http...</td>\n",
              "    </tr>\n",
              "  </tbody>\n",
              "</table>\n",
              "<p>5 rows × 31 columns</p>\n",
              "</div>\n",
              "      <button class=\"colab-df-convert\" onclick=\"convertToInteractive('df-9d34fa67-e1cd-484b-9c54-b196ae8239c1')\"\n",
              "              title=\"Convert this dataframe to an interactive table.\"\n",
              "              style=\"display:none;\">\n",
              "        \n",
              "  <svg xmlns=\"http://www.w3.org/2000/svg\" height=\"24px\"viewBox=\"0 0 24 24\"\n",
              "       width=\"24px\">\n",
              "    <path d=\"M0 0h24v24H0V0z\" fill=\"none\"/>\n",
              "    <path d=\"M18.56 5.44l.94 2.06.94-2.06 2.06-.94-2.06-.94-.94-2.06-.94 2.06-2.06.94zm-11 1L8.5 8.5l.94-2.06 2.06-.94-2.06-.94L8.5 2.5l-.94 2.06-2.06.94zm10 10l.94 2.06.94-2.06 2.06-.94-2.06-.94-.94-2.06-.94 2.06-2.06.94z\"/><path d=\"M17.41 7.96l-1.37-1.37c-.4-.4-.92-.59-1.43-.59-.52 0-1.04.2-1.43.59L10.3 9.45l-7.72 7.72c-.78.78-.78 2.05 0 2.83L4 21.41c.39.39.9.59 1.41.59.51 0 1.02-.2 1.41-.59l7.78-7.78 2.81-2.81c.8-.78.8-2.07 0-2.86zM5.41 20L4 18.59l7.72-7.72 1.47 1.35L5.41 20z\"/>\n",
              "  </svg>\n",
              "      </button>\n",
              "      \n",
              "  <style>\n",
              "    .colab-df-container {\n",
              "      display:flex;\n",
              "      flex-wrap:wrap;\n",
              "      gap: 12px;\n",
              "    }\n",
              "\n",
              "    .colab-df-convert {\n",
              "      background-color: #E8F0FE;\n",
              "      border: none;\n",
              "      border-radius: 50%;\n",
              "      cursor: pointer;\n",
              "      display: none;\n",
              "      fill: #1967D2;\n",
              "      height: 32px;\n",
              "      padding: 0 0 0 0;\n",
              "      width: 32px;\n",
              "    }\n",
              "\n",
              "    .colab-df-convert:hover {\n",
              "      background-color: #E2EBFA;\n",
              "      box-shadow: 0px 1px 2px rgba(60, 64, 67, 0.3), 0px 1px 3px 1px rgba(60, 64, 67, 0.15);\n",
              "      fill: #174EA6;\n",
              "    }\n",
              "\n",
              "    [theme=dark] .colab-df-convert {\n",
              "      background-color: #3B4455;\n",
              "      fill: #D2E3FC;\n",
              "    }\n",
              "\n",
              "    [theme=dark] .colab-df-convert:hover {\n",
              "      background-color: #434B5C;\n",
              "      box-shadow: 0px 1px 3px 1px rgba(0, 0, 0, 0.15);\n",
              "      filter: drop-shadow(0px 1px 2px rgba(0, 0, 0, 0.3));\n",
              "      fill: #FFFFFF;\n",
              "    }\n",
              "  </style>\n",
              "\n",
              "      <script>\n",
              "        const buttonEl =\n",
              "          document.querySelector('#df-9d34fa67-e1cd-484b-9c54-b196ae8239c1 button.colab-df-convert');\n",
              "        buttonEl.style.display =\n",
              "          google.colab.kernel.accessAllowed ? 'block' : 'none';\n",
              "\n",
              "        async function convertToInteractive(key) {\n",
              "          const element = document.querySelector('#df-9d34fa67-e1cd-484b-9c54-b196ae8239c1');\n",
              "          const dataTable =\n",
              "            await google.colab.kernel.invokeFunction('convertToInteractive',\n",
              "                                                     [key], {});\n",
              "          if (!dataTable) return;\n",
              "\n",
              "          const docLinkHtml = 'Like what you see? Visit the ' +\n",
              "            '<a target=\"_blank\" href=https://colab.research.google.com/notebooks/data_table.ipynb>data table notebook</a>'\n",
              "            + ' to learn more about interactive tables.';\n",
              "          element.innerHTML = '';\n",
              "          dataTable['output_type'] = 'display_data';\n",
              "          await google.colab.output.renderOutput(dataTable, element);\n",
              "          const docLink = document.createElement('div');\n",
              "          docLink.innerHTML = docLinkHtml;\n",
              "          element.appendChild(docLink);\n",
              "        }\n",
              "      </script>\n",
              "    </div>\n",
              "  </div>\n",
              "  "
            ]
          },
          "metadata": {},
          "execution_count": 4
        }
      ]
    },
    {
      "cell_type": "code",
      "source": [
        "#\n",
        "# Se desea analizar los retweets.\n",
        "# Estos empiezan por RT y están ubicados en la columna \"text\" \n",
        "#\n",
        "\n",
        "# Se mirarán los elementos de la columna \"text\"\n",
        "tweets_df.text"
      ],
      "metadata": {
        "colab": {
          "base_uri": "https://localhost:8080/"
        },
        "id": "kO4rfX7ONIni",
        "outputId": "1f58b651-e85c-45e2-a245-2b7bb033f8bd"
      },
      "execution_count": null,
      "outputs": [
        {
          "output_type": "execute_result",
          "data": {
            "text/plain": [
              "0     RT @bpolitics: .@krollbondrating's Christopher...\n",
              "1     RT @HeidiAlpine: @dmartosko Cruz video found.....\n",
              "2     Njihuni me Zonjën Trump !!! | Ekskluzive https...\n",
              "3     Your an idiot she shouldn't have tried to grab...\n",
              "4     RT @AlanLohner: The anti-American D.C. elites ...\n",
              "                            ...                        \n",
              "95    RT @claytoncubitt: Stop asking Bernie supporte...\n",
              "96    Kasich is gonna fuck this up for Ted Cruz  htt...\n",
              "97    RT @akaMaude13: Seriously can't make this up. ...\n",
              "98    Kasich is gonna fuck this up for Ted Cruz  htt...\n",
              "99    @marklevinshow try reporting this truth. https...\n",
              "Name: text, Length: 100, dtype: object"
            ]
          },
          "metadata": {},
          "execution_count": 7
        }
      ]
    },
    {
      "cell_type": "code",
      "source": [
        "# Se aplica una función anónima a los elementos \"x\" de la columna de \"text\"\n",
        "# La función para filter tiene resultado booleano\n",
        "# Solo si el resultado es verdadero, el elemento se guarda en la estructura de datos nueva 'result'\n",
        "result = filter(lambda x: x[:2] == \"RT\", tweets_df.text)\n",
        "\n",
        "print(\"Tipo de dato de la variable 'result':\")\n",
        "display(type(result))\n",
        "print()\n",
        "\n",
        "# Se crea una lista a partir del filter\n",
        "res_list = list(result)\n",
        "\n",
        "# Se mostrarán los 5 primeros elementos de la lista\n",
        "res_list[:5]"
      ],
      "metadata": {
        "colab": {
          "base_uri": "https://localhost:8080/",
          "height": 156
        },
        "id": "rDe4vTqcNjDl",
        "outputId": "ae8b0973-d895-4346-8edc-fee76fbc7eb3"
      },
      "execution_count": null,
      "outputs": [
        {
          "output_type": "stream",
          "name": "stdout",
          "text": [
            "Tipo de dato de la variable 'result':\n"
          ]
        },
        {
          "output_type": "display_data",
          "data": {
            "text/plain": [
              "filter"
            ]
          },
          "metadata": {}
        },
        {
          "output_type": "stream",
          "name": "stdout",
          "text": [
            "\n"
          ]
        },
        {
          "output_type": "execute_result",
          "data": {
            "text/plain": [
              "[\"RT @bpolitics: .@krollbondrating's Christopher Whalen says Clinton is the weakest Dem candidate in 50 years https://t.co/pLk7rvoRSn https:/…\",\n",
              " 'RT @HeidiAlpine: @dmartosko Cruz video found.....racing from the scene.... #cruzsexscandal https://t.co/zuAPZfQDk3',\n",
              " 'RT @AlanLohner: The anti-American D.C. elites despise Trump for his America-first foreign policy. Trump threatens their gravy train. https:…',\n",
              " 'RT @BIackPplTweets: Young Donald trump meets his neighbor  https://t.co/RFlu17Z1eE',\n",
              " 'RT @trumpresearch: @WaitingInBagdad @thehill Trump supporters have selective amnisia.']"
            ]
          },
          "metadata": {},
          "execution_count": 19
        }
      ]
    },
    {
      "cell_type": "code",
      "source": [
        "def count_entries(df: DataFrame, col_name:str =\"lang\"):\n",
        "    \"\"\"Return a dictionary with counts of\n",
        "    occurrences as value for each key.\"\"\"\n",
        "\n",
        "    cols_count = {}\n",
        "\n",
        "    try:\n",
        "        col = df[col_name]\n",
        "\n",
        "        for entry in col:\n",
        "            if entry in cols_count.keys():\n",
        "                cols_count[entry] += 1\n",
        "            else:\n",
        "                cols_count[entry] = 1\n",
        "\n",
        "        return cols_count\n",
        "\n",
        "    except ValueError:\n",
        "        print(f\"La columna {col_name} no existe!\")"
      ],
      "metadata": {
        "id": "6X5o4mreQFCn"
      },
      "execution_count": null,
      "outputs": []
    },
    {
      "cell_type": "code",
      "source": [
        "counted_entries = count_entries(tweets_df, \"text\")\n",
        "print(counted_entries)"
      ],
      "metadata": {
        "colab": {
          "base_uri": "https://localhost:8080/"
        },
        "id": "mDrW_omNQzeh",
        "outputId": "d7c8491e-3366-4c73-8a21-db9f89e6f877"
      },
      "execution_count": null,
      "outputs": [
        {
          "output_type": "stream",
          "name": "stdout",
          "text": [
            "{\"RT @bpolitics: .@krollbondrating's Christopher Whalen says Clinton is the weakest Dem candidate in 50 years https://t.co/pLk7rvoRSn https:/…\": 1, 'RT @HeidiAlpine: @dmartosko Cruz video found.....racing from the scene.... #cruzsexscandal https://t.co/zuAPZfQDk3': 1, 'Njihuni me Zonjën Trump !!! | Ekskluzive https://t.co/4KmsQi47VD': 1, \"Your an idiot she shouldn't have tried to grab trump after the fact she's an idiot https://t.co/lpASyeNVpG\": 2, 'RT @AlanLohner: The anti-American D.C. elites despise Trump for his America-first foreign policy. Trump threatens their gravy train. https:…': 1, 'RT @BIackPplTweets: Young Donald trump meets his neighbor  https://t.co/RFlu17Z1eE': 1, 'RT @trumpresearch: @WaitingInBagdad @thehill Trump supporters have selective amnisia.': 2, 'RT @HouseCracka: 29,000+ PEOPLE WATCHING TRUMP LIVE ON ONE STREAM!!!\\n\\nhttps://t.co/7QCFz9ehNe': 1, 'RT @urfavandtrump: RT for Brendon Urie\\nFav for Donald Trump https://t.co/PZ5vS94lOg': 2, 'RT @trapgrampa: This is how I see #Trump every time he speaks. https://t.co/fYSiHNS0nT': 2, 'RT @Pjw20161951: NO KIDDING: #SleazyDonald just attacked Scott Walker for NOT RAISING TAXES in WI! #LyinTrump\\n#NeverTrump  #CruzCrew  https…': 2, 'RT @ggreenwald: The media spent all day claiming @SusanSarandon said she might vote for Trump. A total fabrication, but whatever... https:/…': 3, 'RT @mitchellvii: So let me get this straight.  Any reporter can assault Mr Trump at any time and Corey can do nothing?  Michelle is clearly…': 2, 'RT @paulbenedict7: How #Trump Sacks RINO Strongholds by Hitting Positions Held by Dems and GOP https://t.co/D7ulnAJhis   #tcot #PJNET https…': 2, 'RT @DRUDGE_REPORT: VIDEO:  Trump emotional moment with Former Miss Wisconsin who has terminal illness... https://t.co/qt06aG9inT': 2, '#HillYes #ImWithHer #RollHillary @HillaryClinton  https://t.co/OwYXKIalyn': 2, \"RT @DennisApgar: Thank God I seen Trump at first stop in Wisconsin media doesn't know how great he is, advice watch live streaming https://…\": 2, \"Trump won't do a yes ma'am for this.  https://t.co/r3WkGZDjPH\": 1, \"RT @sciam: Trump's idiosyncratic patterns of speech are why people tend either to love or hate him https://t.co/QXwquVgs3c https://t.co/P9N…\": 2, 'RT @Norsu2: Nightmare WI poll for Ted Cruz has Kasich surging: Trump 29, Kasich 27, Cruz 25. https://t.co/lJsgbLYY1P #NeverTrump': 1, 'RT @thehill: WATCH: Protester pepper-sprayed point blank at Trump rally https://t.co/B5f65Al9ld https://t.co/skAfByXuQc': 1, 'Opinion: The big story is -- Sanders https://t.co/9Z9ZVnZ1Zi': 2, 'GOP speechwriter: By November, Ivanka will be voting for Clinton | TheHill https://t.co/tUT7LpEHak': 1, 'This dude must have some serious issues  https://t.co/ojYaDpnSoe': 1, \"RT @DebbieStout5: Wow! Last I checked it was just 12 points &amp; that wasn't more than a day ago. Oh boy Trump ppl might want to rethink🤔 http…\": 1, \"RT @tyleroakley: i'm a messy bitch, but at least i'm not voting for trump\": 1, \"RT @vandives: Trump supporters r tired of justice NOT being served. There's no justice anymore. Hardworking Americans get screwed. That's n…\": 1, 'RT @AP: BREAKING: Trump vows to stand by campaign manager charged with battery, says he does not discard people.': 2, 'It Cometh from the Pit. And Hath a Knout https://t.co/iyF5HPDJNU\\n#Trump\\n#Election2016 https://t.co/W4ZXQfUHi8': 1, '@footlooseracer @hautedamn @z0mgItsHutch So much sadness and pure stupidity from the people who support Trump. Very sad.': 1, 'RT @urfavandtrump: RT for Jerrie (Little Mix)\\nFav for Donald Trump https://t.co/nEVxElW6iG': 2, 'PSA: @piersmorgan is a asshole. https://t.co/2Gjp2NPo0w': 2, 'RT @NoahCRothman: When Walker was fighting for reforms, Trump was defending unions and collective bargaining privileges https://t.co/e1UWNN…': 2, 'RT @RedheadAndRight: Report: Secret Service Says Michelle Fields Touched Trump https://t.co/c5c2sD8VO2\\n\\nThis is the only article you will n…': 2, 'Me listening to DONALD TRUMP saying that he has no small hands ( allegedly ) https://t.co/LhUYdi8Vgf https://t.co/IwD9Lg84HY': 1, 'RT @AIIAmericanGirI: VIDEO=&gt; Anti-Trump Protester SLUGS Elderly Trump Supporter in the Face\\nhttps://t.co/GeEryMDuDY': 2, 'RT @JusticeRanger1: @realDonaldTrump @Pudingtane @DanScavino @GOP @infowars @EricTrump \\nURGENT PUBLIC TRUMP ALERT:\\nCOVERT KILL MEANS https:…': 2, 'Susan Sarandon Shares Interesting Opinion on Donald Trump https://t.co/Gjzkpr5mrH': 2, '@jbrading dude you are annoying af. Deion sanders fucking hates you guys.': 2, 'RT @Schneider_CM: Trump says nobody had ever heard of executive orders before Obama started signing them. Never heard of the Emancipation P…': 2, 'RT @RonBasler1: @DavidWhitDennis @realDonaldTrump @tedcruz \\n\\nCRUZ SCREWS HOOKERS\\n\\nCRUZ / CLINTON': 2, \"@realDonaldTrump Its too bad Cruz doesn't have enough brains to realize he's being led down the primrose lane to be neutered by the Elites!!\": 2, 'RT @DonaldsAngel: Former Ms. WI just said that she is terminally ill but because of Trump pageant, her 7 yr. old son has his college educat…': 2, 'Photo: #Donald #Trump #Protest in #Milwaukee ahead of CNN GOP #Town #Hall with #Trump, Ted #Cruz, ... https://t.co/8NOguZUSCK': 2, 'RT @Dodarey: @DR8801 @SykesCharlie Charlie, let\\'s see you get a straight \"yes\" or \"no\" answer from Cruz a/b being unfaithful to his wife @T…': 2, 'RT @RockCliffOne: Remember when the idea of a diabolical moron holding the world hostage was an idea for a funny movie? #Trump #GOP https:/…': 2, 'RT @HillaryClinton: \"Every day, another Republican bemoans the rise of Donald Trump... but [he] didn’t come out of nowhere.\" —Hillary\\nhttps…': 2, '@realDonaldTrump @MELANIATRUMP Get Them Good Mr.Trump ,Great Picture of You and The First Lady': 2, \"I just saw this. I'm speechless.  https://t.co/cmUYxtrX0Y\": 2, 'Trump campaign chief charged with battery https://t.co/SpIukqj3Rb': 1, 'RT @immigrant4trump: @immigrant4trump msm, cable news attacking trump all day, from 8am to 10pm today, then the reruns come on, repeating t…': 2, '@ErinBurnett @Bakari_Sellers @benfergusonshow @BernieSanders Again @CNN allows Jeff Lord far too much time to spin wacky Trump.': 2, '@noreallyhowcome @TVineberg Learn about Bernie https://t.co/bhaUnQ4jrr Learn about Hillary https://t.co/eAbfWrAG4G https://t.co/W53JJCkDFv': 1, 'RT @GlendaJazzey: Donald Trump’s Campaign Financing Dodge, @rrotunda https://t.co/L8flI4lswG via @VerdictJustia': 1, \"Trump who prides himself on the ability to spot a good deal missed out on a big one in Louisiana. C'est la vie.  https://t.co/MZrvWwTWZV\": 1, 'Judicial Watch: Obama Administration Withholds Draft Whitewater Indictment of Hillary Clinton https://t.co/EuW9J1WVm1': 1, \"I don't understand how anyone can support a hateful person like @realDonaldTrump  https://t.co/BbYMxRWadC\": 1, 'RT @TUSK81: LOUDER FOR THE PEOPLE IN THE BACK https://t.co/hlPVyNLXzx': 1, 'RT @loopzoop: Well...put it back https://t.co/8Yb7BDT5VM': 1, 'Donald Trump: Victim. https://t.co/qvK17ZnUTZ': 1, 'RT @claytoncubitt: Stop asking Bernie supporters if they’ll vote for Hillary against Trump. We got a plan to beat Trump already. Called Ber…': 1, 'Kasich is gonna fuck this up for Ted Cruz  https://t.co/JYYok5qx7R': 2, \"RT @akaMaude13: Seriously can't make this up. What a joke. #NeverTrump  https://t.co/JkTx6mdRgC\": 1, '@marklevinshow try reporting this truth. https://t.co/z76fZzCRK3': 1}\n"
          ]
        }
      ]
    },
    {
      "cell_type": "markdown",
      "source": [
        "## Ámbito de las variables"
      ],
      "metadata": {
        "id": "0SXUty63Tiwo"
      }
    },
    {
      "cell_type": "code",
      "source": [
        "# Ambito de las variables\n",
        "int_var = 5\n",
        "\n",
        "def my_function(int_var):\n",
        "    int_var = 3\n",
        "    print(\"inside:\", int_var)\n",
        "\n",
        "my_function(int_var)\n",
        "print(\"outside:\", int_var)"
      ],
      "metadata": {
        "colab": {
          "base_uri": "https://localhost:8080/"
        },
        "id": "K0JYG099UFWT",
        "outputId": "b48ab382-58b1-487c-b061-d394df86d191"
      },
      "execution_count": null,
      "outputs": [
        {
          "output_type": "stream",
          "name": "stdout",
          "text": [
            "inside: b\n",
            "outside: a\n"
          ]
        }
      ]
    },
    {
      "cell_type": "code",
      "source": [
        "# Se define la variable como global\n",
        "global_var = 0\n",
        "\n",
        "\n",
        "def user_function():\n",
        "    \"\"\"Cambia el valor de la variable global\"\"\"\n",
        "    global global_var\n",
        "    global_var += 1\n",
        "\n",
        "\n",
        "display(global_var)\n",
        "user_function()\n",
        "display(global_var)"
      ],
      "metadata": {
        "colab": {
          "base_uri": "https://localhost:8080/",
          "height": 52
        },
        "id": "-tQ8BuIjTict",
        "outputId": "cdc61b98-8d6d-4984-e3f7-a3cc256ea587"
      },
      "execution_count": null,
      "outputs": [
        {
          "output_type": "display_data",
          "data": {
            "text/plain": [
              "0"
            ]
          },
          "metadata": {}
        },
        {
          "output_type": "display_data",
          "data": {
            "text/plain": [
              "1"
            ]
          },
          "metadata": {}
        }
      ]
    },
    {
      "cell_type": "code",
      "source": [
        "# Verificando variables\n",
        "int_var = 5\n",
        "\n",
        "def my_function(a):\n",
        "    int_var = a\n",
        "    print(\"inside:\", int_var)\n",
        "\n",
        "my_function(3)\n",
        "print(\"outside:\", int_var)"
      ],
      "metadata": {
        "colab": {
          "base_uri": "https://localhost:8080/"
        },
        "id": "lQEdJVgqU0Rq",
        "outputId": "36bf7702-e202-4e08-ba10-65515096007e"
      },
      "execution_count": null,
      "outputs": [
        {
          "output_type": "stream",
          "name": "stdout",
          "text": [
            "inside: 3\n",
            "outside: 5\n"
          ]
        }
      ]
    },
    {
      "cell_type": "code",
      "source": [
        "# Usando global\n",
        "int_var = 5\n",
        "\n",
        "def my_function(a):\n",
        "    global int_var\n",
        "    int_var = a\n",
        "    print(\"inside:\", int_var)\n",
        "\n",
        "my_function(3)\n",
        "print(\"outside:\", int_var)"
      ],
      "metadata": {
        "colab": {
          "base_uri": "https://localhost:8080/"
        },
        "id": "Gm8KufIwV3V1",
        "outputId": "473ed670-1c92-498d-d3c2-c637ffb7fe2a"
      },
      "execution_count": null,
      "outputs": [
        {
          "output_type": "stream",
          "name": "stdout",
          "text": [
            "inside: b\n",
            "outside: b\n"
          ]
        }
      ]
    }
  ]
}