{
  "cells": [
    {
      "cell_type": "markdown",
      "id": "32bbcf32-aff6-48f2-84b3-aa388ff8aa45",
      "metadata": {
        "id": "32bbcf32-aff6-48f2-84b3-aa388ff8aa45"
      },
      "source": [
        "# Introducción al Análisis Exploratorio Cuantitativo de Datos"
      ]
    },
    {
      "cell_type": "markdown",
      "source": [
        ">[Introducción al Análisis Exploratorio Cuantitativo de Datos](#scrollTo=32bbcf32-aff6-48f2-84b3-aa388ff8aa45)\n",
        "\n",
        ">>[Introducción](#scrollTo=c5863fb5-2877-4659-b02d-d983ee466da2)\n",
        "\n",
        ">>>[¿Qué es?](#scrollTo=af0917d4-d267-4b24-b9d6-10decbfb2541)\n",
        "\n",
        ">>>[Objetivos](#scrollTo=af0917d4-d267-4b24-b9d6-10decbfb2541)\n",
        "\n",
        ">>>[Proceso metodológico](#scrollTo=09a2cc09-abfd-42ca-aef6-560410f8d10d)\n",
        "\n",
        ">>[Definiciones y conceptos básicos](#scrollTo=f960e006-421c-4376-9ae9-f3837bb7e296)\n",
        "\n",
        ">>>[Análisis exploratorio cuantitativo de datos](#scrollTo=66b70617-46a5-45e6-8a73-db9a77e7e1ec)\n",
        "\n",
        ">>>[Muestreo](#scrollTo=83c3ba8e-e7e5-4896-810c-1ebb30811c22)\n",
        "\n",
        ">>>[Estimación de parámetros](#scrollTo=854dccbe-8423-487f-a9d1-1203f859d9cd)\n",
        "\n",
        ">>>[Tipos de datos](#scrollTo=1170c053-cc1b-4fed-909a-f8b758a26bce)\n",
        "\n",
        ">>>[Datos rectagulares](#scrollTo=d24198a6-6a38-4ab5-b72a-f0f029294210)\n",
        "\n"
      ],
      "metadata": {
        "colab_type": "toc",
        "id": "JOUj0qdeE5xi"
      },
      "id": "JOUj0qdeE5xi"
    },
    {
      "cell_type": "markdown",
      "id": "c5863fb5-2877-4659-b02d-d983ee466da2",
      "metadata": {
        "id": "c5863fb5-2877-4659-b02d-d983ee466da2"
      },
      "source": [
        "## Introducción"
      ]
    },
    {
      "cell_type": "markdown",
      "id": "af0917d4-d267-4b24-b9d6-10decbfb2541",
      "metadata": {
        "jp-MarkdownHeadingCollapsed": true,
        "tags": [],
        "id": "af0917d4-d267-4b24-b9d6-10decbfb2541"
      },
      "source": [
        "### ¿Qué es?\n",
        "\n",
        "Es una aproximación metodológica y filosófica para organizar, graficar y resumir los datos, de tal forma que se puedan resolver **preguntas de interés**.\n",
        "\n",
        "### Objetivos\n",
        "\n",
        "El análisis exploratorio de datos busca:\n",
        "\n",
        "* Mejorar la comprensión y aumentar el conocimiento.\n",
        "\n",
        "* Generar y confirmar una o más hipótesis.\n",
        "\n",
        "* Construir una intuición y ganar insights sobre los datos.\n",
        "\n",
        "* Formular conclusiones válidas.\n",
        "\n",
        "* Ayudar en análisis de decisiones y planeamiento.\n",
        "\n",
        "* Ayudar en análisis causal."
      ]
    },
    {
      "cell_type": "markdown",
      "id": "09a2cc09-abfd-42ca-aef6-560410f8d10d",
      "metadata": {
        "tags": [],
        "id": "09a2cc09-abfd-42ca-aef6-560410f8d10d"
      },
      "source": [
        "### Proceso metodológico\n",
        "\n",
        "* **Fase Previa**: ingestión y limpieza de datos.\n",
        "\n",
        "* Análisis de la distribución.\n",
        "\n",
        "* Correlación.\n",
        "\n",
        "* Ranking.\n",
        "\n",
        "* Evolución\n",
        "\n",
        "* Clustering.\n",
        "\n",
        "* Selección de Características.\n",
        "\n",
        "* Ingeniería de Características.\n",
        "\n",
        "* **Fase Posterior:** Sintetización, modelado, comunicación y decisión."
      ]
    },
    {
      "cell_type": "markdown",
      "id": "f960e006-421c-4376-9ae9-f3837bb7e296",
      "metadata": {
        "id": "f960e006-421c-4376-9ae9-f3837bb7e296"
      },
      "source": [
        "## Definiciones y conceptos básicos\n",
        "\n",
        "Como fase inicial de la analítica y de cualquier proceso de modelado, es necesario conocer y familiarizarse con las características de los datos disponibles, con el objetivo de determinar si la información se ajusta al problema planteado inicialmente y generar hipotesis del comportamiento. \n",
        "\n",
        "Existen diversas técnicas para explorar los datos, agrupadas en medidas numéricas como las medidas de localización o medidas de dispersión, y gráficas explicativas. En este tutorial se describen las preguntas más frecuentes a las que se enfrenta un modelador en cuanto a los datos y las posibles técnicas que ayudan a esclarecerlas. "
      ]
    },
    {
      "cell_type": "markdown",
      "id": "66b70617-46a5-45e6-8a73-db9a77e7e1ec",
      "metadata": {
        "id": "66b70617-46a5-45e6-8a73-db9a77e7e1ec"
      },
      "source": [
        "### Análisis exploratorio cuantitativo de datos\n",
        "\n",
        "En el análisis exploratorio de datos se busca obtener información de interés de la población a partir de una muestra que es representativa de la población.\n",
        "\n",
        "En términos más formales, se usa para generar hipótesis sobre los datos, tales como:\n",
        "\n",
        "* Ubicación del centro de los datos.\n",
        "* Dispersión de los datos.\n",
        "* Distribución de probabilidades de los datos.\n",
        "* Relaciones entre los datos."
      ]
    },
    {
      "cell_type": "markdown",
      "id": "83c3ba8e-e7e5-4896-810c-1ebb30811c22",
      "metadata": {
        "id": "83c3ba8e-e7e5-4896-810c-1ebb30811c22"
      },
      "source": [
        "### Muestreo\n",
        "\n",
        "**Población**: Colección de objetos o individuos sobre los cuales se desea obtener información de interés.\n",
        "\n",
        "**Parámetro:** Un número que resume una propiedad o característica de la población entera. \n",
        "\n",
        "**Muestra:** Grupo obtenido aleatoriamente que es representativo de la población.\n",
        "\n",
        "**Estadístico:** Un número que resume una propiedad o característica de la muestra. "
      ]
    },
    {
      "cell_type": "markdown",
      "id": "23ebdea7-74f4-4c4b-9d69-e834c90f8e0d",
      "metadata": {
        "id": "23ebdea7-74f4-4c4b-9d69-e834c90f8e0d"
      },
      "source": [
        "![Poblacion-Muestra](https://jdvelasq.github.io/courses/_images/pob-muestra.jpg)"
      ]
    },
    {
      "cell_type": "markdown",
      "id": "854dccbe-8423-487f-a9d1-1203f859d9cd",
      "metadata": {
        "id": "854dccbe-8423-487f-a9d1-1203f859d9cd"
      },
      "source": [
        "### Estimación de parámetros\n",
        "\n",
        "Uno de los objetivos fundamentales en estadística es estimar el valor de un parámetro de la población mediante un estadístico calculado sobre la muestra. \n",
        "\n",
        "Existen dos aproximaciones para estimar características de la población:\n",
        "\n",
        "* **Estimación de intervalos de confianza:** usualmente para estadísticos calculados sobre la muestra de datos.  \n",
        "\n",
        "* **Pruebas de hipótesis:** para propiedades más complejas de la población, como por ejemplo su distribución de probabilidades o relaciones de dependencia entre variables."
      ]
    },
    {
      "cell_type": "markdown",
      "id": "1170c053-cc1b-4fed-909a-f8b758a26bce",
      "metadata": {
        "id": "1170c053-cc1b-4fed-909a-f8b758a26bce"
      },
      "source": [
        "### Tipos de datos\n",
        "\n",
        "Los tipos de datos son los siguientes:\n",
        "\n",
        "* **Continuos** (flotante, numérico)\n",
        "* **Discretos** (enteros)\n",
        "* **Categóricos** (enumeraciones, factores, valores nominales).\n",
        "* **Binarios** (Indicadores, lógicos)\n",
        "* **Ordinales** (Categóricos con un ordenamiento explícito, factores ordenados)."
      ]
    },
    {
      "cell_type": "markdown",
      "id": "d24198a6-6a38-4ab5-b72a-f0f029294210",
      "metadata": {
        "id": "d24198a6-6a38-4ab5-b72a-f0f029294210"
      },
      "source": [
        "### Datos rectagulares\n",
        "\n",
        "Datos organizados en una tabla.\n",
        "\n",
        "* **Feature:** característica, atributo, entrada, predictor, variable independiente.\n",
        "* **Outcome:** resultado, variable dependiente, respuesta, objetivo, salida.\n",
        "* **Registro:** fila en una tabla de datos, también conocida como caso, ejemplo, instancia, observación, patrón o muestra.\n"
      ]
    }
  ],
  "metadata": {
    "kernelspec": {
      "display_name": "Python 3.9.6 ('.venv': venv)",
      "language": "python",
      "name": "python3"
    },
    "language_info": {
      "codemirror_mode": {
        "name": "ipython",
        "version": 3
      },
      "file_extension": ".py",
      "mimetype": "text/x-python",
      "name": "python",
      "nbconvert_exporter": "python",
      "pygments_lexer": "ipython3",
      "version": "3.9.6"
    },
    "vscode": {
      "interpreter": {
        "hash": "2482a4565599eda3cd2db35331af39775c1f78a505a9deef48c721423040da5b"
      }
    },
    "colab": {
      "provenance": []
    }
  },
  "nbformat": 4,
  "nbformat_minor": 5
}