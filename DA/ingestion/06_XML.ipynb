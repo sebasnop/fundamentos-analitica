{
  "cells": [
    {
      "cell_type": "markdown",
      "id": "9bdb1960-15f6-4273-9c17-671608373885",
      "metadata": {
        "id": "9bdb1960-15f6-4273-9c17-671608373885"
      },
      "source": [
        "# Importación de archivos XML"
      ]
    },
    {
      "cell_type": "markdown",
      "source": [
        ">[Importación de archivos XML](#scrollTo=9bdb1960-15f6-4273-9c17-671608373885)\n",
        "\n",
        ">>[XML](#scrollTo=R3C0oaGO3iYq)\n",
        "\n",
        ">>[Ingestión del archivo](#scrollTo=DtbRckQX3nB4)\n",
        "\n"
      ],
      "metadata": {
        "colab_type": "toc",
        "id": "tJmPW_Y74rm7"
      },
      "id": "tJmPW_Y74rm7"
    },
    {
      "cell_type": "markdown",
      "source": [
        "## XML"
      ],
      "metadata": {
        "id": "R3C0oaGO3iYq"
      },
      "id": "R3C0oaGO3iYq"
    },
    {
      "cell_type": "markdown",
      "id": "01fc16a4-012a-48b4-90d2-f0f6f5176196",
      "metadata": {
        "id": "01fc16a4-012a-48b4-90d2-f0f6f5176196"
      },
      "source": [
        "**XML** Es un lenguaje de marcado extensible que permite la definición y almacenamiento de datos que pueden ser compartidos entre diferentes sistemas (bases de datos, sitios web y aplicaciones de terceros).\n",
        "\n",
        "Tiene reglas predefinidas que facilitan la transmisión de datos entre sistemas."
      ]
    },
    {
      "cell_type": "code",
      "execution_count": null,
      "id": "72feeac4-e01a-46e3-aecb-9f399d0e724c",
      "metadata": {
        "tags": [],
        "id": "72feeac4-e01a-46e3-aecb-9f399d0e724c",
        "outputId": "c8e2b000-8282-4ad5-f906-ee49c3e6c714"
      },
      "outputs": [
        {
          "name": "stdout",
          "output_type": "stream",
          "text": [
            "Overwriting /tmp/core-site.xml\n"
          ]
        }
      ],
      "source": [
        "%%writefile /tmp/core-site.xml\n",
        "<?xml version=\"1.0\" encoding=\"UTF-8\"?>\n",
        "<?xml-stylesheet type=\"text/xsl\" href=\"configuration.xsl\"?>\n",
        "<configuration>\n",
        "    <property>\n",
        "        <name>fs.defaultFS</name>\n",
        "        <value>hdfs://0.0.0.0:9000</value>\n",
        "    </property>\n",
        "</configuration>"
      ]
    },
    {
      "cell_type": "markdown",
      "id": "09db2f00-1cd8-4236-861d-f5fa4d6c3ea2",
      "metadata": {
        "id": "09db2f00-1cd8-4236-861d-f5fa4d6c3ea2"
      },
      "source": [
        "**Interpretación**\n",
        "    \n",
        "    {\n",
        "        \"root\": {\n",
        "            \"tag\": \"configuration\",\n",
        "            \"children\": [\n",
        "                {\n",
        "                    \"tag\": \"property\",\n",
        "                    \"children\": [\n",
        "                        {\n",
        "                            \"tag\": \"name\",\n",
        "                            \"text\": \"fs.defaultFS\",\n",
        "                        },\n",
        "                        {\n",
        "                            \"tag\": \"vaalue\",\n",
        "                            \"text\": \"hdfs://0.0.0.0:9000\",\n",
        "                        }\n",
        "                    ]\n",
        "                }\n",
        "            ]\n",
        "        }\n",
        "    }\n",
        "    "
      ]
    },
    {
      "cell_type": "markdown",
      "source": [
        "## Ingestión del archivo"
      ],
      "metadata": {
        "id": "DtbRckQX3nB4"
      },
      "id": "DtbRckQX3nB4"
    },
    {
      "cell_type": "code",
      "execution_count": null,
      "id": "2ca262f9-cfdf-41b2-aa5e-c3c3586ff62b",
      "metadata": {
        "id": "2ca262f9-cfdf-41b2-aa5e-c3c3586ff62b",
        "outputId": "84314a80-e01f-47c4-d531-15063e8ba036"
      },
      "outputs": [
        {
          "data": {
            "text/plain": [
              "'configuration'"
            ]
          },
          "execution_count": 2,
          "metadata": {},
          "output_type": "execute_result"
        }
      ],
      "source": [
        "#\n",
        "# Ingestión del archivo\n",
        "# ===============================================\n",
        "#\n",
        "import xml.etree.ElementTree as ET\n",
        "\n",
        "tree = ET.parse(\"/tmp/core-site.xml\")\n",
        "root = tree.getroot()\n",
        "root.tag"
      ]
    },
    {
      "cell_type": "code",
      "execution_count": null,
      "id": "46c55c80-a5b4-42f2-8e6f-841d842d826a",
      "metadata": {
        "id": "46c55c80-a5b4-42f2-8e6f-841d842d826a",
        "outputId": "823df7e3-f142-4658-d62a-deedcab3af7a"
      },
      "outputs": [
        {
          "data": {
            "text/plain": [
              "[<Element 'property' at 0x10a215ef0>]"
            ]
          },
          "execution_count": 3,
          "metadata": {},
          "output_type": "execute_result"
        }
      ],
      "source": [
        "#\n",
        "# Lista de hijos del nodo raiz\n",
        "#\n",
        "list(root)"
      ]
    },
    {
      "cell_type": "code",
      "execution_count": null,
      "id": "b616042e-b7f7-4f72-a053-41021f22ea13",
      "metadata": {
        "id": "b616042e-b7f7-4f72-a053-41021f22ea13",
        "outputId": "d2a106a1-7d48-4586-9a67-c245b2e5caac"
      },
      "outputs": [
        {
          "data": {
            "text/plain": [
              "1"
            ]
          },
          "execution_count": 4,
          "metadata": {},
          "output_type": "execute_result"
        }
      ],
      "source": [
        "#\n",
        "# Cantidad de hijos del nodo raiz\n",
        "#\n",
        "len(list(root))"
      ]
    },
    {
      "cell_type": "code",
      "execution_count": null,
      "id": "03dfb0ff-7ab7-4d57-925e-278a4e2de6d9",
      "metadata": {
        "id": "03dfb0ff-7ab7-4d57-925e-278a4e2de6d9",
        "outputId": "2337406a-09c9-481f-9293-d2dcb18b5727"
      },
      "outputs": [
        {
          "data": {
            "text/plain": [
              "'property'"
            ]
          },
          "execution_count": 5,
          "metadata": {},
          "output_type": "execute_result"
        }
      ],
      "source": [
        "#\n",
        "# tag del primer nodo hijo\n",
        "#\n",
        "root[0].tag"
      ]
    },
    {
      "cell_type": "code",
      "execution_count": null,
      "id": "8adc78e4-3b0a-474c-a994-240aad04a3fe",
      "metadata": {
        "id": "8adc78e4-3b0a-474c-a994-240aad04a3fe",
        "outputId": "b3e6dc8a-3cdc-471e-fece-6b6c6518ae67"
      },
      "outputs": [
        {
          "data": {
            "text/plain": [
              "'name'"
            ]
          },
          "execution_count": 6,
          "metadata": {},
          "output_type": "execute_result"
        }
      ],
      "source": [
        "#\n",
        "# Primer tag del primer hijo\n",
        "#\n",
        "root[0][0].tag"
      ]
    },
    {
      "cell_type": "code",
      "execution_count": null,
      "id": "8dd82ad1-e7c7-4495-915b-e8bd24b81520",
      "metadata": {
        "id": "8dd82ad1-e7c7-4495-915b-e8bd24b81520",
        "outputId": "e3b489bf-32fd-4fc1-921a-790774462375"
      },
      "outputs": [
        {
          "data": {
            "text/plain": [
              "'fs.defaultFS'"
            ]
          },
          "execution_count": 7,
          "metadata": {},
          "output_type": "execute_result"
        }
      ],
      "source": [
        "#\n",
        "# Contenido de la propiedad text\n",
        "# del primer hijo\n",
        "#\n",
        "root[0][0].text"
      ]
    },
    {
      "cell_type": "code",
      "execution_count": null,
      "id": "c01c809a-1a61-406d-9563-d83c623e01b0",
      "metadata": {
        "tags": [],
        "id": "c01c809a-1a61-406d-9563-d83c623e01b0",
        "outputId": "c841c9f4-87dc-44fb-9f97-d531928613fc"
      },
      "outputs": [
        {
          "data": {
            "text/plain": [
              "'hdfs://0.0.0.0:9000'"
            ]
          },
          "execution_count": 8,
          "metadata": {},
          "output_type": "execute_result"
        }
      ],
      "source": [
        "#\n",
        "# Contenido de la propiedad text\n",
        "# del segundo hijo\n",
        "#\n",
        "root[0][1].text"
      ]
    }
  ],
  "metadata": {
    "kernelspec": {
      "display_name": "Python 3 (ipykernel)",
      "language": "python",
      "name": "python3"
    },
    "language_info": {
      "codemirror_mode": {
        "name": "ipython",
        "version": 3
      },
      "file_extension": ".py",
      "mimetype": "text/x-python",
      "name": "python",
      "nbconvert_exporter": "python",
      "pygments_lexer": "ipython3",
      "version": "3.9.6"
    },
    "colab": {
      "provenance": []
    }
  },
  "nbformat": 4,
  "nbformat_minor": 5
}