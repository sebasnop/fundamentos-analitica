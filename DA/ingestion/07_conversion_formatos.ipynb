{
  "cells": [
    {
      "cell_type": "markdown",
      "metadata": {
        "id": "WehzEVRkywG7"
      },
      "source": [
        "Conversión de formatos usando Pandas\n",
        "======="
      ]
    },
    {
      "cell_type": "markdown",
      "metadata": {
        "id": "XBVylzsKywG9"
      },
      "source": [
        "Una tarea común que se da en la práctica es convertir una tabla de datos de un formato a otro. **Pandas** posee herramientas que permiten realizar esta conversión de forma directa."
      ]
    },
    {
      "cell_type": "markdown",
      "metadata": {
        "id": "Vz684Nh1ywG9"
      },
      "source": [
        "Al finalizar el documento, usted estará en capacidad de leer y escribir tablas en los siguientes formatos:"
      ]
    },
    {
      "cell_type": "markdown",
      "metadata": {
        "id": "PNT6G6n-ywG9"
      },
      "source": [
        "* CSV.\n",
        "\n",
        "* JSON.\n",
        "\n",
        "* Pickle.\n",
        "\n",
        "* Ancho fijo.\n",
        "\n",
        "* HTML.\n",
        "\n",
        "* Microsoft Excel.\n",
        "\n",
        "* HDF5.\n",
        "\n",
        "* Stata.\n",
        "\n",
        "* Matlab y Octave."
      ]
    },
    {
      "cell_type": "markdown",
      "source": [
        ">[Conversión de formatos usando Pandas](#scrollTo=WehzEVRkywG7)\n",
        "\n",
        ">>[Preparación](#scrollTo=a86RltenywG9)\n",
        "\n",
        ">>[Creación de una tabla de ejemplo](#scrollTo=uIRC49jUywG-)\n",
        "\n",
        ">>[Almacenamiento del archivo en disco](#scrollTo=P9vi_9NAywG_)\n",
        "\n",
        ">>[Conversión de CSV a JSON](#scrollTo=UsTjkUyYywG_)\n",
        "\n",
        ">>[Formato nativo de Python](#scrollTo=KGnxWZFDywHB)\n",
        "\n",
        ">>[Archivos delimitados por caracteres con Pandas](#scrollTo=AAQB3NeTywHB)\n",
        "\n",
        ">>[Formato de ancho fijo con Pandas](#scrollTo=bA8GqrgdywHC)\n",
        "\n",
        ">>[HTML con Pandas](#scrollTo=PmA9wzrgywHD)\n",
        "\n",
        ">>[Microsoft Excel](#scrollTo=R7cWLV1QywHD)\n",
        "\n",
        ">>[Formato HDF5](#scrollTo=xBudf8VYywHD)\n",
        "\n",
        ">>[STATA](#scrollTo=0R8WdvWvywHE)\n",
        "\n",
        ">>[Lectura de Matlab y Octave](#scrollTo=szClC9RrywHE)\n",
        "\n"
      ],
      "metadata": {
        "colab_type": "toc",
        "id": "s84d6HJ9HARx"
      }
    },
    {
      "cell_type": "markdown",
      "metadata": {
        "id": "a86RltenywG9"
      },
      "source": [
        "## Preparación"
      ]
    },
    {
      "cell_type": "code",
      "execution_count": null,
      "metadata": {
        "id": "25uLc84MywG9"
      },
      "outputs": [],
      "source": [
        "import numpy as np\n",
        "import pandas as pd\n",
        "\n",
        "pd.set_option(\"display.notebook_repr_html\", False)"
      ]
    },
    {
      "cell_type": "markdown",
      "metadata": {
        "id": "uIRC49jUywG-"
      },
      "source": [
        "## Creación de una tabla de ejemplo"
      ]
    },
    {
      "cell_type": "code",
      "execution_count": null,
      "metadata": {
        "id": "3lpnTs4LywG-",
        "outputId": "f6c20264-af8c-4249-d173-d1e2127e5466"
      },
      "outputs": [
        {
          "data": {
            "text/plain": [
              "   index name  value\n",
              "0      1    A   3.03\n",
              "1      2    B   5.14\n",
              "2      3    C   0.40\n",
              "3      4    D   1.13\n",
              "4      5    E   8.25"
            ]
          },
          "execution_count": 2,
          "metadata": {},
          "output_type": "execute_result"
        }
      ],
      "source": [
        "df = pd.DataFrame(\n",
        "    {\n",
        "        \"index\": list(range(1, 6)),\n",
        "        \"name\": [\"A\", \"B\", \"C\", \"D\", \"E\"],\n",
        "        \"value\": [3.03, 5.14, 0.40, 1.13, 8.25],\n",
        "    }\n",
        ")\n",
        "df"
      ]
    },
    {
      "cell_type": "markdown",
      "metadata": {
        "id": "P9vi_9NAywG_"
      },
      "source": [
        "## Almacenamiento del archivo en disco"
      ]
    },
    {
      "cell_type": "code",
      "execution_count": null,
      "metadata": {
        "id": "26BskNeiywG_",
        "outputId": "ecd43478-0cae-4c76-8060-29304219fd4f"
      },
      "outputs": [
        {
          "name": "stdout",
          "output_type": "stream",
          "text": [
            "index,name,value\n",
            "1,A,3.03\n",
            "2,B,5.14\n",
            "3,C,0.4\n",
            "4,D,1.13\n",
            "5,E,8.25\n"
          ]
        }
      ],
      "source": [
        "df.to_csv(\n",
        "    \"/tmp/data.csv\",\n",
        "    index=False,\n",
        ")\n",
        "\n",
        "!cat /tmp/data.csv"
      ]
    },
    {
      "cell_type": "markdown",
      "metadata": {
        "id": "UsTjkUyYywG_"
      },
      "source": [
        "## Conversión de CSV a JSON"
      ]
    },
    {
      "cell_type": "code",
      "execution_count": null,
      "metadata": {
        "id": "ifJMAxsNywG_",
        "outputId": "219350a5-db7b-42e3-971d-3e08b9dcdf76"
      },
      "outputs": [
        {
          "name": "stdout",
          "output_type": "stream",
          "text": [
            "{\n",
            " \"index\":{\n",
            "  \"0\":1,\n",
            "  \"1\":2,\n",
            "  \"2\":3,\n",
            "  \"3\":4,\n",
            "  \"4\":5\n",
            " },\n",
            " \"name\":{\n",
            "  \"0\":\"A\",\n",
            "  \"1\":\"B\",\n",
            "  \"2\":\"C\",\n",
            "  \"3\":\"D\",\n",
            "  \"4\":\"E\"\n",
            " },\n",
            " \"value\":{\n",
            "  \"0\":3.03,\n",
            "  \"1\":5.14,\n",
            "  \"2\":0.4,\n",
            "  \"3\":1.13,\n",
            "  \"4\":8.25\n",
            " }\n",
            "}"
          ]
        }
      ],
      "source": [
        "#\n",
        "# Conversión a JSON con la orientación por\n",
        "# defecto ('columns')\n",
        "#\n",
        "pd.read_csv(\"/tmp/data.csv\").to_json(\n",
        "    \"/tmp/data.json\",\n",
        "    indent=True,\n",
        ")\n",
        "\n",
        "!cat /tmp/data.json"
      ]
    },
    {
      "cell_type": "code",
      "execution_count": null,
      "metadata": {
        "id": "jtZHIAFKywHA",
        "outputId": "fe99c65e-fc23-44d9-957f-9333be525ec4"
      },
      "outputs": [
        {
          "name": "stdout",
          "output_type": "stream",
          "text": [
            "{\n",
            " \"0\":{\n",
            "  \"index\":1,\n",
            "  \"name\":\"A\",\n",
            "  \"value\":3.03\n",
            " },\n",
            " \"1\":{\n",
            "  \"index\":2,\n",
            "  \"name\":\"B\",\n",
            "  \"value\":5.14\n",
            " },\n",
            " \"2\":{\n",
            "  \"index\":3,\n",
            "  \"name\":\"C\",\n",
            "  \"value\":0.4\n",
            " },\n",
            " \"3\":{\n",
            "  \"index\":4,\n",
            "  \"name\":\"D\",\n",
            "  \"value\":1.13\n",
            " },\n",
            " \"4\":{\n",
            "  \"index\":5,\n",
            "  \"name\":\"E\",\n",
            "  \"value\":8.25\n",
            " }\n",
            "}"
          ]
        }
      ],
      "source": [
        "#\n",
        "# Orientación: 'index'\n",
        "#\n",
        "pd.read_csv(\"/tmp/data.csv\").to_json(\n",
        "    \"/tmp/data.json\",\n",
        "    indent=True,\n",
        "    orient='index',\n",
        ")\n",
        "\n",
        "!cat /tmp/data.json"
      ]
    },
    {
      "cell_type": "code",
      "execution_count": null,
      "metadata": {
        "id": "H0aL_v0mywHA",
        "outputId": "920bae73-2c34-4339-9de3-4926b1519ad4"
      },
      "outputs": [
        {
          "name": "stdout",
          "output_type": "stream",
          "text": [
            "{\n",
            " \"columns\":[\n",
            "  \"index\",\n",
            "  \"name\",\n",
            "  \"value\"\n",
            " ],\n",
            " \"index\":[\n",
            "  0,\n",
            "  1,\n",
            "  2,\n",
            "  3,\n",
            "  4\n",
            " ],\n",
            " \"data\":[\n",
            "  [\n",
            "   1,\n",
            "   \"A\",\n",
            "   3.03\n",
            "  ],\n",
            "  [\n",
            "   2,\n",
            "   \"B\",\n",
            "   5.14\n",
            "  ],\n",
            "  [\n",
            "   3,\n",
            "   \"C\",\n",
            "   0.4\n",
            "  ],\n",
            "  [\n",
            "   4,\n",
            "   \"D\",\n",
            "   1.13\n",
            "  ],\n",
            "  [\n",
            "   5,\n",
            "   \"E\",\n",
            "   8.25\n",
            "  ]\n",
            " ]\n",
            "}"
          ]
        }
      ],
      "source": [
        "#\n",
        "# Orientación: 'split'\n",
        "#\n",
        "pd.read_csv(\"/tmp/data.csv\").to_json(\n",
        "    \"/tmp/data.json\",\n",
        "    indent=True,\n",
        "    orient='split',\n",
        ")\n",
        "\n",
        "!cat /tmp/data.json"
      ]
    },
    {
      "cell_type": "code",
      "execution_count": null,
      "metadata": {
        "id": "82znCzi6ywHA",
        "outputId": "5fa93b48-4966-4518-f3d2-f2b53216253c"
      },
      "outputs": [
        {
          "name": "stdout",
          "output_type": "stream",
          "text": [
            "[\n",
            " {\n",
            "  \"index\":1,\n",
            "  \"name\":\"A\",\n",
            "  \"value\":3.03\n",
            " },\n",
            " {\n",
            "  \"index\":2,\n",
            "  \"name\":\"B\",\n",
            "  \"value\":5.14\n",
            " },\n",
            " {\n",
            "  \"index\":3,\n",
            "  \"name\":\"C\",\n",
            "  \"value\":0.4\n",
            " },\n",
            " {\n",
            "  \"index\":4,\n",
            "  \"name\":\"D\",\n",
            "  \"value\":1.13\n",
            " },\n",
            " {\n",
            "  \"index\":5,\n",
            "  \"name\":\"E\",\n",
            "  \"value\":8.25\n",
            " }\n",
            "]"
          ]
        }
      ],
      "source": [
        "#\n",
        "# Orientación: 'records'\n",
        "#\n",
        "pd.read_csv(\"/tmp/data.csv\").to_json(\n",
        "    \"/tmp/data.json\",\n",
        "    indent=True,\n",
        "    orient='records',\n",
        ")\n",
        "\n",
        "!cat /tmp/data.json"
      ]
    },
    {
      "cell_type": "code",
      "execution_count": null,
      "metadata": {
        "id": "n9k38e4LywHA",
        "outputId": "6c0079aa-0327-41d8-86d4-586914e33834"
      },
      "outputs": [
        {
          "name": "stdout",
          "output_type": "stream",
          "text": [
            "{\n",
            " \"index\":{\n",
            "  \"0\":1,\n",
            "  \"1\":2,\n",
            "  \"2\":3,\n",
            "  \"3\":4,\n",
            "  \"4\":5\n",
            " },\n",
            " \"name\":{\n",
            "  \"0\":\"A\",\n",
            "  \"1\":\"B\",\n",
            "  \"2\":\"C\",\n",
            "  \"3\":\"D\",\n",
            "  \"4\":\"E\"\n",
            " },\n",
            " \"value\":{\n",
            "  \"0\":3.03,\n",
            "  \"1\":5.14,\n",
            "  \"2\":0.4,\n",
            "  \"3\":1.13,\n",
            "  \"4\":8.25\n",
            " }\n",
            "}"
          ]
        }
      ],
      "source": [
        "#\n",
        "# Orientación: 'columns'\n",
        "#\n",
        "pd.read_csv(\"/tmp/data.csv\").to_json(\n",
        "    \"/tmp/data.json\",\n",
        "    indent=True,\n",
        "    orient='columns',\n",
        ")\n",
        "\n",
        "!cat /tmp/data.json"
      ]
    },
    {
      "cell_type": "code",
      "execution_count": null,
      "metadata": {
        "id": "OIb0-wA6ywHB",
        "outputId": "47f0e007-2530-4ce9-b698-8bd76b1c0222"
      },
      "outputs": [
        {
          "name": "stdout",
          "output_type": "stream",
          "text": [
            "[\n",
            " [\n",
            "  1,\n",
            "  \"A\",\n",
            "  3.03\n",
            " ],\n",
            " [\n",
            "  2,\n",
            "  \"B\",\n",
            "  5.14\n",
            " ],\n",
            " [\n",
            "  3,\n",
            "  \"C\",\n",
            "  0.4\n",
            " ],\n",
            " [\n",
            "  4,\n",
            "  \"D\",\n",
            "  1.13\n",
            " ],\n",
            " [\n",
            "  5,\n",
            "  \"E\",\n",
            "  8.25\n",
            " ]\n",
            "]"
          ]
        }
      ],
      "source": [
        "#\n",
        "# Orientación: 'values'\n",
        "#\n",
        "pd.read_csv(\"/tmp/data.csv\").to_json(\n",
        "    \"/tmp/data.json\",\n",
        "    indent=True,\n",
        "    orient='values',\n",
        ")\n",
        "\n",
        "!cat /tmp/data.json"
      ]
    },
    {
      "cell_type": "code",
      "execution_count": null,
      "metadata": {
        "id": "YoYMfDVyywHB",
        "outputId": "81852f48-c1f4-4fde-c2bb-08a4ff29d1e3"
      },
      "outputs": [
        {
          "name": "stdout",
          "output_type": "stream",
          "text": [
            "{\n",
            " \"schema\":{\n",
            "  \"fields\":[\n",
            "   {\n",
            "    \"name\":\"index\",\n",
            "    \"type\":\"integer\"\n",
            "   },\n",
            "   {\n",
            "    \"name\":\"index\",\n",
            "    \"type\":\"integer\"\n",
            "   },\n",
            "   {\n",
            "    \"name\":\"name\",\n",
            "    \"type\":\"string\"\n",
            "   },\n",
            "   {\n",
            "    \"name\":\"value\",\n",
            "    \"type\":\"number\"\n",
            "   }\n",
            "  ],\n",
            "  \"primaryKey\":[\n",
            "   \"index\"\n",
            "  ],\n",
            "  \"pandas_version\":\"1.4.0\"\n",
            " },\n",
            " \"data\":[\n",
            "  {\n",
            "   \"level_0\":0,\n",
            "   \"index\":1,\n",
            "   \"name\":\"A\",\n",
            "   \"value\":3.03\n",
            "  },\n",
            "  {\n",
            "   \"level_0\":1,\n",
            "   \"index\":2,\n",
            "   \"name\":\"B\",\n",
            "   \"value\":5.14\n",
            "  },\n",
            "  {\n",
            "   \"level_0\":2,\n",
            "   \"index\":3,\n",
            "   \"name\":\"C\",\n",
            "   \"value\":0.4\n",
            "  },\n",
            "  {\n",
            "   \"level_0\":3,\n",
            "   \"index\":4,\n",
            "   \"name\":\"D\",\n",
            "   \"value\":1.13\n",
            "  },\n",
            "  {\n",
            "   \"level_0\":4,\n",
            "   \"index\":5,\n",
            "   \"name\":\"E\",\n",
            "   \"value\":8.25\n",
            "  }\n",
            " ]\n",
            "}"
          ]
        }
      ],
      "source": [
        "#\n",
        "# Orientación: 'table'\n",
        "#\n",
        "pd.read_csv(\"/tmp/data.csv\").to_json(\n",
        "    \"/tmp/data.json\",\n",
        "    indent=True,\n",
        "    orient='table',\n",
        ")\n",
        "\n",
        "!cat /tmp/data.json"
      ]
    },
    {
      "cell_type": "markdown",
      "metadata": {
        "id": "KGnxWZFDywHB"
      },
      "source": [
        "## Formato nativo de Python"
      ]
    },
    {
      "cell_type": "code",
      "execution_count": null,
      "metadata": {
        "id": "4V_3d3wXywHB",
        "outputId": "bae4e761-20b3-4dd3-c06e-1d12306cef17"
      },
      "outputs": [
        {
          "data": {
            "text/plain": [
              "   index name  value\n",
              "0      1    A   3.03\n",
              "1      2    B   5.14\n",
              "2      3    C   0.40\n",
              "3      4    D   1.13\n",
              "4      5    E   8.25"
            ]
          },
          "execution_count": 11,
          "metadata": {},
          "output_type": "execute_result"
        }
      ],
      "source": [
        "#\n",
        "# Escribe el dataset en formato binario\n",
        "#\n",
        "df.to_pickle('/tmp/data.pickle')\n",
        "\n",
        "#\n",
        "# Lee el archivo en formato binario\n",
        "#\n",
        "pd.read_pickle('/tmp/data.pickle')"
      ]
    },
    {
      "cell_type": "markdown",
      "metadata": {
        "id": "AAQB3NeTywHB"
      },
      "source": [
        "## Archivos delimitados por caracteres con Pandas"
      ]
    },
    {
      "cell_type": "code",
      "execution_count": null,
      "metadata": {
        "id": "jF2avRfrywHB",
        "outputId": "8bea2e3b-f874-4918-8aed-5ca76f9cbc6d"
      },
      "outputs": [
        {
          "name": "stdout",
          "output_type": "stream",
          "text": [
            "index,name,value\n",
            "1,A,3.03\n",
            "2,B,5.14\n",
            "3,C,0.4\n",
            "4,D,1.13\n",
            "5,E,8.25\n"
          ]
        }
      ],
      "source": [
        "#\n",
        "# Formato por defecto generado por pandas\n",
        "#\n",
        "df.to_csv(\n",
        "    \"/tmp/data.csv\",\n",
        "    index=False,\n",
        ")\n",
        "\n",
        "!cat /tmp/data.csv"
      ]
    },
    {
      "cell_type": "code",
      "execution_count": null,
      "metadata": {
        "id": "sMT4pHsxywHC",
        "outputId": "3c5bd694-986d-466f-a046-7b4893b0996d"
      },
      "outputs": [
        {
          "name": "stdout",
          "output_type": "stream",
          "text": [
            "index;name;value\n",
            "1;A;3,03\n",
            "2;B;5,14\n",
            "3;C;0,4\n",
            "4;D;1,13\n",
            "5;E;8,25\n"
          ]
        }
      ],
      "source": [
        "#\n",
        "# Escritura en formato de Español que es usado\n",
        "# por defecto en Microsoft Excel\n",
        "#\n",
        "df.to_csv(\n",
        "    \"/tmp/data.csv2\",\n",
        "    sep=\";\",\n",
        "    decimal=\",\",\n",
        "    index=False,\n",
        ")\n",
        "\n",
        "!cat /tmp/data.csv2"
      ]
    },
    {
      "cell_type": "code",
      "execution_count": null,
      "metadata": {
        "id": "138qkWJ1ywHC",
        "outputId": "e06a2462-eff9-4822-d254-90af520ff651"
      },
      "outputs": [
        {
          "data": {
            "text/plain": [
              "   index name  value\n",
              "0      1    A   3.03\n",
              "1      2    B   5.14\n",
              "2      3    C   0.40\n",
              "3      4    D   1.13\n",
              "4      5    E   8.25"
            ]
          },
          "execution_count": 14,
          "metadata": {},
          "output_type": "execute_result"
        }
      ],
      "source": [
        "#\n",
        "# Lectura del archivo\n",
        "#\n",
        "pd.read_csv(\n",
        "    \"/tmp/data.csv2\",\n",
        "    sep=\";\",\n",
        "    thousands=None,\n",
        "    decimal=\",\",\n",
        ")"
      ]
    },
    {
      "cell_type": "markdown",
      "metadata": {
        "id": "bA8GqrgdywHC"
      },
      "source": [
        "## Formato de ancho fijo con Pandas"
      ]
    },
    {
      "cell_type": "code",
      "execution_count": null,
      "metadata": {
        "id": "Pmz2oMvPywHC",
        "outputId": "7f535585-0947-46dc-a6f6-83ea74d8d1f7"
      },
      "outputs": [
        {
          "name": "stdout",
          "output_type": "stream",
          "text": [
            "Overwriting /tmp/data.txt\n"
          ]
        }
      ],
      "source": [
        "%%writefile /tmp/data.txt\n",
        "indexnames      valuescodes\n",
        "    1john wick    2.13   10\n",
        "    2mark twin    3.14   11\n",
        "    3louis ng     4.34   12\n",
        "    4dan brown    2.31   13\n",
        "    5ann marie    4.98   14"
      ]
    },
    {
      "cell_type": "code",
      "execution_count": null,
      "metadata": {
        "id": "yxm-4U9bywHD",
        "outputId": "f16e0ba7-2eca-45df-efa2-9e161be4e355"
      },
      "outputs": [
        {
          "data": {
            "text/plain": [
              "   index      names  values  codes\n",
              "0      1  john wick    2.13     10\n",
              "1      2  mark twin    3.14     11\n",
              "2      3   louis ng    4.34     12\n",
              "3      4  dan brown    2.31     13\n",
              "4      5  ann marie    4.98     14"
            ]
          },
          "execution_count": 16,
          "metadata": {},
          "output_type": "execute_result"
        }
      ],
      "source": [
        "#\n",
        "# Se debe especificar el ancho de cada columna\n",
        "#\n",
        "pd.read_fwf(\n",
        "    \"/tmp/data.txt\",\n",
        "    colspecs=\"infer\",\n",
        "    widths=[5, 9, 8, 5],\n",
        ")"
      ]
    },
    {
      "cell_type": "markdown",
      "metadata": {
        "id": "PmA9wzrgywHD"
      },
      "source": [
        "## HTML con Pandas"
      ]
    },
    {
      "cell_type": "code",
      "execution_count": null,
      "metadata": {
        "id": "Um6h_MC1ywHD",
        "outputId": "5c9a716f-e50e-4faa-80bb-2e23f07403b9"
      },
      "outputs": [
        {
          "name": "stdout",
          "output_type": "stream",
          "text": [
            "<table border=\"1\" class=\"dataframe\">\n",
            "  <thead>\n",
            "    <tr style=\"text-align: right;\">\n",
            "      <th>index</th>\n",
            "      <th>name</th>\n",
            "      <th>value</th>\n",
            "    </tr>\n",
            "  </thead>\n",
            "  <tbody>\n",
            "    <tr>\n",
            "      <td>1</td>\n",
            "      <td>A</td>\n",
            "      <td>3.03</td>\n",
            "    </tr>\n",
            "    <tr>\n",
            "      <td>2</td>\n",
            "      <td>B</td>\n",
            "      <td>5.14</td>\n",
            "    </tr>\n",
            "    <tr>\n",
            "      <td>3</td>\n",
            "      <td>C</td>\n",
            "      <td>0.40</td>\n",
            "    </tr>\n",
            "    <tr>\n",
            "      <td>4</td>\n",
            "      <td>D</td>\n",
            "      <td>1.13</td>\n",
            "    </tr>\n",
            "    <tr>\n",
            "      <td>5</td>\n",
            "      <td>E</td>\n",
            "      <td>8.25</td>\n",
            "    </tr>\n",
            "  </tbody>\n",
            "</table>"
          ]
        }
      ],
      "source": [
        "#\n",
        "# Escritura en HTML. Este formato es util para\n",
        "# insertar el dataframe en una pagina web\n",
        "#\n",
        "df.to_html(\n",
        "    \"/tmp/data.html\",\n",
        "    index=False,\n",
        ")\n",
        "\n",
        "!cat /tmp/data.html"
      ]
    },
    {
      "cell_type": "markdown",
      "metadata": {
        "tags": [],
        "id": "R7cWLV1QywHD"
      },
      "source": [
        "## Microsoft Excel"
      ]
    },
    {
      "cell_type": "code",
      "execution_count": null,
      "metadata": {
        "id": "rt2nOlh-ywHD"
      },
      "outputs": [],
      "source": [
        "#\n",
        "# Requiere esta librería para realizar la \n",
        "# lectura y escritura de archivos de Excel\n",
        "#\n",
        "!pip3 install --quiet openpyxl"
      ]
    },
    {
      "cell_type": "code",
      "execution_count": null,
      "metadata": {
        "id": "kQcvkt_0ywHD",
        "outputId": "593b4a93-d792-44d0-e2b3-0145fbed7ad9"
      },
      "outputs": [
        {
          "data": {
            "text/plain": [
              "   index name  value\n",
              "0      1    A   3.03\n",
              "1      2    B   5.14\n",
              "2      3    C   0.40\n",
              "3      4    D   1.13\n",
              "4      5    E   8.25"
            ]
          },
          "execution_count": 19,
          "metadata": {},
          "output_type": "execute_result"
        }
      ],
      "source": [
        "#\n",
        "# Exportación del df a formato de Excel\n",
        "#\n",
        "df.to_excel(\n",
        "    \"/tmp/data.xlsx\",\n",
        "    index=False,\n",
        ")\n",
        "\n",
        "#\n",
        "# Lectura del archivo de Excel\n",
        "#\n",
        "pd.read_excel(\n",
        "    '/tmp/data.xlsx',\n",
        "    engine='openpyxl',\n",
        ")"
      ]
    },
    {
      "cell_type": "markdown",
      "metadata": {
        "tags": [],
        "id": "xBudf8VYywHD"
      },
      "source": [
        "## Formato HDF5"
      ]
    },
    {
      "cell_type": "code",
      "execution_count": null,
      "metadata": {
        "id": "qZEXYdlgywHD"
      },
      "outputs": [],
      "source": [
        "#\n",
        "# Se requiere esta librería\n",
        "#\n",
        "!pip3 install --quiet tables"
      ]
    },
    {
      "cell_type": "code",
      "execution_count": null,
      "metadata": {
        "id": "x6ASE5H_ywHE",
        "outputId": "38d73728-d72f-4c2b-b552-8baf62965026"
      },
      "outputs": [
        {
          "data": {
            "text/plain": [
              "   index name  value\n",
              "0      1    A   3.03\n",
              "1      2    B   5.14\n",
              "2      3    C   0.40\n",
              "3      4    D   1.13\n",
              "4      5    E   8.25"
            ]
          },
          "execution_count": 21,
          "metadata": {},
          "output_type": "execute_result"
        }
      ],
      "source": [
        "#\n",
        "# Exportación a formato HDF5\n",
        "#\n",
        "df.to_hdf(\n",
        "    \"/tmp/data.h5\",\n",
        "    key=\"G1\",\n",
        ")\n",
        "\n",
        "pd.read_hdf(\n",
        "    \"/tmp/data.h5\",\n",
        "    key=\"G1\",\n",
        ")"
      ]
    },
    {
      "cell_type": "code",
      "execution_count": null,
      "metadata": {
        "id": "lxr4Ui8yywHE",
        "outputId": "65f96314-8856-44c0-8a96-6199a49ea516"
      },
      "outputs": [
        {
          "data": {
            "text/plain": [
              "   index name  value\n",
              "0      1    A   3.03\n",
              "1      2    B   5.14\n",
              "2      3    C   0.40\n",
              "3      4    D   1.13\n",
              "4      5    E   8.25"
            ]
          },
          "execution_count": 22,
          "metadata": {},
          "output_type": "execute_result"
        }
      ],
      "source": [
        "pd.read_hdf('/tmp/data.h5')"
      ]
    },
    {
      "cell_type": "markdown",
      "metadata": {
        "id": "0R8WdvWvywHE"
      },
      "source": [
        "## STATA"
      ]
    },
    {
      "cell_type": "code",
      "execution_count": null,
      "metadata": {
        "id": "h8XSZFPvywHE",
        "outputId": "5a92f071-d66c-4de7-9205-0182d46c232f"
      },
      "outputs": [
        {
          "data": {
            "text/plain": [
              "   level_0  index name  value\n",
              "0        0      1    A   3.03\n",
              "1        1      2    B   5.14\n",
              "2        2      3    C   0.40\n",
              "3        3      4    D   1.13\n",
              "4        4      5    E   8.25"
            ]
          },
          "execution_count": 23,
          "metadata": {},
          "output_type": "execute_result"
        }
      ],
      "source": [
        "#\n",
        "# Exporta el archivo\n",
        "#\n",
        "df.to_stata('/tmp/data.dta')\n",
        "\n",
        "#\n",
        "# Lee el archivo\n",
        "#\n",
        "pd.read_stata('/tmp/data.dta')"
      ]
    },
    {
      "cell_type": "markdown",
      "metadata": {
        "id": "szClC9RrywHE"
      },
      "source": [
        "## Lectura de Matlab y Octave"
      ]
    },
    {
      "cell_type": "code",
      "execution_count": null,
      "metadata": {
        "scrolled": true,
        "tags": [],
        "id": "3_ENTqkfywHE",
        "outputId": "8589049a-f24f-49f4-9539-f8856b57dc01"
      },
      "outputs": [
        {
          "data": {
            "text/plain": [
              "{'__header__': b'MATLAB 5.0 MAT-file Platform: posix, Created on: Tue Feb 28 11:35:46 2023',\n",
              " '__version__': '1.0',\n",
              " '__globals__': [],\n",
              " 'df': array([[(array([[None]], dtype=object), array([[None]], dtype=object), array([[None]], dtype=object))]],\n",
              "       dtype=[('index', 'O'), ('name', 'O'), ('value', 'O')])}"
            ]
          },
          "execution_count": 24,
          "metadata": {},
          "output_type": "execute_result"
        }
      ],
      "source": [
        "import scipy.io as sio\n",
        "\n",
        "sio.savemat(\"/tmp/data\", {\"df\": df})\n",
        "sio.loadmat(\"/tmp/data\")"
      ]
    }
  ],
  "metadata": {
    "anaconda-cloud": {},
    "kernel_info": {
      "name": "python3"
    },
    "kernelspec": {
      "display_name": "Python 3 (ipykernel)",
      "language": "python",
      "name": "python3"
    },
    "language_info": {
      "codemirror_mode": {
        "name": "ipython",
        "version": 3
      },
      "file_extension": ".py",
      "mimetype": "text/x-python",
      "name": "python",
      "nbconvert_exporter": "python",
      "pygments_lexer": "ipython3",
      "version": "3.9.6"
    },
    "nteract": {
      "version": "0.7.1"
    },
    "vscode": {
      "interpreter": {
        "hash": "2482a4565599eda3cd2db35331af39775c1f78a505a9deef48c721423040da5b"
      }
    },
    "colab": {
      "provenance": []
    }
  },
  "nbformat": 4,
  "nbformat_minor": 0
}