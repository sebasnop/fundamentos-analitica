{
  "cells": [
    {
      "cell_type": "markdown",
      "metadata": {
        "id": "u_S8klCJ9Kr1"
      },
      "source": [
        "# SQLAlchemy ORM (Object Relational Model)"
      ]
    },
    {
      "cell_type": "markdown",
      "source": [
        ">[SQLAlchemy ORM (Object Relational Model)](#scrollTo=u_S8klCJ9Kr1)\n",
        "\n",
        ">>[SQLAlchemy](#scrollTo=RhlL6qqI-EpH)\n",
        "\n",
        ">>[Arquitectura](#scrollTo=cPwUxnc29Kr2)\n",
        "\n",
        ">>[Declaración de modelos en el ORM](#scrollTo=YFS0CmuD9Kr3)\n",
        "\n",
        ">>[Creación de una máquina](#scrollTo=EOhCmMsH9Kr4)\n",
        "\n",
        ">>>[Emisión CREATE TABLE DDL](#scrollTo=P4SXGUEU9Kr4)\n",
        "\n",
        ">>[Creación de objetos y persistencia](#scrollTo=KhPPISNj9Kr4)\n",
        "\n",
        ">>[SELECT](#scrollTo=SI7vq_9M9Kr5)\n",
        "\n",
        ">>[SELECT ... JOIN](#scrollTo=wnxwFB7A9Kr5)\n",
        "\n",
        ">>[Actualización o adición de datos](#scrollTo=mYctr47-9Kr6)\n",
        "\n",
        ">>[Borrado de registros](#scrollTo=Y0rbeNq19Kr6)\n",
        "\n"
      ],
      "metadata": {
        "colab_type": "toc",
        "id": "g5dVUt9bDfTa"
      }
    },
    {
      "cell_type": "markdown",
      "source": [
        "## SQLAlchemy\n",
        "\n",
        "**SQLAlchemy** es una biblioteca de Python que proporciona una forma conveniente para interactuar con **bases de datos relacionales**. Permite al usuario trabajar con diferentes tipos de bases de datos, incluyendo PostgreSQL, MySQL, SQLite, Oracle, entre otras.\n",
        "\n",
        "Una de sus ventajas es que permite trabajar con una **API unificada**, independientemente del tipo de base de datos que esté usando. Esto significa que el usuario puede escribir código que sea compatible con múltiples tipos de bases de datos sin tener que preocuparse por los detalles de implementación específicos de cada una.\n",
        "\n",
        "Otra ventaja importante es que **permite trabajar con objetos de Python en lugar de tener que escribir consultas SQL** directamente. Esto hace que el código sea más fácil de entender y mantener.\n",
        "\n",
        "Además, proporciona herramientas para trabajar con transacciones, esquemas de datos, modelado de objetos y más.\n",
        "\n",
        "En resumen, es una biblioteca muy poderosa para trabajar con **bases de datos relacionales** en Python."
      ],
      "metadata": {
        "id": "RhlL6qqI-EpH"
      }
    },
    {
      "cell_type": "markdown",
      "metadata": {
        "id": "cPwUxnc29Kr2"
      },
      "source": [
        "## Arquitectura"
      ]
    },
    {
      "cell_type": "markdown",
      "metadata": {
        "id": "6fxr6Bhb9Kr2"
      },
      "source": [
        "* El ORM se basa en una vista de la base de datos centrada en el dominio que es orientado a estados."
      ]
    },
    {
      "cell_type": "markdown",
      "metadata": {
        "id": "O_9knuIr9Kr3"
      },
      "source": [
        "* El Core y el SQL se basa en una vista de la base de datos centrada en el esquema que es orientada a comandos."
      ]
    },
    {
      "cell_type": "markdown",
      "metadata": {
        "id": "VRN2sYYL9Kr3"
      },
      "source": [
        "![SQLAlchemy ORM Architecture](https://jdvelasq.github.io/courses/_images/sqla_arch_small.png)"
      ]
    },
    {
      "cell_type": "markdown",
      "metadata": {
        "id": "YFS0CmuD9Kr3"
      },
      "source": [
        "## Declaración de modelos en el ORM"
      ]
    },
    {
      "cell_type": "code",
      "execution_count": 1,
      "metadata": {
        "id": "RkDt6eFV9Kr3"
      },
      "outputs": [],
      "source": [
        "from sqlalchemy import Column, ForeignKey, Integer, String\n",
        "from sqlalchemy.orm import declarative_base, relationship\n",
        "\n",
        "# Se usará un enfoque declarativo para definir\n",
        "# los modelos de base de datos\n",
        "Base = declarative_base()\n",
        "\n",
        "class User(Base):\n",
        "\n",
        "    \"\"\"\n",
        "    Declaración de la entidad usuario\n",
        "    \"\"\"\n",
        "    \n",
        "    # Nombre de la tabla\n",
        "    __tablename__ = \"user_account\"\n",
        "\n",
        "    # Atributos\n",
        "    id = Column(Integer, primary_key=True)\n",
        "    name = Column(String(30))\n",
        "    fullname = Column(String)\n",
        "\n",
        "    # Se establece un atributo \"relación\", que vinculará\n",
        "    # el atributo a otra tabla.\n",
        "\n",
        "    # Un User podrá tener muchas Address\n",
        "\n",
        "    addresses = relationship(\n",
        "        \"Address\", back_populates=\"user\", cascade=\"all, delete-orphan\"\n",
        "    )\n",
        "\n",
        "    # back_populates=\"user\":\n",
        "    # Indica que también se creará un atributo \"user\"\n",
        "    # en la clase de modelo \"Address\", que se refiere \n",
        "    # al usuario asociado con cada dirección.\n",
        "\n",
        "    # cascade=\"all, delete-orphan\":\n",
        "    # Establece un comportamiento de cascada en la relación, \n",
        "    # lo que significa que si se elimina un usuario, \n",
        "    # todas sus direcciones relacionadas también se eliminarán.\n",
        "\n",
        "    def __repr__(self):\n",
        "        return f\"User(id={self.id!r}, name={self.name!r}, fullname={self.fullname!r})\"\n",
        "\n",
        "\n",
        "class Address(Base):\n",
        "\n",
        "    __tablename__ = \"address\"\n",
        "    \n",
        "    id = Column(Integer, primary_key=True)\n",
        "    email_address = Column(String, nullable=False)\n",
        "    \n",
        "    user_id = Column(Integer, ForeignKey(\"user_account.id\"), nullable=False)\n",
        "    user = relationship(\"User\", back_populates=\"addresses\")\n",
        "\n",
        "    def __repr__(self):\n",
        "        return f\"Address(id={self.id!r}, email_address={self.email_address!r})\""
      ]
    },
    {
      "cell_type": "markdown",
      "metadata": {
        "id": "EOhCmMsH9Kr4"
      },
      "source": [
        "## Creación de una máquina\n",
        "\n",
        "A continuación, la función `create_engine` se utiliza para crear un motor (engine) para una base de datos SQLite en memoria.\n",
        "\n",
        "- `\"sqlite+pysqlite:///:memory:\"`: especifica el tipo de base de datos (SQLite) y la ubicación (en memoria) de la base de datos. \n",
        "  \n",
        "  La sintaxis `sqlite+pysqlite` indica que se está usando la biblioteca pysqlite como controlador de base de datos para SQLite.\n",
        "  \n",
        "  El `:memory:` al final indica que la base de datos se creará en la memoria.\n",
        "\n",
        "- `echo=False`: desactiva la impresión de mensajes en la consola del motor sobre las operaciones realizadas en la base de datos.\n",
        "\n",
        "- `future=True`: indica que se utilizará el sistema de ejecución de sentencias SQL basado en Future (o \"futuro\"), el cual es una característica experimental en SQLAlchemy que permite escribir código más limpio y eficiente."
      ]
    },
    {
      "cell_type": "code",
      "execution_count": null,
      "metadata": {
        "id": "4OdNRYTa9Kr4"
      },
      "outputs": [],
      "source": [
        "from sqlalchemy import create_engine\n",
        "\n",
        "engine = create_engine(\n",
        "    \"sqlite+pysqlite:///:memory:\",\n",
        "    echo=False,\n",
        "    future=True,\n",
        ")"
      ]
    },
    {
      "cell_type": "markdown",
      "metadata": {
        "id": "P4SXGUEU9Kr4"
      },
      "source": [
        "### Emisión CREATE TABLE DDL"
      ]
    },
    {
      "cell_type": "code",
      "execution_count": null,
      "metadata": {
        "id": "X_dypMUy9Kr4"
      },
      "outputs": [],
      "source": [
        "Base.metadata.create_all(engine)"
      ]
    },
    {
      "cell_type": "markdown",
      "metadata": {
        "id": "KhPPISNj9Kr4"
      },
      "source": [
        "## Creación de objetos y persistencia"
      ]
    },
    {
      "cell_type": "code",
      "execution_count": null,
      "metadata": {
        "id": "IsITKPuR9Kr4"
      },
      "outputs": [],
      "source": [
        "from sqlalchemy.orm import Session\n",
        "\n",
        "with Session(engine) as session:\n",
        "\n",
        "    spongebob = User(\n",
        "        name=\"spongebob\",\n",
        "        fullname=\"Spongebob Squarepants\",\n",
        "        addresses=[Address(email_address=\"spongebob@sqlalchemy.org\")],\n",
        "    )\n",
        "\n",
        "    sandy = User(\n",
        "        name=\"sandy\",\n",
        "        fullname=\"Sandy Cheeks\",\n",
        "        addresses=[\n",
        "            Address(email_address=\"sandy@sqlalchemy.org\"),\n",
        "            Address(email_address=\"sandy@squirrelpower.org\"),\n",
        "        ],\n",
        "    )\n",
        "\n",
        "    patrick = User(\n",
        "        name=\"patrick\",\n",
        "        fullname=\"Patrick Star\",\n",
        "    )\n",
        "\n",
        "    session.add_all(\n",
        "        [\n",
        "            spongebob,\n",
        "            sandy,\n",
        "            patrick,\n",
        "        ]\n",
        "    )\n",
        "\n",
        "    session.commit()"
      ]
    },
    {
      "cell_type": "markdown",
      "metadata": {
        "id": "SI7vq_9M9Kr5"
      },
      "source": [
        "## SELECT"
      ]
    },
    {
      "cell_type": "code",
      "execution_count": null,
      "metadata": {
        "id": "2Os73Z0k9Kr5",
        "outputId": "3607e38a-d1da-40d0-9a4d-a9e61ba27575"
      },
      "outputs": [
        {
          "name": "stdout",
          "output_type": "stream",
          "text": [
            "User(id=1, name='spongebob', fullname='Spongebob Squarepants')\n",
            "User(id=2, name='sandy', fullname='Sandy Cheeks')\n"
          ]
        }
      ],
      "source": [
        "from sqlalchemy import select\n",
        "\n",
        "session = Session(engine)\n",
        "\n",
        "stmt = select(User).where(User.name.in_([\"spongebob\", \"sandy\"]))\n",
        "\n",
        "for user in session.scalars(stmt):\n",
        "    print(user)"
      ]
    },
    {
      "cell_type": "markdown",
      "metadata": {
        "id": "wnxwFB7A9Kr5"
      },
      "source": [
        "## SELECT ... JOIN"
      ]
    },
    {
      "cell_type": "markdown",
      "source": [
        "La consulta a continuación busca la dirección de correo electrónico de Sandy en la tabla de direcciones de la base de datos a través de una relación con la tabla de usuarios.\n",
        "\n",
        "Esto se logra mediante la construcción de una sentencia SQL SELECT en varias partes encadenadas juntas.\n",
        "\n",
        "- `select(Address)`: Crea un objeto de selección SQLAlchemy que especifica que la consulta debe seleccionar de la tabla \"Address\" en la base de datos.\n",
        "\n",
        "- `.join(Address.user)`: Especifica que la consulta debe unir la tabla \"Address\" con la tabla \"User\" a través de la relación definida en el modelo (es decir, la relación \"user\" en la clase \"Address\").\n",
        "\n",
        "- Los `where` especifican las condiciones de búsqueda.\n",
        "\n",
        "- `session.scalars(stmt).one()`: Esta función ejecuta la consulta construida anteriormente en la sesión de SQLAlchemy y devuelve un solo resultado. El resultado se devuelve como un objeto de dirección de correo electrónico."
      ],
      "metadata": {
        "id": "dH5aJxuHCjJa"
      }
    },
    {
      "cell_type": "code",
      "execution_count": null,
      "metadata": {
        "id": "7ID9_neJ9Kr6",
        "outputId": "6fd909b5-a89b-4896-ab1d-fddac6de977e"
      },
      "outputs": [
        {
          "data": {
            "text/plain": [
              "Address(id=2, email_address='sandy@sqlalchemy.org')"
            ]
          },
          "execution_count": 6,
          "metadata": {},
          "output_type": "execute_result"
        }
      ],
      "source": [
        "stmt = (\n",
        "    select(Address)\n",
        "    .join(Address.user)\n",
        "    .where(User.name == \"sandy\")\n",
        "    .where(Address.email_address == \"sandy@sqlalchemy.org\")\n",
        ")\n",
        "\n",
        "sandy_address = session.scalars(stmt).one()\n",
        "sandy_address"
      ]
    },
    {
      "cell_type": "markdown",
      "metadata": {
        "id": "mYctr47-9Kr6"
      },
      "source": [
        "## Actualización o adición de datos"
      ]
    },
    {
      "cell_type": "code",
      "execution_count": null,
      "metadata": {
        "id": "W1V9jrX_9Kr6"
      },
      "outputs": [],
      "source": [
        "#\n",
        "# SELECT ... WHERE\n",
        "#\n",
        "stmt = select(User).where(User.name == \"patrick\")\n",
        "\n",
        "#\n",
        "# Extrae el registro\n",
        "#\n",
        "patrick = session.scalars(stmt).one()\n",
        "\n",
        "#\n",
        "# Agrega nueva información\n",
        "#\n",
        "patrick.addresses.append(Address(email_address=\"patrickstar@sqlalchemy.org\"))\n",
        "\n",
        "sandy_address.email_address = \"sandy_cheeks@sqlalchemy.org\"\n",
        "\n",
        "session.commit()"
      ]
    },
    {
      "cell_type": "markdown",
      "metadata": {
        "id": "Y0rbeNq19Kr6"
      },
      "source": [
        "## Borrado de registros"
      ]
    },
    {
      "cell_type": "code",
      "execution_count": null,
      "metadata": {
        "id": "lbb8joc59Kr6"
      },
      "outputs": [],
      "source": [
        "#\n",
        "# Borra un campo en particular\n",
        "#\n",
        "sandy = session.get(User, 2)\n",
        "sandy.addresses.remove(sandy_address)"
      ]
    },
    {
      "cell_type": "code",
      "execution_count": null,
      "metadata": {
        "id": "seYNry069Kr6"
      },
      "outputs": [],
      "source": [
        "#\n",
        "# Emite el cambio sin el commit()\n",
        "#\n",
        "session.flush()"
      ]
    },
    {
      "cell_type": "code",
      "execution_count": null,
      "metadata": {
        "id": "vNlxvSd79Kr6"
      },
      "outputs": [],
      "source": [
        "#\n",
        "# Borra un registro completo\n",
        "#\n",
        "session.delete(patrick)"
      ]
    },
    {
      "cell_type": "code",
      "execution_count": null,
      "metadata": {
        "id": "VAgV-4bs9Kr7"
      },
      "outputs": [],
      "source": [
        "#\n",
        "# Emite los cambios\n",
        "#\n",
        "session.commit()"
      ]
    }
  ],
  "metadata": {
    "kernelspec": {
      "display_name": "Python 3 (ipykernel)",
      "language": "python",
      "name": "python3"
    },
    "language_info": {
      "codemirror_mode": {
        "name": "ipython",
        "version": 3
      },
      "file_extension": ".py",
      "mimetype": "text/x-python",
      "name": "python",
      "nbconvert_exporter": "python",
      "pygments_lexer": "ipython3",
      "version": "3.9.6"
    },
    "vscode": {
      "interpreter": {
        "hash": "2482a4565599eda3cd2db35331af39775c1f78a505a9deef48c721423040da5b"
      }
    },
    "colab": {
      "provenance": []
    }
  },
  "nbformat": 4,
  "nbformat_minor": 0
}