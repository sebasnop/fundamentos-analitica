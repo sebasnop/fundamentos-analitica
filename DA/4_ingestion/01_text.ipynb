{
  "cells": [
    {
      "cell_type": "markdown",
      "metadata": {
        "tags": [],
        "id": "32Po3SKQoesf"
      },
      "source": [
        "# Importación de texto en Python"
      ]
    },
    {
      "cell_type": "markdown",
      "source": [
        ">[Importación de texto en Python](#scrollTo=32Po3SKQoesf)\n",
        "\n",
        ">>[Función open()](#scrollTo=9bU_K9A0ojEN)\n",
        "\n",
        ">>>[Leer una línea.](#scrollTo=y4MY4StKoqyT)\n",
        "\n",
        ">>>[Leer todas las líneas](#scrollTo=PCAmbtDWow7D)\n",
        "\n",
        ">>[Cerrar archivo](#scrollTo=t6i25iE6o646)\n",
        "\n",
        ">>[Context Manager](#scrollTo=WSHwC0sapMt_)\n",
        "\n"
      ],
      "metadata": {
        "colab_type": "toc",
        "id": "v87Ab38epUpy"
      }
    },
    {
      "cell_type": "code",
      "execution_count": null,
      "metadata": {
        "tags": [],
        "id": "C37chf3zoesg",
        "outputId": "c995714c-7a65-4870-8350-85de8562daa0"
      },
      "outputs": [
        {
          "name": "stdout",
          "output_type": "stream",
          "text": [
            "Writing /tmp/LICENSE\n"
          ]
        }
      ],
      "source": [
        "%%writefile /tmp/LICENSE\n",
        "MIT License\n",
        "\n",
        "Copyright (c) 2021 Juan David Velásquez-Henao\n",
        "\n",
        "Permission is hereby granted, free of charge, to any person obtaining a copy\n",
        "of this software and associated documentation files (the \"Software\"), to deal\n",
        "in the Software without restriction, including without limitation the rights\n",
        "to use, copy, modify, merge, publish, distribute, sublicense, and/or sell\n",
        "copies of the Software, and to permit persons to whom the Software is\n",
        "furnished to do so, subject to the following conditions:\n",
        "\n",
        "The above copyright notice and this permission notice shall be included in all\n",
        "copies or substantial portions of the Software.\n",
        "\n",
        "THE SOFTWARE IS PROVIDED \"AS IS\", WITHOUT WARRANTY OF ANY KIND, EXPRESS OR\n",
        "IMPLIED, INCLUDING BUT NOT LIMITED TO THE WARRANTIES OF MERCHANTABILITY,\n",
        "FITNESS FOR A PARTICULAR PURPOSE AND NONINFRINGEMENT. IN NO EVENT SHALL THE\n",
        "AUTHORS OR COPYRIGHT HOLDERS BE LIABLE FOR ANY CLAIM, DAMAGES OR OTHER\n",
        "LIABILITY, WHETHER IN AN ACTION OF CONTRACT, TORT OR OTHERWISE, ARISING FROM,\n",
        "OUT OF OR IN CONNECTION WITH THE SOFTWARE OR THE USE OR OTHER DEALINGS IN THE\n",
        "SOFTWARE."
      ]
    },
    {
      "cell_type": "markdown",
      "source": [
        "## Función `open()`"
      ],
      "metadata": {
        "id": "9bU_K9A0ojEN"
      }
    },
    {
      "cell_type": "markdown",
      "metadata": {
        "id": "kj0u4aWcoesh"
      },
      "source": [
        "La función `open(<filename>, <mode>)` permite abrir el archivo llamado `<filename>`; `<mode>`  es una cadena de texto que especifica la forma en que se habre el archivo asi: `'r'` para lectura, `'w'` para escritura (borra el contenido del archivo) y `'a'` para escribir al final (append); adicionalmente, se puede agregar `'b'` para indicar que el archivo se abre en modo binario (por defecto se abre en mdoeo texto). `open` devuelve un objeto que permite manipuar el archivo. "
      ]
    },
    {
      "cell_type": "markdown",
      "source": [
        "### Leer una línea."
      ],
      "metadata": {
        "id": "y4MY4StKoqyT"
      }
    },
    {
      "cell_type": "code",
      "execution_count": null,
      "metadata": {
        "id": "jRP1b-Xeoesi",
        "outputId": "730e4bf8-1873-4f71-83e1-234ce3026dea"
      },
      "outputs": [
        {
          "name": "stdout",
          "output_type": "stream",
          "text": [
            "MIT License\n",
            "\n"
          ]
        }
      ],
      "source": [
        "#\n",
        "# Lectura del archivo con open()\n",
        "# ===============================================\n",
        "# La función readline() lee una linea a la vez\n",
        "#\n",
        "filename = '/tmp/LICENSE'\n",
        "license_file = open(filename, mode='r')\n",
        "license_name = license_file.readline()\n",
        "print(license_name)"
      ]
    },
    {
      "cell_type": "markdown",
      "source": [
        "### Leer todas las líneas"
      ],
      "metadata": {
        "id": "PCAmbtDWow7D"
      }
    },
    {
      "cell_type": "code",
      "execution_count": null,
      "metadata": {
        "id": "0v3kKNHZoesi",
        "outputId": "21db3bf7-f7a4-45ce-f67c-65abe3d392e7"
      },
      "outputs": [
        {
          "name": "stdout",
          "output_type": "stream",
          "text": [
            "\n",
            "Copyright (c) 2021 Juan David Velásquez-Henao\n",
            "\n",
            "Permission is hereby granted, free of charge, to any person obtaining a copy\n",
            "of this software and associated documentation files (the \"Software\"), to deal\n",
            "in the Software without restriction, including without limitation the rights\n",
            "to use, copy, modify, merge, publish, distribute, sublicense, and/or sell\n",
            "copies of the Software, and to permit persons to whom the Software is\n",
            "furnished to do so, subject to the following conditions:\n",
            "\n",
            "The above copyright notice and this permission notice shall be included in all\n",
            "copies or substantial portions of the Software.\n",
            "\n",
            "THE SOFTWARE IS PROVIDED \"AS IS\", WITHOUT WARRANTY OF ANY KIND, EXPRESS OR\n",
            "IMPLIED, INCLUDING BUT NOT LIMITED TO THE WARRANTIES OF MERCHANTABILITY,\n",
            "FITNESS FOR A PARTICULAR PURPOSE AND NONINFRINGEMENT. IN NO EVENT SHALL THE\n",
            "AUTHORS OR COPYRIGHT HOLDERS BE LIABLE FOR ANY CLAIM, DAMAGES OR OTHER\n",
            "LIABILITY, WHETHER IN AN ACTION OF CONTRACT, TORT OR OTHERWISE, ARISING FROM,\n",
            "OUT OF OR IN CONNECTION WITH THE SOFTWARE OR THE USE OR OTHER DEALINGS IN THE\n",
            "SOFTWARE.\n",
            "\n"
          ]
        }
      ],
      "source": [
        "#\n",
        "# Se lee el resto del archivo con read()\n",
        "# ===============================================\n",
        "#\n",
        "license = license_file.read()\n",
        "print(license)"
      ]
    },
    {
      "cell_type": "markdown",
      "source": [
        "## Cerrar archivo"
      ],
      "metadata": {
        "id": "t6i25iE6o646"
      }
    },
    {
      "cell_type": "code",
      "execution_count": null,
      "metadata": {
        "id": "D4yiYDZioesi"
      },
      "outputs": [],
      "source": [
        "#\n",
        "# Cierre del archivo\n",
        "# ===============================================\n",
        "#\n",
        "license_file.close()"
      ]
    },
    {
      "cell_type": "code",
      "execution_count": null,
      "metadata": {
        "id": "GKPRwmzhoesi",
        "outputId": "1f99e1e3-6d5a-49c7-c056-5a70eb403a9d"
      },
      "outputs": [
        {
          "name": "stdout",
          "output_type": "stream",
          "text": [
            "MIT License\n",
            "\n",
            "Copyright (c) 2021 Juan David Velásquez-Henao\n",
            "\n",
            "Permission is hereby granted, free of charge, to any person obtaining a copy\n",
            "of this software and associated documentation files (the \"Software\"), to deal\n",
            "in the Software without restriction, including without limitation the rights\n",
            "to use, copy, modify, merge, publish, distribute, sublicense, and/or sell\n",
            "copies of the Software, and to permit persons to whom the Software is\n",
            "furnished to do so, subject to the following conditions:\n",
            "\n",
            "The above copyright notice and this permission notice shall be included in all\n",
            "copies or substantial portions of the Software.\n",
            "\n",
            "THE SOFTWARE IS PROVIDED \"AS IS\", WITHOUT WARRANTY OF ANY KIND, EXPRESS OR\n",
            "IMPLIED, INCLUDING BUT NOT LIMITED TO THE WARRANTIES OF MERCHANTABILITY,\n",
            "FITNESS FOR A PARTICULAR PURPOSE AND NONINFRINGEMENT. IN NO EVENT SHALL THE\n",
            "AUTHORS OR COPYRIGHT HOLDERS BE LIABLE FOR ANY CLAIM, DAMAGES OR OTHER\n",
            "LIABILITY, WHETHER IN AN ACTION OF CONTRACT, TORT OR OTHERWISE, ARISING FROM,\n",
            "OUT OF OR IN CONNECTION WITH THE SOFTWARE OR THE USE OR OTHER DEALINGS IN THE\n",
            "SOFTWARE.\n"
          ]
        }
      ],
      "source": [
        "#\n",
        "# Lectura linea a linea usando un ciclo for\n",
        "# ===============================================\n",
        "#\n",
        "license_file = open(filename, mode='r')\n",
        "for line in license_file:\n",
        "    print(line, end='')\n",
        "license_file.close()"
      ]
    },
    {
      "cell_type": "markdown",
      "source": [
        "## Context Manager\n",
        "\n",
        "No requiere cerrar el archivo"
      ],
      "metadata": {
        "id": "WSHwC0sapMt_"
      }
    },
    {
      "cell_type": "code",
      "execution_count": null,
      "metadata": {
        "tags": [],
        "id": "bhpWCIEVoesi",
        "outputId": "f47c6308-c455-4785-e0d0-916655876530"
      },
      "outputs": [
        {
          "name": "stdout",
          "output_type": "stream",
          "text": [
            "MIT License\n",
            "\n",
            "Copyright (c) 2021 Juan David Velásquez-Henao\n",
            "\n",
            "Permission is hereby granted, free of charge, to any person obtaining a copy\n",
            "of this software and associated documentation files (the \"Software\"), to deal\n",
            "in the Software without restriction, including without limitation the rights\n",
            "to use, copy, modify, merge, publish, distribute, sublicense, and/or sell\n",
            "copies of the Software, and to permit persons to whom the Software is\n",
            "furnished to do so, subject to the following conditions:\n",
            "\n",
            "The above copyright notice and this permission notice shall be included in all\n",
            "copies or substantial portions of the Software.\n",
            "\n",
            "THE SOFTWARE IS PROVIDED \"AS IS\", WITHOUT WARRANTY OF ANY KIND, EXPRESS OR\n",
            "IMPLIED, INCLUDING BUT NOT LIMITED TO THE WARRANTIES OF MERCHANTABILITY,\n",
            "FITNESS FOR A PARTICULAR PURPOSE AND NONINFRINGEMENT. IN NO EVENT SHALL THE\n",
            "AUTHORS OR COPYRIGHT HOLDERS BE LIABLE FOR ANY CLAIM, DAMAGES OR OTHER\n",
            "LIABILITY, WHETHER IN AN ACTION OF CONTRACT, TORT OR OTHERWISE, ARISING FROM,\n",
            "OUT OF OR IN CONNECTION WITH THE SOFTWARE OR THE USE OR OTHER DEALINGS IN THE\n",
            "SOFTWARE.\n",
            "\n"
          ]
        }
      ],
      "source": [
        "#\n",
        "# Apertura del archivo usando un Context Manager\n",
        "#\n",
        "with open(filename, mode='r') as text_file:\n",
        "    print(text_file.read())\n",
        "    \n",
        "# no requiere .close()"
      ]
    }
  ],
  "metadata": {
    "kernel_info": {
      "name": "python3"
    },
    "kernelspec": {
      "display_name": "Python 3 (ipykernel)",
      "language": "python",
      "name": "python3"
    },
    "language_info": {
      "codemirror_mode": {
        "name": "ipython",
        "version": 3
      },
      "file_extension": ".py",
      "mimetype": "text/x-python",
      "name": "python",
      "nbconvert_exporter": "python",
      "pygments_lexer": "ipython3",
      "version": "3.9.6"
    },
    "nteract": {
      "version": "0.12.3"
    },
    "toc-autonumbering": false,
    "toc-showcode": false,
    "toc-showmarkdowntxt": false,
    "toc-showtags": false,
    "colab": {
      "provenance": []
    }
  },
  "nbformat": 4,
  "nbformat_minor": 0
}