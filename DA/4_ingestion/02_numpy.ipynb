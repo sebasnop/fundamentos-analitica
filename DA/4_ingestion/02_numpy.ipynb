{
  "cells": [
    {
      "cell_type": "markdown",
      "metadata": {
        "id": "ROb15yexpgw2"
      },
      "source": [
        "# Importación de archivos numéricos usando NumPy"
      ]
    },
    {
      "cell_type": "markdown",
      "source": [
        ">[Importación de archivos numéricos usando NumPy](#scrollTo=ROb15yexpgw2)\n",
        "\n",
        ">>[Lectura](#scrollTo=XcbNSuGKpkQ-)\n",
        "\n",
        ">>[Separación por coma (,)](#scrollTo=M__skdJHqIc2)\n",
        "\n",
        ">>[Archivo con cabecera](#scrollTo=ogEZU_U3p3Cl)\n",
        "\n",
        ">>[Especificar tipo de dato](#scrollTo=D3-IsAsupy5O)\n",
        "\n",
        ">>[Aplicar función a columna](#scrollTo=5LHZ5kd6pvRu)\n",
        "\n",
        ">>[Datos faltantes](#scrollTo=Pevx3uc6pq-H)\n",
        "\n"
      ],
      "metadata": {
        "colab_type": "toc",
        "id": "hSA1ylbnqY2V"
      }
    },
    {
      "cell_type": "markdown",
      "source": [
        "## Lectura"
      ],
      "metadata": {
        "id": "XcbNSuGKpkQ-"
      }
    },
    {
      "cell_type": "code",
      "execution_count": null,
      "metadata": {
        "id": "uBy1O-AFpgw4",
        "outputId": "96c8449e-cfb1-4951-d5eb-3f91337c1aa1"
      },
      "outputs": [
        {
          "name": "stdout",
          "output_type": "stream",
          "text": [
            "Writing /tmp/numpy_data.txt\n"
          ]
        }
      ],
      "source": [
        "%%writefile /tmp/numpy_data.txt\n",
        "7.318719402026263587e-02 1.775082190597712106e-01 9.205824952147805273e-01\n",
        "4.062207718332084827e-01 6.691909950327930012e-01 4.691625868153078693e-01\n",
        "6.963794427590925817e-01 1.380183788805662282e-01 8.086264398068685466e-01\n",
        "5.893088349077085786e-01 3.899639085394711602e-01 8.655591960123206752e-01"
      ]
    },
    {
      "cell_type": "code",
      "execution_count": null,
      "metadata": {
        "id": "vq2ba43Vpgw5"
      },
      "outputs": [],
      "source": [
        "import numpy as np"
      ]
    },
    {
      "cell_type": "code",
      "execution_count": null,
      "metadata": {
        "id": "6lVVd6Q5pgw5",
        "outputId": "e1edd43a-96df-46cc-a71a-29e7537a397c"
      },
      "outputs": [
        {
          "data": {
            "text/plain": [
              "array([[0.07318719, 0.17750822, 0.9205825 ],\n",
              "       [0.40622077, 0.669191  , 0.46916259],\n",
              "       [0.69637944, 0.13801838, 0.80862644],\n",
              "       [0.58930883, 0.38996391, 0.8655592 ]])"
            ]
          },
          "execution_count": 3,
          "metadata": {},
          "output_type": "execute_result"
        }
      ],
      "source": [
        "#\n",
        "# Lectura del archivo de texto\n",
        "# ===============================================\n",
        "#\n",
        "numpy_data = np.loadtxt('/tmp/numpy_data.txt')\n",
        "numpy_data"
      ]
    },
    {
      "cell_type": "code",
      "execution_count": null,
      "metadata": {
        "id": "6j6ycP1vpgw5",
        "outputId": "92e52eeb-bc8d-4deb-f276-5d4c2b5dfaf2"
      },
      "outputs": [
        {
          "data": {
            "text/plain": [
              "12"
            ]
          },
          "execution_count": 4,
          "metadata": {},
          "output_type": "execute_result"
        }
      ],
      "source": [
        "#\n",
        "# Cantidad de datos leidos\n",
        "#\n",
        "numpy_data.size"
      ]
    },
    {
      "cell_type": "markdown",
      "source": [
        "## Separación por coma (,)"
      ],
      "metadata": {
        "id": "M__skdJHqIc2"
      }
    },
    {
      "cell_type": "code",
      "execution_count": null,
      "metadata": {
        "id": "sRIIvn-Cpgw5",
        "outputId": "09be1395-40a6-4794-c0b6-31d8f1b968e9"
      },
      "outputs": [
        {
          "name": "stdout",
          "output_type": "stream",
          "text": [
            "Writing /tmp/comma_delimited_data.txt\n"
          ]
        }
      ],
      "source": [
        "%%writefile /tmp/comma_delimited_data.txt\n",
        "1,2,3\n",
        "4,5,6\n",
        "7,8,9\n",
        "10,11,12"
      ]
    },
    {
      "cell_type": "code",
      "execution_count": null,
      "metadata": {
        "id": "8r0qt5wypgw6",
        "outputId": "8426d28d-cf3d-494c-8e56-693688b057f7"
      },
      "outputs": [
        {
          "data": {
            "text/plain": [
              "array([[ 1.,  2.,  3.],\n",
              "       [ 4.,  5.,  6.],\n",
              "       [ 7.,  8.,  9.],\n",
              "       [10., 11., 12.]])"
            ]
          },
          "execution_count": 6,
          "metadata": {},
          "output_type": "execute_result"
        }
      ],
      "source": [
        "#\n",
        "# Lectura de un archivo delimitado por comas\n",
        "# ===============================================\n",
        "#\n",
        "numpy_data = np.loadtxt(\n",
        "    \"/tmp/comma_delimited_data.txt\",\n",
        "    delimiter=\",\",\n",
        ")\n",
        "numpy_data"
      ]
    },
    {
      "cell_type": "code",
      "execution_count": null,
      "metadata": {
        "id": "71DzPZK2pgw6",
        "outputId": "7f512fd9-68a8-41f0-aad5-a718d8b71972"
      },
      "outputs": [
        {
          "data": {
            "text/plain": [
              "array([[ 1.,  3.],\n",
              "       [ 4.,  6.],\n",
              "       [ 7.,  9.],\n",
              "       [10., 12.]])"
            ]
          },
          "execution_count": 7,
          "metadata": {},
          "output_type": "execute_result"
        }
      ],
      "source": [
        "#\n",
        "# Selección de columnas a leer\n",
        "# ===============================================\n",
        "#\n",
        "numpy_data = np.loadtxt(\n",
        "    \"/tmp/comma_delimited_data.txt\",\n",
        "    delimiter=\",\",\n",
        "    usecols=(0, 2),\n",
        ")\n",
        "numpy_data"
      ]
    },
    {
      "cell_type": "code",
      "execution_count": null,
      "metadata": {
        "id": "wny0dzR9pgw6",
        "outputId": "d4cccf44-e1b5-4bf1-9c0f-343664e89b3b"
      },
      "outputs": [
        {
          "name": "stdout",
          "output_type": "stream",
          "text": [
            "Overwriting /tmp/comma_delimited_data.txt\n"
          ]
        }
      ],
      "source": [
        "%%writefile /tmp/comma_delimited_data.txt\n",
        "col_A,col_B,col_C\n",
        "1,2,3\n",
        "4,5,6\n",
        "7,8,9\n",
        "10,11,12"
      ]
    },
    {
      "cell_type": "markdown",
      "source": [
        "## Archivo con cabecera\n",
        "\n",
        "Primeras líneas con información diferente a los datos:\n",
        "- Nombres de las columnas\n",
        "- Nombre del conjunto de datos"
      ],
      "metadata": {
        "id": "ogEZU_U3p3Cl"
      }
    },
    {
      "cell_type": "code",
      "execution_count": null,
      "metadata": {
        "id": "ApWhHqmWpgw6",
        "outputId": "3c8485ee-6a09-4fa5-f936-6451489bb20d"
      },
      "outputs": [
        {
          "data": {
            "text/plain": [
              "array([[ 1.,  2.,  3.],\n",
              "       [ 4.,  5.,  6.],\n",
              "       [ 7.,  8.,  9.],\n",
              "       [10., 11., 12.]])"
            ]
          },
          "execution_count": 9,
          "metadata": {},
          "output_type": "execute_result"
        }
      ],
      "source": [
        "#\n",
        "# Lectura de un archivo con cabecera\n",
        "# ===============================================\n",
        "#\n",
        "numpy_data = np.loadtxt(\n",
        "    \"/tmp/comma_delimited_data.txt\",\n",
        "    delimiter=\",\",\n",
        "    skiprows=1,\n",
        ")\n",
        "numpy_data"
      ]
    },
    {
      "cell_type": "markdown",
      "source": [
        "## Especificar tipo de dato"
      ],
      "metadata": {
        "id": "D3-IsAsupy5O"
      }
    },
    {
      "cell_type": "code",
      "execution_count": null,
      "metadata": {
        "id": "TRqWqKanpgw7",
        "outputId": "8aeea2e2-3d32-495b-de46-d42ecd7f2865"
      },
      "outputs": [
        {
          "data": {
            "text/plain": [
              "array([[ 1,  2,  3],\n",
              "       [ 4,  5,  6],\n",
              "       [ 7,  8,  9],\n",
              "       [10, 11, 12]], dtype=uint64)"
            ]
          },
          "execution_count": 10,
          "metadata": {},
          "output_type": "execute_result"
        }
      ],
      "source": [
        "#\n",
        "# Especificación del tipo de dato\n",
        "# ===============================================\n",
        "#\n",
        "numpy_data = np.loadtxt(\n",
        "    \"/tmp/comma_delimited_data.txt\",\n",
        "    delimiter=\",\",\n",
        "    skiprows=1,\n",
        "    dtype=np.uint,\n",
        ")\n",
        "numpy_data"
      ]
    },
    {
      "cell_type": "markdown",
      "source": [
        "## Aplicar función a columna"
      ],
      "metadata": {
        "id": "5LHZ5kd6pvRu"
      }
    },
    {
      "cell_type": "code",
      "execution_count": null,
      "metadata": {
        "id": "YyB2rzKvpgw7",
        "outputId": "31d90d93-af81-4652-dfe6-071ebd43fcae"
      },
      "outputs": [
        {
          "data": {
            "text/plain": [
              "array([[101,   2,   3],\n",
              "       [104,   5,   6],\n",
              "       [107,   8,   9],\n",
              "       [110,  11,  12]], dtype=uint64)"
            ]
          },
          "execution_count": 11,
          "metadata": {},
          "output_type": "execute_result"
        }
      ],
      "source": [
        "#\n",
        "# Aplicación de una función a una columna\n",
        "# ===============================================\n",
        "#\n",
        "\n",
        "\n",
        "def increase(id):\n",
        "    return int(id) + 100\n",
        "\n",
        "\n",
        "numpy_data = np.loadtxt(\n",
        "    \"/tmp/comma_delimited_data.txt\",\n",
        "    delimiter=\",\",\n",
        "    skiprows=1,\n",
        "    dtype=np.uint,\n",
        "    converters={0: increase},\n",
        ")\n",
        "\n",
        "numpy_data"
      ]
    },
    {
      "cell_type": "markdown",
      "source": [
        "## Datos faltantes"
      ],
      "metadata": {
        "id": "Pevx3uc6pq-H"
      }
    },
    {
      "cell_type": "code",
      "execution_count": null,
      "metadata": {
        "id": "OwuxDv11pgw7",
        "outputId": "bef8520b-7ddc-424b-c30b-fac3972fd677"
      },
      "outputs": [
        {
          "name": "stdout",
          "output_type": "stream",
          "text": [
            "Writing /tmp/missing_data.txt\n"
          ]
        }
      ],
      "source": [
        "%%writefile /tmp/missing_data.txt\n",
        "1,,3\n",
        "4,5,6\n",
        "7,8,\n",
        "10,11,12"
      ]
    },
    {
      "cell_type": "code",
      "execution_count": null,
      "metadata": {
        "tags": [],
        "id": "Y5FvHwAypgw7",
        "outputId": "c51bb6f5-54a0-40b8-fc37-94d9b777703f"
      },
      "outputs": [
        {
          "data": {
            "text/plain": [
              "array([[ 1., nan,  3.],\n",
              "       [ 4.,  5.,  6.],\n",
              "       [ 7.,  8., nan],\n",
              "       [10., 11., 12.]])"
            ]
          },
          "execution_count": 13,
          "metadata": {},
          "output_type": "execute_result"
        }
      ],
      "source": [
        "#\n",
        "# Lectura de un archivo con datos faltantes\n",
        "# ===============================================\n",
        "#\n",
        "numpy_data = np.genfromtxt(\n",
        "    '/tmp/missing_data.txt',\n",
        "    delimiter=',',\n",
        ")\n",
        "numpy_data"
      ]
    }
  ],
  "metadata": {
    "kernel_info": {
      "name": "python3"
    },
    "kernelspec": {
      "display_name": "Python 3 (ipykernel)",
      "language": "python",
      "name": "python3"
    },
    "language_info": {
      "codemirror_mode": {
        "name": "ipython",
        "version": 3
      },
      "file_extension": ".py",
      "mimetype": "text/x-python",
      "name": "python",
      "nbconvert_exporter": "python",
      "pygments_lexer": "ipython3",
      "version": "3.9.6"
    },
    "nteract": {
      "version": "0.12.3"
    },
    "toc-autonumbering": false,
    "toc-showcode": false,
    "toc-showmarkdowntxt": false,
    "toc-showtags": false,
    "colab": {
      "provenance": []
    }
  },
  "nbformat": 4,
  "nbformat_minor": 0
}