{
  "cells": [
    {
      "cell_type": "markdown",
      "metadata": {
        "id": "yiK9krf4gJty"
      },
      "source": [
        "# Transformación de datos en SQLite3\n"
      ]
    },
    {
      "cell_type": "markdown",
      "source": [
        ">[Transformación de datos en SQLite3](#scrollTo=yiK9krf4gJty)\n",
        "\n",
        ">>[Preparación](#scrollTo=940OO7FzgJt0)\n",
        "\n",
        ">>>[Cellmagics](#scrollTo=5udxtDL_gOxs)\n",
        "\n",
        ">>[Strings](#scrollTo=WielHa34gJt1)\n",
        "\n",
        ">>>[LENGTH()](#scrollTo=Cz-axOd0gJt1)\n",
        "\n",
        ">>>[UPPER(), LOWER()](#scrollTo=2Wsy1HwRgJt2)\n",
        "\n",
        ">>>[LIKE](#scrollTo=edfgiIcPgJt3)\n",
        "\n",
        ">>[ORDER BY](#scrollTo=Frz1-afJgJt4)\n",
        "\n",
        ">>[GROUP BY](#scrollTo=saT3Ko1MgJt4)\n",
        "\n",
        ">>>[COUNT()](#scrollTo=4Qlo3q5MgJt4)\n",
        "\n",
        ">>>[MAX(), MIN(), SUM(), AVG()](#scrollTo=YDIRtS9pgJt5)\n",
        "\n"
      ],
      "metadata": {
        "colab_type": "toc",
        "id": "uZv3oyAlg2x8"
      }
    },
    {
      "cell_type": "markdown",
      "metadata": {
        "id": "940OO7FzgJt0"
      },
      "source": [
        "## Preparación"
      ]
    },
    {
      "cell_type": "markdown",
      "source": [
        "### Cellmagics"
      ],
      "metadata": {
        "id": "5udxtDL_gOxs"
      }
    },
    {
      "cell_type": "markdown",
      "metadata": {
        "id": "Q_jMYT_qgJt0"
      },
      "source": [
        "Se crean dos cellmagics. La cellmagic `%%sqlite3` permite ejecutar el contenido de la celda en el motor de búsqueda cuando la celda contiene una sola sentencia; el cellmagic retorna el resultado de la ejecución del comando SQL. \n",
        "\n",
        "La cellmagic `%%sqlite3script` permite ejecutar scripts conformados por varios comandos SQL. No retorna resultados"
      ]
    },
    {
      "cell_type": "code",
      "execution_count": 29,
      "metadata": {
        "id": "IakRE2FygJt0"
      },
      "outputs": [],
      "source": [
        "import sqlite3\n",
        "\n",
        "conn = sqlite3.connect(\":memory:\")\n",
        "cur = conn.cursor()"
      ]
    },
    {
      "cell_type": "code",
      "source": [
        "# Intento para que no muestre Warnings\n",
        "!pip install ipython-sql"
      ],
      "metadata": {
        "colab": {
          "base_uri": "https://localhost:8080/"
        },
        "id": "fdw-Bjshi5n2",
        "outputId": "513c2cd1-9568-43fc-fc52-9fdd607b4236"
      },
      "execution_count": 30,
      "outputs": [
        {
          "output_type": "stream",
          "name": "stdout",
          "text": [
            "Looking in indexes: https://pypi.org/simple, https://us-python.pkg.dev/colab-wheels/public/simple/\n",
            "Requirement already satisfied: ipython-sql in /usr/local/lib/python3.10/dist-packages (0.4.1)\n",
            "Requirement already satisfied: six in /usr/local/lib/python3.10/dist-packages (from ipython-sql) (1.16.0)\n",
            "Requirement already satisfied: sqlparse in /usr/local/lib/python3.10/dist-packages (from ipython-sql) (0.4.4)\n",
            "Requirement already satisfied: ipython>=1.0 in /usr/local/lib/python3.10/dist-packages (from ipython-sql) (7.34.0)\n",
            "Requirement already satisfied: prettytable<1 in /usr/local/lib/python3.10/dist-packages (from ipython-sql) (0.7.2)\n",
            "Requirement already satisfied: sqlalchemy>=0.6.7 in /usr/local/lib/python3.10/dist-packages (from ipython-sql) (2.0.10)\n",
            "Requirement already satisfied: ipython-genutils>=0.1.0 in /usr/local/lib/python3.10/dist-packages (from ipython-sql) (0.2.0)\n",
            "Requirement already satisfied: decorator in /usr/local/lib/python3.10/dist-packages (from ipython>=1.0->ipython-sql) (4.4.2)\n",
            "Requirement already satisfied: pickleshare in /usr/local/lib/python3.10/dist-packages (from ipython>=1.0->ipython-sql) (0.7.5)\n",
            "Requirement already satisfied: traitlets>=4.2 in /usr/local/lib/python3.10/dist-packages (from ipython>=1.0->ipython-sql) (5.7.1)\n",
            "Requirement already satisfied: pexpect>4.3 in /usr/local/lib/python3.10/dist-packages (from ipython>=1.0->ipython-sql) (4.8.0)\n",
            "Requirement already satisfied: prompt-toolkit!=3.0.0,!=3.0.1,<3.1.0,>=2.0.0 in /usr/local/lib/python3.10/dist-packages (from ipython>=1.0->ipython-sql) (3.0.38)\n",
            "Requirement already satisfied: setuptools>=18.5 in /usr/local/lib/python3.10/dist-packages (from ipython>=1.0->ipython-sql) (67.7.2)\n",
            "Requirement already satisfied: matplotlib-inline in /usr/local/lib/python3.10/dist-packages (from ipython>=1.0->ipython-sql) (0.1.6)\n",
            "Requirement already satisfied: backcall in /usr/local/lib/python3.10/dist-packages (from ipython>=1.0->ipython-sql) (0.2.0)\n",
            "Requirement already satisfied: pygments in /usr/local/lib/python3.10/dist-packages (from ipython>=1.0->ipython-sql) (2.14.0)\n",
            "Requirement already satisfied: jedi>=0.16 in /usr/local/lib/python3.10/dist-packages (from ipython>=1.0->ipython-sql) (0.18.2)\n",
            "Requirement already satisfied: greenlet!=0.4.17 in /usr/local/lib/python3.10/dist-packages (from sqlalchemy>=0.6.7->ipython-sql) (2.0.2)\n",
            "Requirement already satisfied: typing-extensions>=4.2.0 in /usr/local/lib/python3.10/dist-packages (from sqlalchemy>=0.6.7->ipython-sql) (4.5.0)\n",
            "Requirement already satisfied: parso<0.9.0,>=0.8.0 in /usr/local/lib/python3.10/dist-packages (from jedi>=0.16->ipython>=1.0->ipython-sql) (0.8.3)\n",
            "Requirement already satisfied: ptyprocess>=0.5 in /usr/local/lib/python3.10/dist-packages (from pexpect>4.3->ipython>=1.0->ipython-sql) (0.7.0)\n",
            "Requirement already satisfied: wcwidth in /usr/local/lib/python3.10/dist-packages (from prompt-toolkit!=3.0.0,!=3.0.1,<3.1.0,>=2.0.0->ipython>=1.0->ipython-sql) (0.2.6)\n"
          ]
        }
      ]
    },
    {
      "cell_type": "code",
      "source": [
        "# Intento para que no muestre Warnings\n",
        "%load_ext sql"
      ],
      "metadata": {
        "colab": {
          "base_uri": "https://localhost:8080/"
        },
        "id": "NXYzKiMijEjU",
        "outputId": "0ff5082a-2f9b-4b54-ea9a-454447bb49ac"
      },
      "execution_count": 31,
      "outputs": [
        {
          "output_type": "stream",
          "name": "stdout",
          "text": [
            "The sql extension is already loaded. To reload it, use:\n",
            "  %reload_ext sql\n"
          ]
        }
      ]
    },
    {
      "cell_type": "code",
      "execution_count": 32,
      "metadata": {
        "id": "Mavsl8oAgJt1"
      },
      "outputs": [],
      "source": [
        "from IPython.core.magic import register_cell_magic, register_line_magic\n",
        "\n",
        "\n",
        "@register_cell_magic\n",
        "def sqlite3(line, cell):\n",
        "    cell = [\n",
        "        l for l in cell.split(\"\\n\") if l[0:2] != \"--\" and l[0:2] not in [\"--\", \"##\"]\n",
        "    ]\n",
        "    cell = \"\\n\".join(cell)\n",
        "    return cur.execute(cell).fetchall()\n",
        "\n",
        "\n",
        "@register_cell_magic\n",
        "def sqlite3script(line, cell):\n",
        "    cell = [l for l in cell.split(\"\\n\") if len(l) >= 2 and l[0:2] not in [\"--\", \"##\"]]\n",
        "    cell = \"\\n\".join(cell)\n",
        "    conn.executescript(cell)\n",
        "    conn.commit()\n",
        "\n",
        "\n",
        "@register_line_magic\n",
        "def sql(line):\n",
        "    line = [\n",
        "        l for l in line.split(\"\\n\") if l[0:2] != \"--\" and l[0:2] not in [\"--\", \"##\"]\n",
        "    ]\n",
        "    line = \"\\n\".join(line)\n",
        "    return cur.execute(line).fetchall()"
      ]
    },
    {
      "cell_type": "code",
      "execution_count": 35,
      "metadata": {
        "id": "aYtbxybigJt1"
      },
      "outputs": [],
      "source": [
        "%%sqlite3script\n",
        "\n",
        "DROP TABLE IF EXISTS persons;\n",
        "\n",
        "CREATE TABLE persons (\n",
        "    id INT,\n",
        "    firstname VARCHAR(10),\n",
        "    surname VARCHAR(10),\n",
        "    birthday DATE,\n",
        "    color VARCHAR(10),\n",
        "    quantity INT\n",
        ");\n",
        "\n",
        "INSERT INTO persons VALUES\n",
        "    (1,\"Vivian\",\"Hamilton\",\"1971-07-08\",\"green\",1),\n",
        "    (2,\"Karen\",\"Holcomb\",\"1974-05-23\",\"green\",4),\n",
        "    (3,\"Cody\",\"Garrett\",\"1973-04-22\",\"orange\",1),\n",
        "    (4,\"Roth\",\"Fry\",\"1975-01-29\",\"black\",1),\n",
        "    (5,\"Zoe\",\"Conway\",\"1974-07-03\",\"blue\",2),\n",
        "    (6,\"Gretchen\",\"Kinney\",\"1974-10-18\",\"viole\",1),\n",
        "    (7,\"Driscoll\",\"Klein\",\"1970-10-05\",\"blue\",5),\n",
        "    (8,\"Karyn\",\"Diaz\",\"1969-02-24\",\"red\",1),\n",
        "    (9,\"Merritt\",\"Guy\",\"1974-10-17\",\"indigo\",4),\n",
        "    (10,\"Kylan\",\"Sexton\",\"1975-02-28\",\"black\",4),\n",
        "    (11,\"Jordan\",\"Estes\",\"1969-12-07\",\"indigo\",4),\n",
        "    (12,\"Hope\",\"Coffey\",\"1973-12-24\",\"green\",5),\n",
        "    (13,\"Vivian\",\"Crane\",\"1970-08-27\",\"gray\",5),\n",
        "    (14,\"Clio\",\"Noel\",\"1972-12-12\",\"red\",5),\n",
        "    (15,\"Hope\",\"Silva\",\"1970-07-01\",\"blue\",5),\n",
        "    (16,\"Ayanna\",\"Jarvis\",\"1974-02-11\",\"orange\",5),\n",
        "    (17,\"Chanda\",\"Boyer\",\"1973-04-01\",\"green\",4),\n",
        "    (18,\"Chadwick\",\"Knight\",\"1973-04-29\",\"yellow\",1);"
      ]
    },
    {
      "cell_type": "markdown",
      "metadata": {
        "id": "WielHa34gJt1"
      },
      "source": [
        "## Strings"
      ]
    },
    {
      "cell_type": "markdown",
      "metadata": {
        "id": "Cz-axOd0gJt1"
      },
      "source": [
        "### LENGTH()"
      ]
    },
    {
      "cell_type": "code",
      "execution_count": 10,
      "metadata": {
        "colab": {
          "base_uri": "https://localhost:8080/"
        },
        "id": "CeW4836IgJt2",
        "outputId": "7f315894-be52-4750-f86a-b9edeeaff369"
      },
      "outputs": [
        {
          "output_type": "execute_result",
          "data": {
            "text/plain": [
              "[('Hamilton', 8), ('Holcomb', 7), ('Garrett', 7), ('Fry', 3), ('Conway', 6)]"
            ]
          },
          "metadata": {},
          "execution_count": 10
        }
      ],
      "source": [
        "%sql SELECT surname, LENGTH(surname) FROM persons LIMIT 5;"
      ]
    },
    {
      "cell_type": "markdown",
      "metadata": {
        "id": "2Wsy1HwRgJt2"
      },
      "source": [
        "### UPPER(), LOWER()"
      ]
    },
    {
      "cell_type": "code",
      "execution_count": 11,
      "metadata": {
        "colab": {
          "base_uri": "https://localhost:8080/"
        },
        "id": "-Kso8BKZgJt2",
        "outputId": "39fa75a2-6728-47f5-b750-99dcac27ec0f"
      },
      "outputs": [
        {
          "output_type": "execute_result",
          "data": {
            "text/plain": [
              "[('Hamilton', 'HAMILTON', 'hamilton'),\n",
              " ('Holcomb', 'HOLCOMB', 'holcomb'),\n",
              " ('Garrett', 'GARRETT', 'garrett'),\n",
              " ('Fry', 'FRY', 'fry'),\n",
              " ('Conway', 'CONWAY', 'conway')]"
            ]
          },
          "metadata": {},
          "execution_count": 11
        }
      ],
      "source": [
        "%sql SELECT surname, UPPER(surname), LOWER(surname) FROM persons LIMIT 5;"
      ]
    },
    {
      "cell_type": "markdown",
      "source": [
        "La expresión `BETWEEN` en SQL se utiliza para verificar si un valor se encuentra dentro de un rango de valores."
      ],
      "metadata": {
        "id": "IvDht6YbhFU1"
      }
    },
    {
      "cell_type": "markdown",
      "source": [
        "En este caso, se evalúa si los textos `surname` están entre la **c** y la **k**, pero como los textos `surname` tienen más de una letra ninguno va a cumplir la condición."
      ],
      "metadata": {
        "id": "ijFl1ZZVhdpq"
      }
    },
    {
      "cell_type": "code",
      "execution_count": 12,
      "metadata": {
        "colab": {
          "base_uri": "https://localhost:8080/"
        },
        "id": "UHVmn7MPgJt2",
        "outputId": "bb0400e4-0e4e-49e3-8303-51f266b7e7e5"
      },
      "outputs": [
        {
          "output_type": "execute_result",
          "data": {
            "text/plain": [
              "[('Hamilton', 0),\n",
              " ('Holcomb', 0),\n",
              " ('Garrett', 0),\n",
              " ('Fry', 0),\n",
              " ('Conway', 0),\n",
              " ('Kinney', 0),\n",
              " ('Klein', 0),\n",
              " ('Diaz', 0),\n",
              " ('Guy', 0),\n",
              " ('Sexton', 0),\n",
              " ('Estes', 0),\n",
              " ('Coffey', 0),\n",
              " ('Crane', 0),\n",
              " ('Noel', 0),\n",
              " ('Silva', 0),\n",
              " ('Jarvis', 0),\n",
              " ('Boyer', 0),\n",
              " ('Knight', 0)]"
            ]
          },
          "metadata": {},
          "execution_count": 12
        }
      ],
      "source": [
        "#\n",
        "# Condicional para strings\n",
        "#\n",
        "%sql SELECT surname, surname BETWEEN 'c' AND 'k' FROM persons;"
      ]
    },
    {
      "cell_type": "code",
      "source": [
        "%sql SELECT surname, surname BETWEEN 'Aaaaaaaa' AND 'Zzzzzzzz' FROM persons;"
      ],
      "metadata": {
        "colab": {
          "base_uri": "https://localhost:8080/"
        },
        "id": "l1gf8NOihR5A",
        "outputId": "c2ec2e01-0787-4955-ff5f-f344f74d91fa"
      },
      "execution_count": 7,
      "outputs": [
        {
          "output_type": "execute_result",
          "data": {
            "text/plain": [
              "[('Hamilton', 1),\n",
              " ('Holcomb', 1),\n",
              " ('Garrett', 1),\n",
              " ('Fry', 1),\n",
              " ('Conway', 1),\n",
              " ('Kinney', 1),\n",
              " ('Klein', 1),\n",
              " ('Diaz', 1),\n",
              " ('Guy', 1),\n",
              " ('Sexton', 1),\n",
              " ('Estes', 1),\n",
              " ('Coffey', 1),\n",
              " ('Crane', 1),\n",
              " ('Noel', 1),\n",
              " ('Silva', 1),\n",
              " ('Jarvis', 1),\n",
              " ('Boyer', 1),\n",
              " ('Knight', 1)]"
            ]
          },
          "metadata": {},
          "execution_count": 7
        }
      ]
    },
    {
      "cell_type": "markdown",
      "metadata": {
        "id": "edfgiIcPgJt3"
      },
      "source": [
        "### LIKE"
      ]
    },
    {
      "cell_type": "markdown",
      "metadata": {
        "id": "s7D0yJEfgJt3"
      },
      "source": [
        "La función LIKE permite buscar patrones específicos dentro de cadenas de caracteres.\n",
        "\n",
        "\n",
        "    > LIKE 'a%'   : Encuentra los valores que inician con 'a'\n",
        "    > LIKE '%a'   : Encuentra los valores que terminan con 'a'\n",
        "    > LIKE '%a%'  : Encuentra los valores que contengan 'a' en cualquier posición\n",
        "    > LIKE '_a%'  : Encuentra los valores que contengan 'a' en la segunda posición\n",
        "    > LIKE 'a_%_%': Encuentra los valores que inician con 'a' y tienen al menos 3 caracteres\n",
        "    > LIKE 'a%o'  : Encuentra los valores que inician con 'a' y terminan con 'o'"
      ]
    },
    {
      "cell_type": "code",
      "execution_count": 13,
      "metadata": {
        "colab": {
          "base_uri": "https://localhost:8080/"
        },
        "id": "ucDEoyvHgJt3",
        "outputId": "e6630331-e9de-4673-b488-9f6c50fafea8"
      },
      "outputs": [
        {
          "output_type": "execute_result",
          "data": {
            "text/plain": [
              "[(4, 'Roth', 'Fry', '1975-01-29', 'black', 1),\n",
              " (5, 'Zoe', 'Conway', '1974-07-03', 'blue', 2),\n",
              " (7, 'Driscoll', 'Klein', '1970-10-05', 'blue', 5),\n",
              " (10, 'Kylan', 'Sexton', '1975-02-28', 'black', 4),\n",
              " (15, 'Hope', 'Silva', '1970-07-01', 'blue', 5)]"
            ]
          },
          "metadata": {},
          "execution_count": 13
        }
      ],
      "source": [
        "%sql SELECT * FROM persons WHERE color LIKE 'b%';"
      ]
    },
    {
      "cell_type": "code",
      "execution_count": 14,
      "metadata": {
        "colab": {
          "base_uri": "https://localhost:8080/"
        },
        "id": "YLy_9CfagJt3",
        "outputId": "d184fd82-ef95-4482-df16-4cc1520436bb"
      },
      "outputs": [
        {
          "output_type": "execute_result",
          "data": {
            "text/plain": [
              "[(1, 'Vivian', 'Hamilton', '1971-07-08', 'green', 1),\n",
              " (2, 'Karen', 'Holcomb', '1974-05-23', 'green', 4),\n",
              " (3, 'Cody', 'Garrett', '1973-04-22', 'orange', 1),\n",
              " (6, 'Gretchen', 'Kinney', '1974-10-18', 'viole', 1),\n",
              " (8, 'Karyn', 'Diaz', '1969-02-24', 'red', 1),\n",
              " (9, 'Merritt', 'Guy', '1974-10-17', 'indigo', 4),\n",
              " (11, 'Jordan', 'Estes', '1969-12-07', 'indigo', 4),\n",
              " (12, 'Hope', 'Coffey', '1973-12-24', 'green', 5),\n",
              " (13, 'Vivian', 'Crane', '1970-08-27', 'gray', 5),\n",
              " (14, 'Clio', 'Noel', '1972-12-12', 'red', 5),\n",
              " (16, 'Ayanna', 'Jarvis', '1974-02-11', 'orange', 5),\n",
              " (17, 'Chanda', 'Boyer', '1973-04-01', 'green', 4),\n",
              " (18, 'Chadwick', 'Knight', '1973-04-29', 'yellow', 1)]"
            ]
          },
          "metadata": {},
          "execution_count": 14
        }
      ],
      "source": [
        "%sql SELECT * FROM persons WHERE color NOT LIKE 'b%';"
      ]
    },
    {
      "cell_type": "code",
      "execution_count": 15,
      "metadata": {
        "colab": {
          "base_uri": "https://localhost:8080/"
        },
        "id": "Dbi0khLsgJt3",
        "outputId": "f0739ec9-4453-4167-b2c1-9298c69f808d"
      },
      "outputs": [
        {
          "output_type": "execute_result",
          "data": {
            "text/plain": [
              "[(5, 'Zoe', 'Conway', '1974-07-03', 'blue', 2)]"
            ]
          },
          "metadata": {},
          "execution_count": 15
        }
      ],
      "source": [
        "#\n",
        "# Conectores lógicos (AND).\n",
        "#\n",
        "%sql SELECT * FROM persons WHERE color = 'blue' AND firstname LIKE 'Z%';"
      ]
    },
    {
      "cell_type": "code",
      "execution_count": 16,
      "metadata": {
        "colab": {
          "base_uri": "https://localhost:8080/"
        },
        "id": "3BHxU_u1gJt3",
        "outputId": "a90dd3a5-3788-4f62-cb70-2fdbd1c53a82"
      },
      "outputs": [
        {
          "output_type": "execute_result",
          "data": {
            "text/plain": [
              "[(2, 'Karen', 'Holcomb', '1974-05-23', 'green', 4),\n",
              " (5, 'Zoe', 'Conway', '1974-07-03', 'blue', 2),\n",
              " (7, 'Driscoll', 'Klein', '1970-10-05', 'blue', 5),\n",
              " (8, 'Karyn', 'Diaz', '1969-02-24', 'red', 1),\n",
              " (10, 'Kylan', 'Sexton', '1975-02-28', 'black', 4),\n",
              " (15, 'Hope', 'Silva', '1970-07-01', 'blue', 5)]"
            ]
          },
          "metadata": {},
          "execution_count": 16
        }
      ],
      "source": [
        "#\n",
        "# Conectores lógicos (OR).\n",
        "#\n",
        "%sql SELECT * FROM persons WHERE color = 'blue' OR firstname LIKE 'K%';"
      ]
    },
    {
      "cell_type": "code",
      "execution_count": 17,
      "metadata": {
        "colab": {
          "base_uri": "https://localhost:8080/"
        },
        "id": "deGO4tdHgJt4",
        "outputId": "12ea56a3-9e12-46fb-d3e9-7f59875e0cbf"
      },
      "outputs": [
        {
          "output_type": "execute_result",
          "data": {
            "text/plain": [
              "[(4, 'Roth', 'Fry', '1975-01-29', 'black', 1),\n",
              " (5, 'Zoe', 'Conway', '1974-07-03', 'blue', 2),\n",
              " (7, 'Driscoll', 'Klein', '1970-10-05', 'blue', 5),\n",
              " (10, 'Kylan', 'Sexton', '1975-02-28', 'black', 4),\n",
              " (15, 'Hope', 'Silva', '1970-07-01', 'blue', 5)]"
            ]
          },
          "metadata": {},
          "execution_count": 17
        }
      ],
      "source": [
        "#\n",
        "# Condicional para campos string\n",
        "#\n",
        "%sql SELECT * FROM persons WHERE color IN ('blue','black');"
      ]
    },
    {
      "cell_type": "code",
      "execution_count": 18,
      "metadata": {
        "colab": {
          "base_uri": "https://localhost:8080/"
        },
        "id": "nBd3Ta9TgJt4",
        "outputId": "28407713-9f6f-44e5-d127-1f0bddf663ab"
      },
      "outputs": [
        {
          "output_type": "execute_result",
          "data": {
            "text/plain": [
              "[(1, 'Vivian', 'Hamilton', '1971-07-08', 'green', 1),\n",
              " (2, 'Karen', 'Holcomb', '1974-05-23', 'green', 4),\n",
              " (3, 'Cody', 'Garrett', '1973-04-22', 'orange', 1),\n",
              " (6, 'Gretchen', 'Kinney', '1974-10-18', 'viole', 1),\n",
              " (8, 'Karyn', 'Diaz', '1969-02-24', 'red', 1),\n",
              " (9, 'Merritt', 'Guy', '1974-10-17', 'indigo', 4),\n",
              " (11, 'Jordan', 'Estes', '1969-12-07', 'indigo', 4),\n",
              " (12, 'Hope', 'Coffey', '1973-12-24', 'green', 5),\n",
              " (13, 'Vivian', 'Crane', '1970-08-27', 'gray', 5),\n",
              " (14, 'Clio', 'Noel', '1972-12-12', 'red', 5),\n",
              " (16, 'Ayanna', 'Jarvis', '1974-02-11', 'orange', 5),\n",
              " (17, 'Chanda', 'Boyer', '1973-04-01', 'green', 4),\n",
              " (18, 'Chadwick', 'Knight', '1973-04-29', 'yellow', 1)]"
            ]
          },
          "metadata": {},
          "execution_count": 18
        }
      ],
      "source": [
        "#\n",
        "# Condicional para campos string\n",
        "#\n",
        "%sql SELECT * FROM persons WHERE color NOT IN ('blue','black');"
      ]
    },
    {
      "cell_type": "markdown",
      "metadata": {
        "id": "Frz1-afJgJt4"
      },
      "source": [
        "## ORDER BY"
      ]
    },
    {
      "cell_type": "code",
      "execution_count": 19,
      "metadata": {
        "colab": {
          "base_uri": "https://localhost:8080/"
        },
        "id": "Tbeb-MsxgJt4",
        "outputId": "4e4233f1-02de-4d9f-833a-ac22c0ff57a5"
      },
      "outputs": [
        {
          "output_type": "execute_result",
          "data": {
            "text/plain": [
              "[(4, 'Roth', 'Fry', '1975-01-29', 'black', 1),\n",
              " (10, 'Kylan', 'Sexton', '1975-02-28', 'black', 4),\n",
              " (5, 'Zoe', 'Conway', '1974-07-03', 'blue', 2),\n",
              " (7, 'Driscoll', 'Klein', '1970-10-05', 'blue', 5),\n",
              " (15, 'Hope', 'Silva', '1970-07-01', 'blue', 5),\n",
              " (13, 'Vivian', 'Crane', '1970-08-27', 'gray', 5),\n",
              " (1, 'Vivian', 'Hamilton', '1971-07-08', 'green', 1),\n",
              " (2, 'Karen', 'Holcomb', '1974-05-23', 'green', 4),\n",
              " (12, 'Hope', 'Coffey', '1973-12-24', 'green', 5),\n",
              " (17, 'Chanda', 'Boyer', '1973-04-01', 'green', 4),\n",
              " (9, 'Merritt', 'Guy', '1974-10-17', 'indigo', 4),\n",
              " (11, 'Jordan', 'Estes', '1969-12-07', 'indigo', 4),\n",
              " (3, 'Cody', 'Garrett', '1973-04-22', 'orange', 1),\n",
              " (16, 'Ayanna', 'Jarvis', '1974-02-11', 'orange', 5),\n",
              " (8, 'Karyn', 'Diaz', '1969-02-24', 'red', 1),\n",
              " (14, 'Clio', 'Noel', '1972-12-12', 'red', 5),\n",
              " (6, 'Gretchen', 'Kinney', '1974-10-18', 'viole', 1),\n",
              " (18, 'Chadwick', 'Knight', '1973-04-29', 'yellow', 1)]"
            ]
          },
          "metadata": {},
          "execution_count": 19
        }
      ],
      "source": [
        "%sql SELECT * FROM persons ORDER BY color;"
      ]
    },
    {
      "cell_type": "markdown",
      "metadata": {
        "id": "saT3Ko1MgJt4"
      },
      "source": [
        "## GROUP BY"
      ]
    },
    {
      "cell_type": "markdown",
      "metadata": {
        "id": "4Qlo3q5MgJt4"
      },
      "source": [
        "### COUNT()"
      ]
    },
    {
      "cell_type": "code",
      "execution_count": 20,
      "metadata": {
        "colab": {
          "base_uri": "https://localhost:8080/"
        },
        "id": "e245BfrJgJt4",
        "outputId": "346b1c81-9f66-4037-ebb4-685c84764849"
      },
      "outputs": [
        {
          "output_type": "execute_result",
          "data": {
            "text/plain": [
              "[(18,)]"
            ]
          },
          "metadata": {},
          "execution_count": 20
        }
      ],
      "source": [
        "#\n",
        "# Cuenta cuantos registros hay en la tabla.\n",
        "#\n",
        "%sql SELECT COUNT(*) FROM persons;"
      ]
    },
    {
      "cell_type": "markdown",
      "metadata": {
        "id": "YDIRtS9pgJt5"
      },
      "source": [
        "### MAX(), MIN(), SUM(), AVG()"
      ]
    },
    {
      "cell_type": "code",
      "execution_count": 34,
      "metadata": {
        "colab": {
          "base_uri": "https://localhost:8080/"
        },
        "id": "tgi1Ai4mgJt5",
        "outputId": "25356453-0e8e-4da4-c22f-0ec815e84ded"
      },
      "outputs": [
        {
          "output_type": "execute_result",
          "data": {
            "text/plain": [
              "[('black', 4, 1, 5, 2.5),\n",
              " ('blue', 5, 2, 12, 4.0),\n",
              " ('gray', 5, 5, 5, 5.0),\n",
              " ('green', 5, 1, 14, 3.5),\n",
              " ('indigo', 4, 4, 8, 4.0),\n",
              " ('orange', 5, 1, 6, 3.0),\n",
              " ('red', 5, 1, 6, 3.0),\n",
              " ('viole', 1, 1, 1, 1.0),\n",
              " ('yellow', 1, 1, 1, 1.0)]"
            ]
          },
          "metadata": {},
          "execution_count": 34
        }
      ],
      "source": [
        "%%sqlite3\n",
        "SELECT \n",
        "    color,\n",
        "    MAX(quantity),\n",
        "    MIN(quantity),\n",
        "    SUM(quantity),\n",
        "    AVG(quantity)\n",
        "FROM\n",
        "    persons\n",
        "GROUP BY\n",
        "    color;"
      ]
    },
    {
      "cell_type": "code",
      "execution_count": 22,
      "metadata": {
        "colab": {
          "base_uri": "https://localhost:8080/"
        },
        "id": "EQumZ85OgJt5",
        "outputId": "63009697-ccd1-431c-a548-93ecee5e7d5f"
      },
      "outputs": [
        {
          "output_type": "execute_result",
          "data": {
            "text/plain": [
              "[('green', 1),\n",
              " ('orange', 1),\n",
              " ('black', 1),\n",
              " ('viole', 1),\n",
              " ('red', 1),\n",
              " ('yellow', 1)]"
            ]
          },
          "metadata": {},
          "execution_count": 22
        }
      ],
      "source": [
        "%%sqlite3\n",
        "SELECT \n",
        "    color,\n",
        "    quantity\n",
        "FROM\n",
        "    persons\n",
        "WHERE\n",
        "    quantity = (SELECT MIN(quantity) FROM persons);"
      ]
    },
    {
      "cell_type": "markdown",
      "metadata": {
        "id": "QCt1eaSqgJt5"
      },
      "source": [
        "---"
      ]
    },
    {
      "cell_type": "code",
      "execution_count": 23,
      "metadata": {
        "id": "kfNdU2pMgJt5"
      },
      "outputs": [],
      "source": [
        "## Cierre de la conexión\n",
        "conn.close()"
      ]
    }
  ],
  "metadata": {
    "kernel_info": {
      "name": "python3"
    },
    "kernelspec": {
      "display_name": "Python 3.8.9 ('.venv': venv)",
      "language": "python",
      "name": "python3"
    },
    "language_info": {
      "codemirror_mode": {
        "name": "ipython",
        "version": 3
      },
      "file_extension": ".py",
      "mimetype": "text/x-python",
      "name": "python",
      "nbconvert_exporter": "python",
      "pygments_lexer": "ipython3",
      "version": "3.9.6"
    },
    "nteract": {
      "version": "0.12.3"
    },
    "vscode": {
      "interpreter": {
        "hash": "2482a4565599eda3cd2db35331af39775c1f78a505a9deef48c721423040da5b"
      }
    },
    "colab": {
      "provenance": []
    }
  },
  "nbformat": 4,
  "nbformat_minor": 0
}