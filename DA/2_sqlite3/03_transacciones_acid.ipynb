{
  "cells": [
    {
      "cell_type": "markdown",
      "metadata": {
        "id": "Mur-mxWleurw"
      },
      "source": [
        "# Transacciones ACID (Insert/ Update / Delete) en SQLite3"
      ]
    },
    {
      "cell_type": "markdown",
      "source": [
        ">[Transacciones ACID (Insert/ Update / Delete) en SQLite3](#scrollTo=Mur-mxWleurw)\n",
        "\n",
        ">>[CREATE](#scrollTo=30_Rmum2eury)\n",
        "\n",
        ">>[INSERT](#scrollTo=BYBDKsXGeurz)\n",
        "\n",
        ">>[UPDATE](#scrollTo=1lQ4LGrseur1)\n",
        "\n",
        ">>[DELETE](#scrollTo=y6jWp6LVeur2)\n",
        "\n"
      ],
      "metadata": {
        "colab_type": "toc",
        "id": "OEQz6wJof4c_"
      }
    },
    {
      "cell_type": "markdown",
      "metadata": {
        "id": "orfTnabOeurx"
      },
      "source": [
        "El lenguaje SQL estándar provee directivas para la insertar, actualizar y borrar registros en una tabla. En este tutorial se presentan ejemplos representativos de estas instrucciones en SQLlite3. "
      ]
    },
    {
      "cell_type": "code",
      "execution_count": null,
      "metadata": {
        "id": "nwaPxN2ueury"
      },
      "outputs": [],
      "source": [
        "#\n",
        "# Apertura de la conexión\n",
        "#\n",
        "import sqlite3\n",
        "\n",
        "conn = sqlite3.connect(\":memory:\")  ## aca se indica el nombre de la db.\n",
        "cur = conn.cursor()"
      ]
    },
    {
      "cell_type": "markdown",
      "metadata": {
        "id": "30_Rmum2eury"
      },
      "source": [
        "## CREATE"
      ]
    },
    {
      "cell_type": "code",
      "execution_count": null,
      "metadata": {
        "id": "Xju_RmZVeurz",
        "outputId": "0ca8c364-cdc9-41e2-b8fc-29f2c287e115"
      },
      "outputs": [
        {
          "data": {
            "text/plain": [
              "[]"
            ]
          },
          "execution_count": 2,
          "metadata": {},
          "output_type": "execute_result"
        }
      ],
      "source": [
        "cur.execute(\n",
        "    \"\"\"\n",
        "CREATE TABLE persons (\n",
        "    id INT,\n",
        "    firstname VARCHAR(10),\n",
        "    surname VARCHAR(10),\n",
        "    birthday DATE,\n",
        "    color VARCHAR(10),\n",
        "    quantity INT\n",
        ");\n",
        "\"\"\"\n",
        ").fetchall()"
      ]
    },
    {
      "cell_type": "markdown",
      "metadata": {
        "id": "BYBDKsXGeurz"
      },
      "source": [
        "## INSERT\n",
        "\n",
        "\n",
        "\n",
        "```sql\n",
        "INSERT INTO\n",
        "  table_name [(column_name,...)]\n",
        "{VALUES | VALUE}\n",
        "  ({expression|DEFAULT},...)[,(...),...];\n",
        "```\n",
        "\n"
      ]
    },
    {
      "cell_type": "code",
      "execution_count": null,
      "metadata": {
        "id": "eS7XcUQLeurz",
        "outputId": "c59add69-353d-46e6-d348-4f9a96f65fd3"
      },
      "outputs": [
        {
          "data": {
            "text/plain": [
              "[(1, 'Vivian', 'Hamilton', '1971-07-08', 'green', 1)]"
            ]
          },
          "execution_count": 3,
          "metadata": {},
          "output_type": "execute_result"
        }
      ],
      "source": [
        "#\n",
        "# Inserta el registro en la tabla.\n",
        "# Los valores están en el mismo orden de los campos.\n",
        "#\n",
        "cur.execute(\n",
        "    \"\"\"\n",
        "INSERT INTO \n",
        "    persons \n",
        "VALUES \n",
        "    (1,\"Vivian\",\"Hamilton\",\"1971-07-08\",\"green\",1);\n",
        "\"\"\"\n",
        ").fetchall()\n",
        "\n",
        "cur.execute(\"SELECT * FROM persons;\").fetchall()"
      ]
    },
    {
      "cell_type": "code",
      "execution_count": null,
      "metadata": {
        "id": "5_WLVdHFeur0",
        "outputId": "3b062378-38b5-4385-dfd4-003c938b4e4d"
      },
      "outputs": [
        {
          "data": {
            "text/plain": [
              "[(1, 'Vivian', 'Hamilton', '1971-07-08', 'green', 1),\n",
              " (2, 'Karen', 'Holcomb', '1974-05-23', 'green', 4),\n",
              " (3, 'Cody', 'Garrett', '1973-04-22', 'orange', 1)]"
            ]
          },
          "execution_count": 4,
          "metadata": {},
          "output_type": "execute_result"
        }
      ],
      "source": [
        "#\n",
        "# Inserta varios registros a la vez.\n",
        "# Los valores deben estar en el mismo orden de los campos.\n",
        "#\n",
        "cur.execute(\n",
        "    \"\"\"\n",
        "INSERT INTO \n",
        "    persons \n",
        "VALUES\n",
        "    (2,\"Karen\",\"Holcomb\",\"1974-05-23\",\"green\",4),\n",
        "    (3,\"Cody\",\"Garrett\",\"1973-04-22\",\"orange\",1);\n",
        "\"\"\"\n",
        ").fetchall()\n",
        "\n",
        "cur.execute(\"SELECT * FROM persons;\").fetchall()"
      ]
    },
    {
      "cell_type": "code",
      "execution_count": null,
      "metadata": {
        "scrolled": true,
        "id": "oCR_ocHzeur0",
        "outputId": "2e82d75c-1d81-4423-fa02-1315921a97cb"
      },
      "outputs": [
        {
          "data": {
            "text/plain": [
              "[(1, 'Vivian', 'Hamilton', '1971-07-08', 'green', 1),\n",
              " (2, 'Karen', 'Holcomb', '1974-05-23', 'green', 4),\n",
              " (3, 'Cody', 'Garrett', '1973-04-22', 'orange', 1),\n",
              " (None, 'Vivian', 'Kinney', None, 'violet', None),\n",
              " (None, 'Hope', 'Kingston', None, 'blue', None),\n",
              " (None, 'Kylan', 'Bigelow', None, 'red', None)]"
            ]
          },
          "execution_count": 5,
          "metadata": {},
          "output_type": "execute_result"
        }
      ],
      "source": [
        "#\n",
        "# Inserta registros con información parcial.\n",
        "# Se indica en cuales campos se inserta la información.\n",
        "#\n",
        "cur.execute(\n",
        "    \"\"\"\n",
        "INSERT INTO persons (color,firstname,surname) VALUES\n",
        "    (\"violet\",\"Vivian\", \"Kinney\"),\n",
        "    (\"blue\",\"Hope\",\"Kingston\"),\n",
        "    (\"red\",\"Kylan\",\"Bigelow\");\n",
        "\"\"\"\n",
        ").fetchall()\n",
        "\n",
        "cur.execute(\"SELECT * FROM persons;\").fetchall()"
      ]
    },
    {
      "cell_type": "code",
      "execution_count": null,
      "metadata": {
        "id": "EqX28wGKeur0",
        "outputId": "02d0f1fe-202c-4b59-8575-120486216763"
      },
      "outputs": [
        {
          "data": {
            "text/plain": [
              "[(1, 'Vivian', 'Hamilton', '1971-07-08', 'green', 1),\n",
              " (2, 'Karen', 'Holcomb', '1974-05-23', 'green', 4),\n",
              " (3, 'Cody', 'Garrett', '1973-04-22', 'orange', 1),\n",
              " (None, 'Vivian', 'Kinney', None, 'violet', None),\n",
              " (None, 'Hope', 'Kingston', None, 'blue', None),\n",
              " (None, 'Kylan', 'Bigelow', None, 'red', None),\n",
              " (None, 'Camil', None, None, None, None)]"
            ]
          },
          "execution_count": 6,
          "metadata": {},
          "output_type": "execute_result"
        }
      ],
      "source": [
        "#\n",
        "# Inserta un registro con información en un solo campo.\n",
        "# Se indica en cual campo se inserta la información\n",
        "#\n",
        "cur.execute(\n",
        "    \"\"\"\n",
        "INSERT INTO \n",
        "    persons (firstname) \n",
        "VALUES \n",
        "    (\"Camil\");\n",
        "\"\"\"\n",
        ").fetchall()\n",
        "\n",
        "cur.execute(\"SELECT * FROM persons;\").fetchall()"
      ]
    },
    {
      "cell_type": "code",
      "execution_count": null,
      "metadata": {
        "id": "da0F7aGreur1",
        "outputId": "b1f3a552-d301-430e-8705-a4689abb8952"
      },
      "outputs": [
        {
          "data": {
            "text/plain": [
              "[(1, 'Vivian', 'Hamilton', '1971-07-08', 'green', 1),\n",
              " (2, 'Karen', 'Holcomb', '1974-05-23', 'green', 4),\n",
              " (3, 'Cody', 'Garrett', '1973-04-22', 'orange', 1),\n",
              " (None, 'Vivian', 'Kinney', None, 'violet', None),\n",
              " (None, 'Hope', 'Kingston', None, 'blue', None),\n",
              " (None, 'Kylan', 'Bigelow', None, 'red', None),\n",
              " (None, 'Camil', None, None, None, None),\n",
              " (None, 'Kate', 'Bond', '1974-05-23', None, None)]"
            ]
          },
          "execution_count": 7,
          "metadata": {},
          "output_type": "execute_result"
        }
      ],
      "source": [
        "#\n",
        "# Se inserta información en un registro.\n",
        "# No se indican los nombres de los campos.\n",
        "# Se usa NULL para los campos que no tienen información.\n",
        "#\n",
        "cur.execute(\n",
        "    \"\"\"\n",
        "INSERT INTO \n",
        "    persons \n",
        "VALUES\n",
        "    (NULL,\"Kate\",\"Bond\",\"1974-05-23\",NULL,NULL);\n",
        "\"\"\"\n",
        ").fetchall()\n",
        "\n",
        "cur.execute(\"SELECT * FROM persons;\").fetchall()"
      ]
    },
    {
      "cell_type": "markdown",
      "metadata": {
        "id": "1lQ4LGrseur1"
      },
      "source": [
        "## UPDATE\n",
        "\n",
        "```sql\n",
        "UPDATE\n",
        "  tbl_name\n",
        "SET \n",
        "  (col_name = {expression|DEFAULT}, ...)\n",
        "WHERE \n",
        "  [where_conditions];\n",
        "```\n",
        "\n",
        "\n"
      ]
    },
    {
      "cell_type": "code",
      "execution_count": null,
      "metadata": {
        "id": "mk4f9Hdxeur1",
        "outputId": "5635637c-b8bf-43f3-f377-cb4dd9357486"
      },
      "outputs": [
        {
          "data": {
            "text/plain": [
              "[(1, 'Vivian', 'Hamilton', '1971-07-08', 'green', 1),\n",
              " (2, 'Karen', 'Holcomb', '1974-05-23', 'green', 4),\n",
              " (3, 'Cody', 'Garrett', '1973-04-22', 'orange', 1),\n",
              " (None, 'Vivian', 'Kinney', None, 'violet', None),\n",
              " (None, 'Hope', 'Kingston', None, 'blue', None),\n",
              " (None, 'Kylan', 'Bigelow', None, 'red', None),\n",
              " (None, 'Camil', None, None, None, None),\n",
              " (8, 'Kate', 'Bond', '1974-05-23', 'gray', None)]"
            ]
          },
          "execution_count": 8,
          "metadata": {},
          "output_type": "execute_result"
        }
      ],
      "source": [
        "#\n",
        "# Se actualiza la información de los campos de registros existentes.\n",
        "# Se indica explictamente el valor de cada campo.\n",
        "# Si no se introduce la clausura WHERE se cambian todos los\n",
        "# los registros de la tabla.\n",
        "#\n",
        "#\n",
        "# Se inserta información en un registro.\n",
        "# No se indican los nombres de los campos.\n",
        "# Se usa NULL para los campos que no tienen información.\n",
        "#\n",
        "cur.execute(\n",
        "    \"\"\"\n",
        "UPDATE persons SET\n",
        "    id = 8, \n",
        "    color = \"gray\"\n",
        "WHERE \n",
        "    firstname = \"Kate\";\n",
        "\"\"\"\n",
        ").fetchall()\n",
        "\n",
        "cur.execute(\"SELECT * FROM persons;\").fetchall()"
      ]
    },
    {
      "cell_type": "code",
      "execution_count": null,
      "metadata": {
        "id": "23bFZ2YBeur2",
        "outputId": "ac11eff2-211c-4863-b16c-6c18cd677a55"
      },
      "outputs": [
        {
          "data": {
            "text/plain": [
              "[(1, 'Vivian', 'Hamilton', '1971-07-08', 'green', 1),\n",
              " (2, 'Karen', 'Holcomb', '1974-05-23', 'green', 4),\n",
              " (3, 'Cody', 'Garrett', '1973-04-22', 'orange', 1),\n",
              " (None, 'Vivian', 'Kinney', None, 'violet', None),\n",
              " (None, 'Hope', 'Kingston', None, 'blue', None),\n",
              " (None, 'Kylan', 'Bigelow', None, 'red', None),\n",
              " (None, 'Camil', None, None, None, None),\n",
              " (8, 'Kate', 'Bond', '1974-05-23', 'black', None)]"
            ]
          },
          "execution_count": 9,
          "metadata": {},
          "output_type": "execute_result"
        }
      ],
      "source": [
        "#\n",
        "# Se actualiza el campo con base en el indicador.\n",
        "#\n",
        "cur.execute(\n",
        "    \"\"\"\n",
        "UPDATE \n",
        "    persons \n",
        "SET \n",
        "   color = \"black\" \n",
        "WHERE \n",
        "   id = 8;\n",
        "\"\"\"\n",
        ").fetchall()\n",
        "\n",
        "cur.execute(\"SELECT * FROM persons;\").fetchall()"
      ]
    },
    {
      "cell_type": "markdown",
      "metadata": {
        "id": "y6jWp6LVeur2"
      },
      "source": [
        "## DELETE"
      ]
    },
    {
      "cell_type": "code",
      "execution_count": null,
      "metadata": {
        "id": "r5wWS4eAeur2",
        "outputId": "ee76605d-b10c-412f-d25a-ebf035419374"
      },
      "outputs": [
        {
          "data": {
            "text/plain": [
              "[(3, 'Cody', 'Garrett', '1973-04-22', 'orange', 1),\n",
              " (None, 'Vivian', 'Kinney', None, 'violet', None),\n",
              " (None, 'Hope', 'Kingston', None, 'blue', None),\n",
              " (None, 'Kylan', 'Bigelow', None, 'red', None),\n",
              " (None, 'Camil', None, None, None, None),\n",
              " (8, 'Kate', 'Bond', '1974-05-23', 'black', None)]"
            ]
          },
          "execution_count": 10,
          "metadata": {},
          "output_type": "execute_result"
        }
      ],
      "source": [
        "cur.execute(\n",
        "    \"\"\"\n",
        "DELETE FROM \n",
        "    persons \n",
        "WHERE \n",
        "   color = 'green';\n",
        "\"\"\"\n",
        ").fetchall()\n",
        "\n",
        "cur.execute(\"SELECT * FROM persons;\").fetchall()"
      ]
    }
  ],
  "metadata": {
    "kernel_info": {
      "name": "python3"
    },
    "kernelspec": {
      "display_name": "Python 3.9.6 64-bit",
      "language": "python",
      "name": "python3"
    },
    "language_info": {
      "codemirror_mode": {
        "name": "ipython",
        "version": 3
      },
      "file_extension": ".py",
      "mimetype": "text/x-python",
      "name": "python",
      "nbconvert_exporter": "python",
      "pygments_lexer": "ipython3",
      "version": "3.9.6"
    },
    "nteract": {
      "version": "0.12.3"
    },
    "toc": {
      "base_numbering": 1,
      "nav_menu": {},
      "number_sections": false,
      "sideBar": true,
      "skip_h1_title": true,
      "title_cell": "Table of Contents",
      "title_sidebar": "Contents",
      "toc_cell": false,
      "toc_position": {},
      "toc_section_display": true,
      "toc_window_display": true
    },
    "vscode": {
      "interpreter": {
        "hash": "31f2aee4e71d21fbe5cf8b01ff0e069b9275f58929596ceb00d14d90e3e16cd6"
      }
    },
    "colab": {
      "provenance": []
    }
  },
  "nbformat": 4,
  "nbformat_minor": 0
}