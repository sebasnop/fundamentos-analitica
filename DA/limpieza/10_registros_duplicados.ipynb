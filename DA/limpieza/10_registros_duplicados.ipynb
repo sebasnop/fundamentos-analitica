{
  "cells": [
    {
      "cell_type": "markdown",
      "id": "a70d52ad-0f57-44c7-80d3-67a8af0af81e",
      "metadata": {
        "tags": [],
        "id": "a70d52ad-0f57-44c7-80d3-67a8af0af81e"
      },
      "source": [
        "Registros duplicados\n",
        "===\n",
        "\n",
        "* Ultima actualización: Marzo 6, 2023 | [YouTube](https://www.youtube.com/watch?v=4DzusT3Nl-Q&list=PLEFpZ3YehTnDX6z1fx4rT0wkt80ythBhc&index=10)"
      ]
    },
    {
      "cell_type": "markdown",
      "id": "dd456c8f-3fc4-4ddb-bdb3-4212423c960b",
      "metadata": {
        "id": "dd456c8f-3fc4-4ddb-bdb3-4212423c960b"
      },
      "source": [
        "**Posibilidades**:\n",
        "\n",
        "   * Registro completo duplicado.\n",
        "   \n",
        "   * Algunos campos duplicados, demas campos con valores diferentes\n",
        "   \n",
        "   \n",
        "**Soluciones posibles**:\n",
        "\n",
        "   * Borrado de los registros completamente duplicados.\n",
        "    \n",
        "   * Agregación para campos con valores diferentes."
      ]
    },
    {
      "cell_type": "markdown",
      "source": [
        ">[Registros duplicados](#scrollTo=a70d52ad-0f57-44c7-80d3-67a8af0af81e)\n",
        "\n",
        ">>[Datos](#scrollTo=ltnTQgd11KD3)\n",
        "\n",
        ">>[Registro completo](#scrollTo=KeBHWDSR08Qa)\n",
        "\n",
        ">>[Algunos campos](#scrollTo=6n05yX3m0_mB)\n",
        "\n",
        ">>[Borrado (Completamente duplicado)](#scrollTo=WIQD-a6s1b49)\n",
        "\n"
      ],
      "metadata": {
        "colab_type": "toc",
        "id": "TX0anRmp1mVw"
      },
      "id": "TX0anRmp1mVw"
    },
    {
      "cell_type": "code",
      "execution_count": null,
      "id": "ce6a75ae-d34c-4c4a-a19b-f4d969af242f",
      "metadata": {
        "id": "ce6a75ae-d34c-4c4a-a19b-f4d969af242f",
        "outputId": "6cc4cb49-0273-4caa-eea0-db02ab20d2eb"
      },
      "outputs": [
        {
          "data": {
            "text/plain": [
              "'1.5.2'"
            ]
          },
          "execution_count": 1,
          "metadata": {},
          "output_type": "execute_result"
        }
      ],
      "source": [
        "import pandas as pd\n",
        "\n",
        "pd.__version__"
      ]
    },
    {
      "cell_type": "markdown",
      "source": [
        "## Datos"
      ],
      "metadata": {
        "id": "ltnTQgd11KD3"
      },
      "id": "ltnTQgd11KD3"
    },
    {
      "cell_type": "code",
      "execution_count": null,
      "id": "aaf77c0b-bc1c-447d-923a-f39dca269906",
      "metadata": {
        "id": "aaf77c0b-bc1c-447d-923a-f39dca269906",
        "outputId": "59036fd5-0498-449c-c8e5-286a9e791d7d"
      },
      "outputs": [
        {
          "name": "stdout",
          "output_type": "stream",
          "text": [
            "Overwriting /tmp/data.csv\n"
          ]
        }
      ],
      "source": [
        "%%writefile /tmp/data.csv\n",
        "clientId,name,phone,companyId\n",
        "1,Hersch Szymanowicz,+237 (561) 702-4118,3\n",
        "2,Gaven Brito,+51 (870) 799-1508,7\n",
        "3,Maressa Pavlishchev,+62 (350) 377-8621,4\n",
        "4,Corine Dunseith,+63 (797) 344-2571,8\n",
        "5,Ramon Lawrence,+66 (557) 865-3845,6\n",
        "6,Ibbie Whitehouse,+98 (495) 896-6408,1\n",
        "7,Neils Capelen,+86 (361) 914-8734,6\n",
        "8,Thia Malkie,+46 (564) 145-8997,4\n",
        "9,Missy Folomkin,+33 (962) 798-0776,7\n",
        "10,Eleanor Gallamore,+86 (366) 702-2334,5\n",
        "7,Neils Capelen,+86 (361) 914-8734,6\n",
        "4,Corine Dunseith,+63 (797) 344-2571,8\n",
        "2,Gaven Brito,+51 (870) 799-2308,2\n",
        "5,Ramon Lawrence,+66 (557) 061-3844,5\n",
        "4,Corine Dunseith,+63 (797) 344-2571,8"
      ]
    },
    {
      "cell_type": "code",
      "execution_count": null,
      "id": "a9e50d6a-4042-481d-8219-13509749de09",
      "metadata": {
        "id": "a9e50d6a-4042-481d-8219-13509749de09",
        "outputId": "e7e428b4-2952-4fa8-aeec-12382046d48b"
      },
      "outputs": [
        {
          "data": {
            "text/html": [
              "<div>\n",
              "<style scoped>\n",
              "    .dataframe tbody tr th:only-of-type {\n",
              "        vertical-align: middle;\n",
              "    }\n",
              "\n",
              "    .dataframe tbody tr th {\n",
              "        vertical-align: top;\n",
              "    }\n",
              "\n",
              "    .dataframe thead th {\n",
              "        text-align: right;\n",
              "    }\n",
              "</style>\n",
              "<table border=\"1\" class=\"dataframe\">\n",
              "  <thead>\n",
              "    <tr style=\"text-align: right;\">\n",
              "      <th></th>\n",
              "      <th>clientId</th>\n",
              "      <th>name</th>\n",
              "      <th>phone</th>\n",
              "      <th>companyId</th>\n",
              "    </tr>\n",
              "  </thead>\n",
              "  <tbody>\n",
              "    <tr>\n",
              "      <th>0</th>\n",
              "      <td>1</td>\n",
              "      <td>Hersch Szymanowicz</td>\n",
              "      <td>+237 (561) 702-4118</td>\n",
              "      <td>3</td>\n",
              "    </tr>\n",
              "    <tr>\n",
              "      <th>1</th>\n",
              "      <td>2</td>\n",
              "      <td>Gaven Brito</td>\n",
              "      <td>+51 (870) 799-1508</td>\n",
              "      <td>7</td>\n",
              "    </tr>\n",
              "    <tr>\n",
              "      <th>2</th>\n",
              "      <td>3</td>\n",
              "      <td>Maressa Pavlishchev</td>\n",
              "      <td>+62 (350) 377-8621</td>\n",
              "      <td>4</td>\n",
              "    </tr>\n",
              "    <tr>\n",
              "      <th>3</th>\n",
              "      <td>4</td>\n",
              "      <td>Corine Dunseith</td>\n",
              "      <td>+63 (797) 344-2571</td>\n",
              "      <td>8</td>\n",
              "    </tr>\n",
              "    <tr>\n",
              "      <th>4</th>\n",
              "      <td>5</td>\n",
              "      <td>Ramon Lawrence</td>\n",
              "      <td>+66 (557) 865-3845</td>\n",
              "      <td>6</td>\n",
              "    </tr>\n",
              "    <tr>\n",
              "      <th>5</th>\n",
              "      <td>6</td>\n",
              "      <td>Ibbie Whitehouse</td>\n",
              "      <td>+98 (495) 896-6408</td>\n",
              "      <td>1</td>\n",
              "    </tr>\n",
              "    <tr>\n",
              "      <th>6</th>\n",
              "      <td>7</td>\n",
              "      <td>Neils Capelen</td>\n",
              "      <td>+86 (361) 914-8734</td>\n",
              "      <td>6</td>\n",
              "    </tr>\n",
              "    <tr>\n",
              "      <th>7</th>\n",
              "      <td>8</td>\n",
              "      <td>Thia Malkie</td>\n",
              "      <td>+46 (564) 145-8997</td>\n",
              "      <td>4</td>\n",
              "    </tr>\n",
              "    <tr>\n",
              "      <th>8</th>\n",
              "      <td>9</td>\n",
              "      <td>Missy Folomkin</td>\n",
              "      <td>+33 (962) 798-0776</td>\n",
              "      <td>7</td>\n",
              "    </tr>\n",
              "    <tr>\n",
              "      <th>9</th>\n",
              "      <td>10</td>\n",
              "      <td>Eleanor Gallamore</td>\n",
              "      <td>+86 (366) 702-2334</td>\n",
              "      <td>5</td>\n",
              "    </tr>\n",
              "    <tr>\n",
              "      <th>10</th>\n",
              "      <td>7</td>\n",
              "      <td>Neils Capelen</td>\n",
              "      <td>+86 (361) 914-8734</td>\n",
              "      <td>6</td>\n",
              "    </tr>\n",
              "    <tr>\n",
              "      <th>11</th>\n",
              "      <td>4</td>\n",
              "      <td>Corine Dunseith</td>\n",
              "      <td>+63 (797) 344-2571</td>\n",
              "      <td>8</td>\n",
              "    </tr>\n",
              "    <tr>\n",
              "      <th>12</th>\n",
              "      <td>2</td>\n",
              "      <td>Gaven Brito</td>\n",
              "      <td>+51 (870) 799-2308</td>\n",
              "      <td>2</td>\n",
              "    </tr>\n",
              "    <tr>\n",
              "      <th>13</th>\n",
              "      <td>5</td>\n",
              "      <td>Ramon Lawrence</td>\n",
              "      <td>+66 (557) 061-3844</td>\n",
              "      <td>5</td>\n",
              "    </tr>\n",
              "    <tr>\n",
              "      <th>14</th>\n",
              "      <td>4</td>\n",
              "      <td>Corine Dunseith</td>\n",
              "      <td>+63 (797) 344-2571</td>\n",
              "      <td>8</td>\n",
              "    </tr>\n",
              "  </tbody>\n",
              "</table>\n",
              "</div>"
            ],
            "text/plain": [
              "    clientId                 name                phone  companyId\n",
              "0          1   Hersch Szymanowicz  +237 (561) 702-4118          3\n",
              "1          2          Gaven Brito   +51 (870) 799-1508          7\n",
              "2          3  Maressa Pavlishchev   +62 (350) 377-8621          4\n",
              "3          4      Corine Dunseith   +63 (797) 344-2571          8\n",
              "4          5       Ramon Lawrence   +66 (557) 865-3845          6\n",
              "5          6     Ibbie Whitehouse   +98 (495) 896-6408          1\n",
              "6          7        Neils Capelen   +86 (361) 914-8734          6\n",
              "7          8          Thia Malkie   +46 (564) 145-8997          4\n",
              "8          9       Missy Folomkin   +33 (962) 798-0776          7\n",
              "9         10    Eleanor Gallamore   +86 (366) 702-2334          5\n",
              "10         7        Neils Capelen   +86 (361) 914-8734          6\n",
              "11         4      Corine Dunseith   +63 (797) 344-2571          8\n",
              "12         2          Gaven Brito   +51 (870) 799-2308          2\n",
              "13         5       Ramon Lawrence   +66 (557) 061-3844          5\n",
              "14         4      Corine Dunseith   +63 (797) 344-2571          8"
            ]
          },
          "metadata": {},
          "output_type": "display_data"
        },
        {
          "data": {
            "text/plain": [
              "clientId      int64\n",
              "name         object\n",
              "phone        object\n",
              "companyId     int64\n",
              "dtype: object"
            ]
          },
          "metadata": {},
          "output_type": "display_data"
        }
      ],
      "source": [
        "df = pd.read_csv('/tmp/data.csv')\n",
        "\n",
        "display(\n",
        "    df,\n",
        "    df.dtypes\n",
        ")"
      ]
    },
    {
      "cell_type": "markdown",
      "source": [
        "## Registro completo"
      ],
      "metadata": {
        "id": "KeBHWDSR08Qa"
      },
      "id": "KeBHWDSR08Qa"
    },
    {
      "cell_type": "code",
      "execution_count": null,
      "id": "112364b7-0ebf-42e7-9802-152a131b11b4",
      "metadata": {
        "id": "112364b7-0ebf-42e7-9802-152a131b11b4",
        "outputId": "1bb631a1-9e42-416d-f2f5-997cc3433ab9"
      },
      "outputs": [
        {
          "data": {
            "text/plain": [
              "0     False\n",
              "1     False\n",
              "2     False\n",
              "3     False\n",
              "4     False\n",
              "5     False\n",
              "6     False\n",
              "7     False\n",
              "8     False\n",
              "9     False\n",
              "10     True\n",
              "11     True\n",
              "12    False\n",
              "13    False\n",
              "14     True\n",
              "dtype: bool"
            ]
          },
          "execution_count": 4,
          "metadata": {},
          "output_type": "execute_result"
        }
      ],
      "source": [
        "#\n",
        "# La función duplicaated() indica si el registro\n",
        "# completo está duplicado.\n",
        "#\n",
        "df.duplicated()"
      ]
    },
    {
      "cell_type": "code",
      "execution_count": null,
      "id": "957abf0c-66e3-4180-af1e-57f3aa62fb04",
      "metadata": {
        "id": "957abf0c-66e3-4180-af1e-57f3aa62fb04",
        "outputId": "f2c48ec0-ada8-4ee8-c17d-7185489824cd"
      },
      "outputs": [
        {
          "data": {
            "text/html": [
              "<div>\n",
              "<style scoped>\n",
              "    .dataframe tbody tr th:only-of-type {\n",
              "        vertical-align: middle;\n",
              "    }\n",
              "\n",
              "    .dataframe tbody tr th {\n",
              "        vertical-align: top;\n",
              "    }\n",
              "\n",
              "    .dataframe thead th {\n",
              "        text-align: right;\n",
              "    }\n",
              "</style>\n",
              "<table border=\"1\" class=\"dataframe\">\n",
              "  <thead>\n",
              "    <tr style=\"text-align: right;\">\n",
              "      <th></th>\n",
              "      <th>clientId</th>\n",
              "      <th>name</th>\n",
              "      <th>phone</th>\n",
              "      <th>companyId</th>\n",
              "    </tr>\n",
              "  </thead>\n",
              "  <tbody>\n",
              "    <tr>\n",
              "      <th>10</th>\n",
              "      <td>7</td>\n",
              "      <td>Neils Capelen</td>\n",
              "      <td>+86 (361) 914-8734</td>\n",
              "      <td>6</td>\n",
              "    </tr>\n",
              "    <tr>\n",
              "      <th>11</th>\n",
              "      <td>4</td>\n",
              "      <td>Corine Dunseith</td>\n",
              "      <td>+63 (797) 344-2571</td>\n",
              "      <td>8</td>\n",
              "    </tr>\n",
              "    <tr>\n",
              "      <th>14</th>\n",
              "      <td>4</td>\n",
              "      <td>Corine Dunseith</td>\n",
              "      <td>+63 (797) 344-2571</td>\n",
              "      <td>8</td>\n",
              "    </tr>\n",
              "  </tbody>\n",
              "</table>\n",
              "</div>"
            ],
            "text/plain": [
              "    clientId             name               phone  companyId\n",
              "10         7    Neils Capelen  +86 (361) 914-8734          6\n",
              "11         4  Corine Dunseith  +63 (797) 344-2571          8\n",
              "14         4  Corine Dunseith  +63 (797) 344-2571          8"
            ]
          },
          "execution_count": 5,
          "metadata": {},
          "output_type": "execute_result"
        }
      ],
      "source": [
        "#\n",
        "# Visualización de los registros duplicados\n",
        "#\n",
        "df[df.duplicated(keep='first')]"
      ]
    },
    {
      "cell_type": "code",
      "execution_count": null,
      "id": "ed525d86-8638-4b4a-b466-6f09006147ca",
      "metadata": {
        "id": "ed525d86-8638-4b4a-b466-6f09006147ca",
        "outputId": "778e8450-4839-4b2c-f845-9190329a7d27"
      },
      "outputs": [
        {
          "data": {
            "text/html": [
              "<div>\n",
              "<style scoped>\n",
              "    .dataframe tbody tr th:only-of-type {\n",
              "        vertical-align: middle;\n",
              "    }\n",
              "\n",
              "    .dataframe tbody tr th {\n",
              "        vertical-align: top;\n",
              "    }\n",
              "\n",
              "    .dataframe thead th {\n",
              "        text-align: right;\n",
              "    }\n",
              "</style>\n",
              "<table border=\"1\" class=\"dataframe\">\n",
              "  <thead>\n",
              "    <tr style=\"text-align: right;\">\n",
              "      <th></th>\n",
              "      <th>clientId</th>\n",
              "      <th>name</th>\n",
              "      <th>phone</th>\n",
              "      <th>companyId</th>\n",
              "    </tr>\n",
              "  </thead>\n",
              "  <tbody>\n",
              "    <tr>\n",
              "      <th>3</th>\n",
              "      <td>4</td>\n",
              "      <td>Corine Dunseith</td>\n",
              "      <td>+63 (797) 344-2571</td>\n",
              "      <td>8</td>\n",
              "    </tr>\n",
              "    <tr>\n",
              "      <th>6</th>\n",
              "      <td>7</td>\n",
              "      <td>Neils Capelen</td>\n",
              "      <td>+86 (361) 914-8734</td>\n",
              "      <td>6</td>\n",
              "    </tr>\n",
              "    <tr>\n",
              "      <th>11</th>\n",
              "      <td>4</td>\n",
              "      <td>Corine Dunseith</td>\n",
              "      <td>+63 (797) 344-2571</td>\n",
              "      <td>8</td>\n",
              "    </tr>\n",
              "  </tbody>\n",
              "</table>\n",
              "</div>"
            ],
            "text/plain": [
              "    clientId             name               phone  companyId\n",
              "3          4  Corine Dunseith  +63 (797) 344-2571          8\n",
              "6          7    Neils Capelen  +86 (361) 914-8734          6\n",
              "11         4  Corine Dunseith  +63 (797) 344-2571          8"
            ]
          },
          "execution_count": 6,
          "metadata": {},
          "output_type": "execute_result"
        }
      ],
      "source": [
        "#\n",
        "# Visualización de los registros duplicados\n",
        "#\n",
        "df[df.duplicated(keep='last')]"
      ]
    },
    {
      "cell_type": "markdown",
      "source": [
        "## Algunos campos"
      ],
      "metadata": {
        "id": "6n05yX3m0_mB"
      },
      "id": "6n05yX3m0_mB"
    },
    {
      "cell_type": "code",
      "execution_count": null,
      "id": "5af8c805-8012-4a37-8ed2-1255d8e4a2ab",
      "metadata": {
        "id": "5af8c805-8012-4a37-8ed2-1255d8e4a2ab",
        "outputId": "1e04fa52-78f5-4746-804b-5944a03b1160"
      },
      "outputs": [
        {
          "data": {
            "text/html": [
              "<div>\n",
              "<style scoped>\n",
              "    .dataframe tbody tr th:only-of-type {\n",
              "        vertical-align: middle;\n",
              "    }\n",
              "\n",
              "    .dataframe tbody tr th {\n",
              "        vertical-align: top;\n",
              "    }\n",
              "\n",
              "    .dataframe thead th {\n",
              "        text-align: right;\n",
              "    }\n",
              "</style>\n",
              "<table border=\"1\" class=\"dataframe\">\n",
              "  <thead>\n",
              "    <tr style=\"text-align: right;\">\n",
              "      <th></th>\n",
              "      <th>clientId</th>\n",
              "      <th>name</th>\n",
              "      <th>phone</th>\n",
              "      <th>companyId</th>\n",
              "    </tr>\n",
              "  </thead>\n",
              "  <tbody>\n",
              "    <tr>\n",
              "      <th>1</th>\n",
              "      <td>2</td>\n",
              "      <td>Gaven Brito</td>\n",
              "      <td>+51 (870) 799-1508</td>\n",
              "      <td>7</td>\n",
              "    </tr>\n",
              "    <tr>\n",
              "      <th>3</th>\n",
              "      <td>4</td>\n",
              "      <td>Corine Dunseith</td>\n",
              "      <td>+63 (797) 344-2571</td>\n",
              "      <td>8</td>\n",
              "    </tr>\n",
              "    <tr>\n",
              "      <th>4</th>\n",
              "      <td>5</td>\n",
              "      <td>Ramon Lawrence</td>\n",
              "      <td>+66 (557) 865-3845</td>\n",
              "      <td>6</td>\n",
              "    </tr>\n",
              "    <tr>\n",
              "      <th>6</th>\n",
              "      <td>7</td>\n",
              "      <td>Neils Capelen</td>\n",
              "      <td>+86 (361) 914-8734</td>\n",
              "      <td>6</td>\n",
              "    </tr>\n",
              "    <tr>\n",
              "      <th>11</th>\n",
              "      <td>4</td>\n",
              "      <td>Corine Dunseith</td>\n",
              "      <td>+63 (797) 344-2571</td>\n",
              "      <td>8</td>\n",
              "    </tr>\n",
              "  </tbody>\n",
              "</table>\n",
              "</div>"
            ],
            "text/plain": [
              "    clientId             name               phone  companyId\n",
              "1          2      Gaven Brito  +51 (870) 799-1508          7\n",
              "3          4  Corine Dunseith  +63 (797) 344-2571          8\n",
              "4          5   Ramon Lawrence  +66 (557) 865-3845          6\n",
              "6          7    Neils Capelen  +86 (361) 914-8734          6\n",
              "11         4  Corine Dunseith  +63 (797) 344-2571          8"
            ]
          },
          "execution_count": 7,
          "metadata": {},
          "output_type": "execute_result"
        }
      ],
      "source": [
        "#\n",
        "# Visualización de los registros duplicados\n",
        "#\n",
        "df[\n",
        "    df.duplicated(\n",
        "        subset=[\"clientId\", \"name\"],\n",
        "        keep=\"last\",\n",
        "    )\n",
        "]"
      ]
    },
    {
      "cell_type": "code",
      "execution_count": null,
      "id": "30ea6a07-4b86-4eb6-b59c-48294c5f471b",
      "metadata": {
        "id": "30ea6a07-4b86-4eb6-b59c-48294c5f471b",
        "outputId": "cb9d35e4-f5a2-4397-eb23-27761bddb65c"
      },
      "outputs": [
        {
          "data": {
            "text/html": [
              "<div>\n",
              "<style scoped>\n",
              "    .dataframe tbody tr th:only-of-type {\n",
              "        vertical-align: middle;\n",
              "    }\n",
              "\n",
              "    .dataframe tbody tr th {\n",
              "        vertical-align: top;\n",
              "    }\n",
              "\n",
              "    .dataframe thead th {\n",
              "        text-align: right;\n",
              "    }\n",
              "</style>\n",
              "<table border=\"1\" class=\"dataframe\">\n",
              "  <thead>\n",
              "    <tr style=\"text-align: right;\">\n",
              "      <th></th>\n",
              "      <th>clientId</th>\n",
              "      <th>name</th>\n",
              "      <th>phone</th>\n",
              "      <th>companyId</th>\n",
              "    </tr>\n",
              "  </thead>\n",
              "  <tbody>\n",
              "    <tr>\n",
              "      <th>1</th>\n",
              "      <td>2</td>\n",
              "      <td>Gaven Brito</td>\n",
              "      <td>+51 (870) 799-1508</td>\n",
              "      <td>7</td>\n",
              "    </tr>\n",
              "    <tr>\n",
              "      <th>12</th>\n",
              "      <td>2</td>\n",
              "      <td>Gaven Brito</td>\n",
              "      <td>+51 (870) 799-2308</td>\n",
              "      <td>2</td>\n",
              "    </tr>\n",
              "    <tr>\n",
              "      <th>3</th>\n",
              "      <td>4</td>\n",
              "      <td>Corine Dunseith</td>\n",
              "      <td>+63 (797) 344-2571</td>\n",
              "      <td>8</td>\n",
              "    </tr>\n",
              "    <tr>\n",
              "      <th>11</th>\n",
              "      <td>4</td>\n",
              "      <td>Corine Dunseith</td>\n",
              "      <td>+63 (797) 344-2571</td>\n",
              "      <td>8</td>\n",
              "    </tr>\n",
              "    <tr>\n",
              "      <th>14</th>\n",
              "      <td>4</td>\n",
              "      <td>Corine Dunseith</td>\n",
              "      <td>+63 (797) 344-2571</td>\n",
              "      <td>8</td>\n",
              "    </tr>\n",
              "    <tr>\n",
              "      <th>4</th>\n",
              "      <td>5</td>\n",
              "      <td>Ramon Lawrence</td>\n",
              "      <td>+66 (557) 865-3845</td>\n",
              "      <td>6</td>\n",
              "    </tr>\n",
              "    <tr>\n",
              "      <th>13</th>\n",
              "      <td>5</td>\n",
              "      <td>Ramon Lawrence</td>\n",
              "      <td>+66 (557) 061-3844</td>\n",
              "      <td>5</td>\n",
              "    </tr>\n",
              "    <tr>\n",
              "      <th>6</th>\n",
              "      <td>7</td>\n",
              "      <td>Neils Capelen</td>\n",
              "      <td>+86 (361) 914-8734</td>\n",
              "      <td>6</td>\n",
              "    </tr>\n",
              "    <tr>\n",
              "      <th>10</th>\n",
              "      <td>7</td>\n",
              "      <td>Neils Capelen</td>\n",
              "      <td>+86 (361) 914-8734</td>\n",
              "      <td>6</td>\n",
              "    </tr>\n",
              "  </tbody>\n",
              "</table>\n",
              "</div>"
            ],
            "text/plain": [
              "    clientId             name               phone  companyId\n",
              "1          2      Gaven Brito  +51 (870) 799-1508          7\n",
              "12         2      Gaven Brito  +51 (870) 799-2308          2\n",
              "3          4  Corine Dunseith  +63 (797) 344-2571          8\n",
              "11         4  Corine Dunseith  +63 (797) 344-2571          8\n",
              "14         4  Corine Dunseith  +63 (797) 344-2571          8\n",
              "4          5   Ramon Lawrence  +66 (557) 865-3845          6\n",
              "13         5   Ramon Lawrence  +66 (557) 061-3844          5\n",
              "6          7    Neils Capelen  +86 (361) 914-8734          6\n",
              "10         7    Neils Capelen  +86 (361) 914-8734          6"
            ]
          },
          "execution_count": 8,
          "metadata": {},
          "output_type": "execute_result"
        }
      ],
      "source": [
        "#\n",
        "# Visualización de los registros duplicados\n",
        "#\n",
        "df[\n",
        "    df.duplicated(\n",
        "        subset=[\"clientId\", \"name\"],\n",
        "        keep=False,\n",
        "    )\n",
        "].sort_values(by=['clientId', 'name'])"
      ]
    },
    {
      "cell_type": "markdown",
      "source": [
        "## Borrado (Completamente duplicado)"
      ],
      "metadata": {
        "id": "WIQD-a6s1b49"
      },
      "id": "WIQD-a6s1b49"
    },
    {
      "cell_type": "code",
      "execution_count": null,
      "id": "54f51e1a-fb0b-49f9-8b36-735b31123685",
      "metadata": {
        "id": "54f51e1a-fb0b-49f9-8b36-735b31123685",
        "outputId": "28aa0084-5241-49a9-e939-be3ede75716b"
      },
      "outputs": [
        {
          "data": {
            "text/html": [
              "<div>\n",
              "<style scoped>\n",
              "    .dataframe tbody tr th:only-of-type {\n",
              "        vertical-align: middle;\n",
              "    }\n",
              "\n",
              "    .dataframe tbody tr th {\n",
              "        vertical-align: top;\n",
              "    }\n",
              "\n",
              "    .dataframe thead th {\n",
              "        text-align: right;\n",
              "    }\n",
              "</style>\n",
              "<table border=\"1\" class=\"dataframe\">\n",
              "  <thead>\n",
              "    <tr style=\"text-align: right;\">\n",
              "      <th></th>\n",
              "      <th>clientId</th>\n",
              "      <th>name</th>\n",
              "      <th>phone</th>\n",
              "      <th>companyId</th>\n",
              "    </tr>\n",
              "  </thead>\n",
              "  <tbody>\n",
              "    <tr>\n",
              "      <th>10</th>\n",
              "      <td>7</td>\n",
              "      <td>Neils Capelen</td>\n",
              "      <td>+86 (361) 914-8734</td>\n",
              "      <td>6</td>\n",
              "    </tr>\n",
              "    <tr>\n",
              "      <th>11</th>\n",
              "      <td>4</td>\n",
              "      <td>Corine Dunseith</td>\n",
              "      <td>+63 (797) 344-2571</td>\n",
              "      <td>8</td>\n",
              "    </tr>\n",
              "    <tr>\n",
              "      <th>14</th>\n",
              "      <td>4</td>\n",
              "      <td>Corine Dunseith</td>\n",
              "      <td>+63 (797) 344-2571</td>\n",
              "      <td>8</td>\n",
              "    </tr>\n",
              "  </tbody>\n",
              "</table>\n",
              "</div>"
            ],
            "text/plain": [
              "    clientId             name               phone  companyId\n",
              "10         7    Neils Capelen  +86 (361) 914-8734          6\n",
              "11         4  Corine Dunseith  +63 (797) 344-2571          8\n",
              "14         4  Corine Dunseith  +63 (797) 344-2571          8"
            ]
          },
          "execution_count": 9,
          "metadata": {},
          "output_type": "execute_result"
        }
      ],
      "source": [
        "#\n",
        "# Borrado de registros duplicados\n",
        "#\n",
        "df[df.duplicated()]"
      ]
    },
    {
      "cell_type": "code",
      "execution_count": null,
      "id": "f1e25ff4-7a18-4b58-8afd-1f3097202022",
      "metadata": {
        "id": "f1e25ff4-7a18-4b58-8afd-1f3097202022",
        "outputId": "7a2911f6-431e-4d1d-d448-d6b959be9512"
      },
      "outputs": [
        {
          "data": {
            "text/html": [
              "<div>\n",
              "<style scoped>\n",
              "    .dataframe tbody tr th:only-of-type {\n",
              "        vertical-align: middle;\n",
              "    }\n",
              "\n",
              "    .dataframe tbody tr th {\n",
              "        vertical-align: top;\n",
              "    }\n",
              "\n",
              "    .dataframe thead th {\n",
              "        text-align: right;\n",
              "    }\n",
              "</style>\n",
              "<table border=\"1\" class=\"dataframe\">\n",
              "  <thead>\n",
              "    <tr style=\"text-align: right;\">\n",
              "      <th></th>\n",
              "      <th>clientId</th>\n",
              "      <th>name</th>\n",
              "      <th>phone</th>\n",
              "      <th>companyId</th>\n",
              "    </tr>\n",
              "  </thead>\n",
              "  <tbody>\n",
              "    <tr>\n",
              "      <th>0</th>\n",
              "      <td>1</td>\n",
              "      <td>Hersch Szymanowicz</td>\n",
              "      <td>+237 (561) 702-4118</td>\n",
              "      <td>3</td>\n",
              "    </tr>\n",
              "    <tr>\n",
              "      <th>1</th>\n",
              "      <td>2</td>\n",
              "      <td>Gaven Brito</td>\n",
              "      <td>+51 (870) 799-1508</td>\n",
              "      <td>7</td>\n",
              "    </tr>\n",
              "    <tr>\n",
              "      <th>2</th>\n",
              "      <td>3</td>\n",
              "      <td>Maressa Pavlishchev</td>\n",
              "      <td>+62 (350) 377-8621</td>\n",
              "      <td>4</td>\n",
              "    </tr>\n",
              "    <tr>\n",
              "      <th>3</th>\n",
              "      <td>4</td>\n",
              "      <td>Corine Dunseith</td>\n",
              "      <td>+63 (797) 344-2571</td>\n",
              "      <td>8</td>\n",
              "    </tr>\n",
              "    <tr>\n",
              "      <th>4</th>\n",
              "      <td>5</td>\n",
              "      <td>Ramon Lawrence</td>\n",
              "      <td>+66 (557) 865-3845</td>\n",
              "      <td>6</td>\n",
              "    </tr>\n",
              "    <tr>\n",
              "      <th>5</th>\n",
              "      <td>6</td>\n",
              "      <td>Ibbie Whitehouse</td>\n",
              "      <td>+98 (495) 896-6408</td>\n",
              "      <td>1</td>\n",
              "    </tr>\n",
              "    <tr>\n",
              "      <th>6</th>\n",
              "      <td>7</td>\n",
              "      <td>Neils Capelen</td>\n",
              "      <td>+86 (361) 914-8734</td>\n",
              "      <td>6</td>\n",
              "    </tr>\n",
              "    <tr>\n",
              "      <th>7</th>\n",
              "      <td>8</td>\n",
              "      <td>Thia Malkie</td>\n",
              "      <td>+46 (564) 145-8997</td>\n",
              "      <td>4</td>\n",
              "    </tr>\n",
              "    <tr>\n",
              "      <th>8</th>\n",
              "      <td>9</td>\n",
              "      <td>Missy Folomkin</td>\n",
              "      <td>+33 (962) 798-0776</td>\n",
              "      <td>7</td>\n",
              "    </tr>\n",
              "    <tr>\n",
              "      <th>9</th>\n",
              "      <td>10</td>\n",
              "      <td>Eleanor Gallamore</td>\n",
              "      <td>+86 (366) 702-2334</td>\n",
              "      <td>5</td>\n",
              "    </tr>\n",
              "    <tr>\n",
              "      <th>12</th>\n",
              "      <td>2</td>\n",
              "      <td>Gaven Brito</td>\n",
              "      <td>+51 (870) 799-2308</td>\n",
              "      <td>2</td>\n",
              "    </tr>\n",
              "    <tr>\n",
              "      <th>13</th>\n",
              "      <td>5</td>\n",
              "      <td>Ramon Lawrence</td>\n",
              "      <td>+66 (557) 061-3844</td>\n",
              "      <td>5</td>\n",
              "    </tr>\n",
              "  </tbody>\n",
              "</table>\n",
              "</div>"
            ],
            "text/plain": [
              "    clientId                 name                phone  companyId\n",
              "0          1   Hersch Szymanowicz  +237 (561) 702-4118          3\n",
              "1          2          Gaven Brito   +51 (870) 799-1508          7\n",
              "2          3  Maressa Pavlishchev   +62 (350) 377-8621          4\n",
              "3          4      Corine Dunseith   +63 (797) 344-2571          8\n",
              "4          5       Ramon Lawrence   +66 (557) 865-3845          6\n",
              "5          6     Ibbie Whitehouse   +98 (495) 896-6408          1\n",
              "6          7        Neils Capelen   +86 (361) 914-8734          6\n",
              "7          8          Thia Malkie   +46 (564) 145-8997          4\n",
              "8          9       Missy Folomkin   +33 (962) 798-0776          7\n",
              "9         10    Eleanor Gallamore   +86 (366) 702-2334          5\n",
              "12         2          Gaven Brito   +51 (870) 799-2308          2\n",
              "13         5       Ramon Lawrence   +66 (557) 061-3844          5"
            ]
          },
          "execution_count": 10,
          "metadata": {},
          "output_type": "execute_result"
        }
      ],
      "source": [
        "df.drop_duplicates(inplace=True)\n",
        "df"
      ]
    }
  ],
  "metadata": {
    "kernelspec": {
      "display_name": "Python 3 (ipykernel)",
      "language": "python",
      "name": "python3"
    },
    "language_info": {
      "codemirror_mode": {
        "name": "ipython",
        "version": 3
      },
      "file_extension": ".py",
      "mimetype": "text/x-python",
      "name": "python",
      "nbconvert_exporter": "python",
      "pygments_lexer": "ipython3",
      "version": "3.8.10"
    },
    "vscode": {
      "interpreter": {
        "hash": "2482a4565599eda3cd2db35331af39775c1f78a505a9deef48c721423040da5b"
      }
    },
    "colab": {
      "provenance": []
    }
  },
  "nbformat": 4,
  "nbformat_minor": 5
}