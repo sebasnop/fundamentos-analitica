{
  "cells": [
    {
      "cell_type": "markdown",
      "id": "9fcc3315-f583-477d-944d-fa21fbabed49",
      "metadata": {
        "id": "9fcc3315-f583-477d-944d-fa21fbabed49"
      },
      "source": [
        "Ejemplo: Función pcolormesh()\n",
        "==="
      ]
    },
    {
      "cell_type": "markdown",
      "source": [
        "La función `pcolormesh()` de la librería `matplotlib.pyplot` se utiliza para crear un gráfico de malla de colores (pseudocolor) a partir de una matriz bidimensional.\n",
        "\n",
        "La sintaxis básica de `pcolormesh()` es la siguiente:\n",
        "\n",
        "```python\n",
        "matplotlib.pyplot.pcolormesh(X, Y, C, **kwargs)\n",
        "```\n",
        "\n",
        "Los parámetros principales son:\n",
        "\n",
        "- `X`: Una matriz 2D o 1D que representa las coordenadas x de los puntos de la malla.\n",
        "- `Y`: Una matriz 2D o 1D que representa las coordenadas y de los puntos de la malla.\n",
        "- `C`: Una matriz 2D que contiene los valores de color asociados a cada punto de la malla.\n",
        "\n",
        "Opcionalmente, puedes pasar otros argumentos (`**kwargs`) para personalizar el gráfico, como el mapa de colores, la interpolación, las etiquetas de los ejes, entre otros.\n",
        "\n",
        "La función `pcolormesh()` dibuja un gráfico de malla de colores utilizando los valores de `C` para asignar colores a cada celda de la malla definida por `X` y `Y`. Cada celda de la malla se rellena con un color correspondiente al valor en la posición correspondiente de `C`. Los valores de `C` se interpolan entre las celdas vecinas para crear una representación continua de colores en el gráfico."
      ],
      "metadata": {
        "id": "d1oLU68v9Dih"
      },
      "id": "d1oLU68v9Dih"
    },
    {
      "cell_type": "markdown",
      "source": [
        "## Resumen\n",
        "\n",
        "`pcolormesh()` se utiliza para visualizar datos bidimensionales como una malla de colores, donde cada color representa un valor específico en la matriz de datos."
      ],
      "metadata": {
        "id": "X8cLfeGs9Sio"
      },
      "id": "X8cLfeGs9Sio"
    },
    {
      "cell_type": "code",
      "execution_count": 1,
      "id": "5f8990a3-70eb-4259-92d0-e024fdb42872",
      "metadata": {
        "id": "5f8990a3-70eb-4259-92d0-e024fdb42872"
      },
      "outputs": [],
      "source": [
        "import matplotlib.pyplot as plt\n",
        "import numpy as np"
      ]
    },
    {
      "cell_type": "code",
      "execution_count": 4,
      "id": "4c478a4a-78ac-4cb0-878e-1fde70f0dfec",
      "metadata": {
        "colab": {
          "base_uri": "https://localhost:8080/",
          "height": 430
        },
        "id": "4c478a4a-78ac-4cb0-878e-1fde70f0dfec",
        "outputId": "4cabe6d1-d85d-4d3b-bb8d-e71e256cafa2"
      },
      "outputs": [
        {
          "output_type": "display_data",
          "data": {
            "text/plain": [
              "<Figure size 640x480 with 1 Axes>"
            ],
            "image/png": "[encoded data removed]"
          },
          "metadata": {}
        }
      ],
      "source": [
        "#\n",
        "# Figura básica\n",
        "#\n",
        "np.random.seed(19680801)\n",
        "Z = np.random.rand(6, 10)\n",
        "x = np.arange(-0.5, 10, 1)  # len = 11\n",
        "y = np.arange(4.5, 11, 1)  # len = 7\n",
        "\n",
        "fig, ax = plt.subplots()\n",
        "ax.pcolormesh(x, y, Z)\n",
        "plt.show()"
      ]
    }
  ],
  "metadata": {
    "kernelspec": {
      "display_name": "Python 3.8.9 64-bit",
      "language": "python",
      "name": "python3"
    },
    "language_info": {
      "codemirror_mode": {
        "name": "ipython",
        "version": 3
      },
      "file_extension": ".py",
      "mimetype": "text/x-python",
      "name": "python",
      "nbconvert_exporter": "python",
      "pygments_lexer": "ipython3",
      "version": "3.8.9"
    },
    "vscode": {
      "interpreter": {
        "hash": "31f2aee4e71d21fbe5cf8b01ff0e069b9275f58929596ceb00d14d90e3e16cd6"
      }
    },
    "colab": {
      "provenance": []
    }
  },
  "nbformat": 4,
  "nbformat_minor": 5
}