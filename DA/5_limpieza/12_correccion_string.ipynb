{
  "cells": [
    {
      "cell_type": "markdown",
      "id": "024c2a6f-c81f-4f67-a0ef-411d508c22c3",
      "metadata": {
        "tags": [],
        "id": "024c2a6f-c81f-4f67-a0ef-411d508c22c3"
      },
      "source": [
        "Corrección de cadenas de texto\n",
        "===\n",
        "\n",
        "* Ultima actualización: Marzo 6, 2023 | [YouTube](https://www.youtube.com/watch?v=4DzusT3Nl-Q&list=PLEFpZ3YehTnDX6z1fx4rT0wkt80ythBhc&index=12)"
      ]
    },
    {
      "cell_type": "code",
      "execution_count": 2,
      "id": "9c1e3856-f524-4e66-8db7-beef6f9aa931",
      "metadata": {
        "id": "9c1e3856-f524-4e66-8db7-beef6f9aa931"
      },
      "outputs": [],
      "source": [
        "!pip3 install --quiet fuzzywuzzy\n",
        "!pip3 install --quiet fuzzywuzzy python-Levenshtein"
      ]
    },
    {
      "cell_type": "code",
      "execution_count": 3,
      "id": "b839d6cd-baaa-4209-87f1-7da540970d40",
      "metadata": {
        "colab": {
          "base_uri": "https://localhost:8080/",
          "height": 37
        },
        "id": "b839d6cd-baaa-4209-87f1-7da540970d40",
        "outputId": "7028999f-2f22-494b-c2fc-d31bad552990"
      },
      "outputs": [
        {
          "output_type": "execute_result",
          "data": {
            "text/plain": [
              "'1.5.3'"
            ],
            "application/vnd.google.colaboratory.intrinsic+json": {
              "type": "string"
            }
          },
          "metadata": {},
          "execution_count": 3
        }
      ],
      "source": [
        "import pandas as pd\n",
        "\n",
        "pd.__version__"
      ]
    },
    {
      "cell_type": "markdown",
      "id": "7561eefd-6cb3-4fce-a40a-db715f5278c3",
      "metadata": {
        "id": "7561eefd-6cb3-4fce-a40a-db715f5278c3"
      },
      "source": [
        "Comparación de cadenas de texto\n",
        "---"
      ]
    },
    {
      "cell_type": "code",
      "execution_count": 4,
      "id": "d03592a5-6607-4f5e-8bec-5ef2ff7b9b72",
      "metadata": {
        "colab": {
          "base_uri": "https://localhost:8080/",
          "height": 86
        },
        "id": "d03592a5-6607-4f5e-8bec-5ef2ff7b9b72",
        "outputId": "b62f4a32-c43c-4e15-b846-e51eaddadbc7"
      },
      "outputs": [
        {
          "output_type": "display_data",
          "data": {
            "text/plain": [
              "100"
            ]
          },
          "metadata": {}
        },
        {
          "output_type": "display_data",
          "data": {
            "text/plain": [
              "100"
            ]
          },
          "metadata": {}
        },
        {
          "output_type": "display_data",
          "data": {
            "text/plain": [
              "100"
            ]
          },
          "metadata": {}
        },
        {
          "output_type": "display_data",
          "data": {
            "text/plain": [
              "100"
            ]
          },
          "metadata": {}
        }
      ],
      "source": [
        "from fuzzywuzzy import fuzz, process\n",
        "\n",
        "#\n",
        "# Comparación de strings\n",
        "#\n",
        "display(\n",
        "    fuzz.WRatio(\"hola mundo\", \"hola mundo\"),\n",
        "    fuzz.WRatio(\"hola mundo\", \"Hola mundo\"),\n",
        "    fuzz.WRatio(\"hola mundo\", \"Hola Mundo\"),\n",
        "    fuzz.WRatio(\"hola mundo\", \"hola mundo!\"),\n",
        ")"
      ]
    },
    {
      "cell_type": "code",
      "execution_count": 5,
      "id": "0967bc95-b9f4-4761-84d8-e808b8ea19ab",
      "metadata": {
        "colab": {
          "base_uri": "https://localhost:8080/",
          "height": 138
        },
        "id": "0967bc95-b9f4-4761-84d8-e808b8ea19ab",
        "outputId": "6599e0d5-060d-4c33-d8ef-5305cd96b938"
      },
      "outputs": [
        {
          "output_type": "display_data",
          "data": {
            "text/plain": [
              "100"
            ]
          },
          "metadata": {}
        },
        {
          "output_type": "display_data",
          "data": {
            "text/plain": [
              "100"
            ]
          },
          "metadata": {}
        },
        {
          "output_type": "display_data",
          "data": {
            "text/plain": [
              "95"
            ]
          },
          "metadata": {}
        },
        {
          "output_type": "display_data",
          "data": {
            "text/plain": [
              "91"
            ]
          },
          "metadata": {}
        },
        {
          "output_type": "display_data",
          "data": {
            "text/plain": [
              "87"
            ]
          },
          "metadata": {}
        },
        {
          "output_type": "display_data",
          "data": {
            "text/plain": [
              "90"
            ]
          },
          "metadata": {}
        },
        {
          "output_type": "display_data",
          "data": {
            "text/plain": [
              "90"
            ]
          },
          "metadata": {}
        }
      ],
      "source": [
        "#\n",
        "# Comparación de strings\n",
        "#\n",
        "display(\n",
        "    fuzz.WRatio(\"hola mundo!\", \"hola mundo\"),\n",
        "    fuzz.WRatio(\"hola mundo\", \"Hola mundo!\"),\n",
        "    fuzz.WRatio(\"hola mundo\", \"Hola mundoo\"),\n",
        "    fuzz.WRatio(\"hola mundo\", \"hola mundooo\"),\n",
        "    fuzz.WRatio(\"hola mundo\", \"hola mundoooo\"),\n",
        "    fuzz.WRatio(\"hola mundo\", \"hola\"),\n",
        "    fuzz.WRatio(\"hola\", \"hola mundo\"),\n",
        ")"
      ]
    },
    {
      "cell_type": "code",
      "execution_count": 6,
      "id": "a48fb0f2-c84b-4c4f-a963-9011855c308b",
      "metadata": {
        "colab": {
          "base_uri": "https://localhost:8080/"
        },
        "id": "a48fb0f2-c84b-4c4f-a963-9011855c308b",
        "outputId": "96276a1e-eca5-43fc-c310-b41561558653"
      },
      "outputs": [
        {
          "output_type": "execute_result",
          "data": {
            "text/plain": [
              "[('Hola mundo', 100, 0),\n",
              " ('mundo', 90, 1),\n",
              " ('Hola', 90, 2),\n",
              " ('Hola mundo cruel!', 90, 3)]"
            ]
          },
          "metadata": {},
          "execution_count": 6
        }
      ],
      "source": [
        "#\n",
        "# Comparación con arrays\n",
        "#\n",
        "base_string = \"hola mundo\"\n",
        "array = pd.Series(\n",
        "    [\n",
        "        \"Hola mundo\",\n",
        "        \"mundo\",\n",
        "        \"Hola\",\n",
        "        \"Hola mundo cruel!\",\n",
        "    ]\n",
        ")\n",
        "\n",
        "\n",
        "process.extract(\n",
        "    base_string,\n",
        "    array,\n",
        ")"
      ]
    },
    {
      "cell_type": "markdown",
      "id": "d158958c-be9a-4990-b2eb-1e629cdd9677",
      "metadata": {
        "id": "d158958c-be9a-4990-b2eb-1e629cdd9677"
      },
      "source": [
        "Corrección y unificación básica cuando se conoce la clave\n",
        "----"
      ]
    },
    {
      "cell_type": "code",
      "execution_count": 7,
      "id": "f781e877-7ed0-46bf-b888-2627bb439783",
      "metadata": {
        "colab": {
          "base_uri": "https://localhost:8080/"
        },
        "id": "f781e877-7ed0-46bf-b888-2627bb439783",
        "outputId": "82e1ce54-7829-4267-c6a4-833b9717d427"
      },
      "outputs": [
        {
          "output_type": "stream",
          "name": "stdout",
          "text": [
            "Writing /tmp/data.csv\n"
          ]
        }
      ],
      "source": [
        "%%writefile /tmp/data.csv\n",
        "ciudad\n",
        "Medellin\n",
        "Bogota\n",
        "bogota\n",
        "bogote\n",
        "Mdellin\n",
        "medellin\n",
        "Cali\n",
        "cali\n",
        "CALI"
      ]
    },
    {
      "cell_type": "code",
      "execution_count": 8,
      "id": "cb38473d-8053-41bb-b12a-cdba8ac36ecf",
      "metadata": {
        "colab": {
          "base_uri": "https://localhost:8080/",
          "height": 331
        },
        "id": "cb38473d-8053-41bb-b12a-cdba8ac36ecf",
        "outputId": "ff5d4730-4b58-4de2-e493-6ac0b53f5212"
      },
      "outputs": [
        {
          "output_type": "execute_result",
          "data": {
            "text/plain": [
              "     ciudad\n",
              "0  Medellin\n",
              "1    Bogota\n",
              "2    bogota\n",
              "3    bogote\n",
              "4   Mdellin\n",
              "5  medellin\n",
              "6      Cali\n",
              "7      cali\n",
              "8      CALI"
            ],
            "text/html": [
              "\n",
              "  <div id=\"df-40266830-143c-4340-ba67-0f283d0338a8\">\n",
              "    <div class=\"colab-df-container\">\n",
              "      <div>\n",
              "<style scoped>\n",
              "    .dataframe tbody tr th:only-of-type {\n",
              "        vertical-align: middle;\n",
              "    }\n",
              "\n",
              "    .dataframe tbody tr th {\n",
              "        vertical-align: top;\n",
              "    }\n",
              "\n",
              "    .dataframe thead th {\n",
              "        text-align: right;\n",
              "    }\n",
              "</style>\n",
              "<table border=\"1\" class=\"dataframe\">\n",
              "  <thead>\n",
              "    <tr style=\"text-align: right;\">\n",
              "      <th></th>\n",
              "      <th>ciudad</th>\n",
              "    </tr>\n",
              "  </thead>\n",
              "  <tbody>\n",
              "    <tr>\n",
              "      <th>0</th>\n",
              "      <td>Medellin</td>\n",
              "    </tr>\n",
              "    <tr>\n",
              "      <th>1</th>\n",
              "      <td>Bogota</td>\n",
              "    </tr>\n",
              "    <tr>\n",
              "      <th>2</th>\n",
              "      <td>bogota</td>\n",
              "    </tr>\n",
              "    <tr>\n",
              "      <th>3</th>\n",
              "      <td>bogote</td>\n",
              "    </tr>\n",
              "    <tr>\n",
              "      <th>4</th>\n",
              "      <td>Mdellin</td>\n",
              "    </tr>\n",
              "    <tr>\n",
              "      <th>5</th>\n",
              "      <td>medellin</td>\n",
              "    </tr>\n",
              "    <tr>\n",
              "      <th>6</th>\n",
              "      <td>Cali</td>\n",
              "    </tr>\n",
              "    <tr>\n",
              "      <th>7</th>\n",
              "      <td>cali</td>\n",
              "    </tr>\n",
              "    <tr>\n",
              "      <th>8</th>\n",
              "      <td>CALI</td>\n",
              "    </tr>\n",
              "  </tbody>\n",
              "</table>\n",
              "</div>\n",
              "      <button class=\"colab-df-convert\" onclick=\"convertToInteractive('df-40266830-143c-4340-ba67-0f283d0338a8')\"\n",
              "              title=\"Convert this dataframe to an interactive table.\"\n",
              "              style=\"display:none;\">\n",
              "        \n",
              "  <svg xmlns=\"http://www.w3.org/2000/svg\" height=\"24px\"viewBox=\"0 0 24 24\"\n",
              "       width=\"24px\">\n",
              "    <path d=\"M0 0h24v24H0V0z\" fill=\"none\"/>\n",
              "    <path d=\"M18.56 5.44l.94 2.06.94-2.06 2.06-.94-2.06-.94-.94-2.06-.94 2.06-2.06.94zm-11 1L8.5 8.5l.94-2.06 2.06-.94-2.06-.94L8.5 2.5l-.94 2.06-2.06.94zm10 10l.94 2.06.94-2.06 2.06-.94-2.06-.94-.94-2.06-.94 2.06-2.06.94z\"/><path d=\"M17.41 7.96l-1.37-1.37c-.4-.4-.92-.59-1.43-.59-.52 0-1.04.2-1.43.59L10.3 9.45l-7.72 7.72c-.78.78-.78 2.05 0 2.83L4 21.41c.39.39.9.59 1.41.59.51 0 1.02-.2 1.41-.59l7.78-7.78 2.81-2.81c.8-.78.8-2.07 0-2.86zM5.41 20L4 18.59l7.72-7.72 1.47 1.35L5.41 20z\"/>\n",
              "  </svg>\n",
              "      </button>\n",
              "      \n",
              "  <style>\n",
              "    .colab-df-container {\n",
              "      display:flex;\n",
              "      flex-wrap:wrap;\n",
              "      gap: 12px;\n",
              "    }\n",
              "\n",
              "    .colab-df-convert {\n",
              "      background-color: #E8F0FE;\n",
              "      border: none;\n",
              "      border-radius: 50%;\n",
              "      cursor: pointer;\n",
              "      display: none;\n",
              "      fill: #1967D2;\n",
              "      height: 32px;\n",
              "      padding: 0 0 0 0;\n",
              "      width: 32px;\n",
              "    }\n",
              "\n",
              "    .colab-df-convert:hover {\n",
              "      background-color: #E2EBFA;\n",
              "      box-shadow: 0px 1px 2px rgba(60, 64, 67, 0.3), 0px 1px 3px 1px rgba(60, 64, 67, 0.15);\n",
              "      fill: #174EA6;\n",
              "    }\n",
              "\n",
              "    [theme=dark] .colab-df-convert {\n",
              "      background-color: #3B4455;\n",
              "      fill: #D2E3FC;\n",
              "    }\n",
              "\n",
              "    [theme=dark] .colab-df-convert:hover {\n",
              "      background-color: #434B5C;\n",
              "      box-shadow: 0px 1px 3px 1px rgba(0, 0, 0, 0.15);\n",
              "      filter: drop-shadow(0px 1px 2px rgba(0, 0, 0, 0.3));\n",
              "      fill: #FFFFFF;\n",
              "    }\n",
              "  </style>\n",
              "\n",
              "      <script>\n",
              "        const buttonEl =\n",
              "          document.querySelector('#df-40266830-143c-4340-ba67-0f283d0338a8 button.colab-df-convert');\n",
              "        buttonEl.style.display =\n",
              "          google.colab.kernel.accessAllowed ? 'block' : 'none';\n",
              "\n",
              "        async function convertToInteractive(key) {\n",
              "          const element = document.querySelector('#df-40266830-143c-4340-ba67-0f283d0338a8');\n",
              "          const dataTable =\n",
              "            await google.colab.kernel.invokeFunction('convertToInteractive',\n",
              "                                                     [key], {});\n",
              "          if (!dataTable) return;\n",
              "\n",
              "          const docLinkHtml = 'Like what you see? Visit the ' +\n",
              "            '<a target=\"_blank\" href=https://colab.research.google.com/notebooks/data_table.ipynb>data table notebook</a>'\n",
              "            + ' to learn more about interactive tables.';\n",
              "          element.innerHTML = '';\n",
              "          dataTable['output_type'] = 'display_data';\n",
              "          await google.colab.output.renderOutput(dataTable, element);\n",
              "          const docLink = document.createElement('div');\n",
              "          docLink.innerHTML = docLinkHtml;\n",
              "          element.appendChild(docLink);\n",
              "        }\n",
              "      </script>\n",
              "    </div>\n",
              "  </div>\n",
              "  "
            ]
          },
          "metadata": {},
          "execution_count": 8
        }
      ],
      "source": [
        "df = pd.read_csv(\"/tmp/data.csv\")\n",
        "df"
      ]
    },
    {
      "cell_type": "markdown",
      "source": [
        "El parámetro \"`limit`\" en la función `process.extract()` de la librería **FuzzyWuzzy** en Python define el número máximo de opciones que se deben devolver en la lista de resultados. Por defecto, este valor es 5, lo que significa que solo se devolverán las 5 mejores opciones clasificadas por su puntaje de similitud. Sin embargo, si se especifica un valor diferente para \"`limit`\", la función devolverá un número máximo de opciones igual a ese valor.\n",
        "\n",
        "Por ejemplo, si se llama a la función `process.extract()` con `limit=3`, la función devolverá una lista de hasta 3 opciones clasificadas por su puntaje de similitud en lugar de las 5 opciones predeterminadas."
      ],
      "metadata": {
        "id": "rwn8m3orFurz"
      },
      "id": "rwn8m3orFurz"
    },
    {
      "cell_type": "code",
      "execution_count": 9,
      "id": "3fc1c4af-5bfc-4880-9d86-6bcecf7b6c2f",
      "metadata": {
        "colab": {
          "base_uri": "https://localhost:8080/",
          "height": 331
        },
        "id": "3fc1c4af-5bfc-4880-9d86-6bcecf7b6c2f",
        "outputId": "0e1def0a-800f-46e9-8baf-9a56bb0c35cd"
      },
      "outputs": [
        {
          "output_type": "execute_result",
          "data": {
            "text/plain": [
              "     ciudad   ciudad_\n",
              "0  Medellin  Medellin\n",
              "1    Bogota    Bogota\n",
              "2    bogota    Bogota\n",
              "3    bogote    Bogota\n",
              "4   Mdellin  Medellin\n",
              "5  medellin  Medellin\n",
              "6      Cali      Cali\n",
              "7      cali      Cali\n",
              "8      CALI      Cali"
            ],
            "text/html": [
              "\n",
              "  <div id=\"df-753abbf1-b943-4e05-8be2-c3bf8df9a997\">\n",
              "    <div class=\"colab-df-container\">\n",
              "      <div>\n",
              "<style scoped>\n",
              "    .dataframe tbody tr th:only-of-type {\n",
              "        vertical-align: middle;\n",
              "    }\n",
              "\n",
              "    .dataframe tbody tr th {\n",
              "        vertical-align: top;\n",
              "    }\n",
              "\n",
              "    .dataframe thead th {\n",
              "        text-align: right;\n",
              "    }\n",
              "</style>\n",
              "<table border=\"1\" class=\"dataframe\">\n",
              "  <thead>\n",
              "    <tr style=\"text-align: right;\">\n",
              "      <th></th>\n",
              "      <th>ciudad</th>\n",
              "      <th>ciudad_</th>\n",
              "    </tr>\n",
              "  </thead>\n",
              "  <tbody>\n",
              "    <tr>\n",
              "      <th>0</th>\n",
              "      <td>Medellin</td>\n",
              "      <td>Medellin</td>\n",
              "    </tr>\n",
              "    <tr>\n",
              "      <th>1</th>\n",
              "      <td>Bogota</td>\n",
              "      <td>Bogota</td>\n",
              "    </tr>\n",
              "    <tr>\n",
              "      <th>2</th>\n",
              "      <td>bogota</td>\n",
              "      <td>Bogota</td>\n",
              "    </tr>\n",
              "    <tr>\n",
              "      <th>3</th>\n",
              "      <td>bogote</td>\n",
              "      <td>Bogota</td>\n",
              "    </tr>\n",
              "    <tr>\n",
              "      <th>4</th>\n",
              "      <td>Mdellin</td>\n",
              "      <td>Medellin</td>\n",
              "    </tr>\n",
              "    <tr>\n",
              "      <th>5</th>\n",
              "      <td>medellin</td>\n",
              "      <td>Medellin</td>\n",
              "    </tr>\n",
              "    <tr>\n",
              "      <th>6</th>\n",
              "      <td>Cali</td>\n",
              "      <td>Cali</td>\n",
              "    </tr>\n",
              "    <tr>\n",
              "      <th>7</th>\n",
              "      <td>cali</td>\n",
              "      <td>Cali</td>\n",
              "    </tr>\n",
              "    <tr>\n",
              "      <th>8</th>\n",
              "      <td>CALI</td>\n",
              "      <td>Cali</td>\n",
              "    </tr>\n",
              "  </tbody>\n",
              "</table>\n",
              "</div>\n",
              "      <button class=\"colab-df-convert\" onclick=\"convertToInteractive('df-753abbf1-b943-4e05-8be2-c3bf8df9a997')\"\n",
              "              title=\"Convert this dataframe to an interactive table.\"\n",
              "              style=\"display:none;\">\n",
              "        \n",
              "  <svg xmlns=\"http://www.w3.org/2000/svg\" height=\"24px\"viewBox=\"0 0 24 24\"\n",
              "       width=\"24px\">\n",
              "    <path d=\"M0 0h24v24H0V0z\" fill=\"none\"/>\n",
              "    <path d=\"M18.56 5.44l.94 2.06.94-2.06 2.06-.94-2.06-.94-.94-2.06-.94 2.06-2.06.94zm-11 1L8.5 8.5l.94-2.06 2.06-.94-2.06-.94L8.5 2.5l-.94 2.06-2.06.94zm10 10l.94 2.06.94-2.06 2.06-.94-2.06-.94-.94-2.06-.94 2.06-2.06.94z\"/><path d=\"M17.41 7.96l-1.37-1.37c-.4-.4-.92-.59-1.43-.59-.52 0-1.04.2-1.43.59L10.3 9.45l-7.72 7.72c-.78.78-.78 2.05 0 2.83L4 21.41c.39.39.9.59 1.41.59.51 0 1.02-.2 1.41-.59l7.78-7.78 2.81-2.81c.8-.78.8-2.07 0-2.86zM5.41 20L4 18.59l7.72-7.72 1.47 1.35L5.41 20z\"/>\n",
              "  </svg>\n",
              "      </button>\n",
              "      \n",
              "  <style>\n",
              "    .colab-df-container {\n",
              "      display:flex;\n",
              "      flex-wrap:wrap;\n",
              "      gap: 12px;\n",
              "    }\n",
              "\n",
              "    .colab-df-convert {\n",
              "      background-color: #E8F0FE;\n",
              "      border: none;\n",
              "      border-radius: 50%;\n",
              "      cursor: pointer;\n",
              "      display: none;\n",
              "      fill: #1967D2;\n",
              "      height: 32px;\n",
              "      padding: 0 0 0 0;\n",
              "      width: 32px;\n",
              "    }\n",
              "\n",
              "    .colab-df-convert:hover {\n",
              "      background-color: #E2EBFA;\n",
              "      box-shadow: 0px 1px 2px rgba(60, 64, 67, 0.3), 0px 1px 3px 1px rgba(60, 64, 67, 0.15);\n",
              "      fill: #174EA6;\n",
              "    }\n",
              "\n",
              "    [theme=dark] .colab-df-convert {\n",
              "      background-color: #3B4455;\n",
              "      fill: #D2E3FC;\n",
              "    }\n",
              "\n",
              "    [theme=dark] .colab-df-convert:hover {\n",
              "      background-color: #434B5C;\n",
              "      box-shadow: 0px 1px 3px 1px rgba(0, 0, 0, 0.15);\n",
              "      filter: drop-shadow(0px 1px 2px rgba(0, 0, 0, 0.3));\n",
              "      fill: #FFFFFF;\n",
              "    }\n",
              "  </style>\n",
              "\n",
              "      <script>\n",
              "        const buttonEl =\n",
              "          document.querySelector('#df-753abbf1-b943-4e05-8be2-c3bf8df9a997 button.colab-df-convert');\n",
              "        buttonEl.style.display =\n",
              "          google.colab.kernel.accessAllowed ? 'block' : 'none';\n",
              "\n",
              "        async function convertToInteractive(key) {\n",
              "          const element = document.querySelector('#df-753abbf1-b943-4e05-8be2-c3bf8df9a997');\n",
              "          const dataTable =\n",
              "            await google.colab.kernel.invokeFunction('convertToInteractive',\n",
              "                                                     [key], {});\n",
              "          if (!dataTable) return;\n",
              "\n",
              "          const docLinkHtml = 'Like what you see? Visit the ' +\n",
              "            '<a target=\"_blank\" href=https://colab.research.google.com/notebooks/data_table.ipynb>data table notebook</a>'\n",
              "            + ' to learn more about interactive tables.';\n",
              "          element.innerHTML = '';\n",
              "          dataTable['output_type'] = 'display_data';\n",
              "          await google.colab.output.renderOutput(dataTable, element);\n",
              "          const docLink = document.createElement('div');\n",
              "          docLink.innerHTML = docLinkHtml;\n",
              "          element.appendChild(docLink);\n",
              "        }\n",
              "      </script>\n",
              "    </div>\n",
              "  </div>\n",
              "  "
            ]
          },
          "metadata": {},
          "execution_count": 9
        }
      ],
      "source": [
        "#\n",
        "# Nombres validos\n",
        "#\n",
        "valid_names = [\"Medellin\", \"Bogota\", \"Cali\"]\n",
        "df[\"ciudad_\"] = df.ciudad.copy()\n",
        "\n",
        "#\n",
        "# Valor mínimo de similitud para hacer el cambio\n",
        "#\n",
        "min_threshold = 80\n",
        "\n",
        "#\n",
        "# Estructuta básica\n",
        "#\n",
        "for valid_name in valid_names:\n",
        "\n",
        "    potential_matches = process.extract(\n",
        "        valid_name,\n",
        "        df.ciudad,\n",
        "        limit=df.shape[0],\n",
        "    )\n",
        "\n",
        "    for potential_match in potential_matches:\n",
        "\n",
        "        if potential_match[1] >= min_threshold:\n",
        "\n",
        "            df.loc[df.ciudad == potential_match[0], \"ciudad_\"] = valid_name\n",
        "\n",
        "df"
      ]
    }
  ],
  "metadata": {
    "kernelspec": {
      "display_name": "Python 3 (ipykernel)",
      "language": "python",
      "name": "python3"
    },
    "language_info": {
      "codemirror_mode": {
        "name": "ipython",
        "version": 3
      },
      "file_extension": ".py",
      "mimetype": "text/x-python",
      "name": "python",
      "nbconvert_exporter": "python",
      "pygments_lexer": "ipython3",
      "version": "3.8.10"
    },
    "colab": {
      "provenance": []
    }
  },
  "nbformat": 4,
  "nbformat_minor": 5
}